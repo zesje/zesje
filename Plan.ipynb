{
 "cells": [
  {
   "cell_type": "markdown",
   "metadata": {},
   "source": [
    "# Goals\n",
    "\n",
    "## Workflow\n",
    "\n",
    "* Course coordinator supplies the student IDs and names\n",
    "  - *Stretch goal*: use API to get this from blackboard?\n",
    "* Graders create accounts *(stretch goal, may use a single account)*\n",
    "* Examiners make a solution sheet using a template\n",
    "* Examiners register a new exam, provide the template for analysis\n",
    "* Examiners scan solutions, upload the data to the server\n",
    "* Server pre-processes solutions, extracts student IDs, etc\n",
    "* Graders provide feedback for each problem by:\n",
    "  - Selecting an option from a set\n",
    "  - Using free-form text input\n",
    "  - Doodling on the image *(stretch goal)*\n",
    "* Examiners review the overall results and finalize the grading scheme.\n",
    "* The feedback is emailed (?) to the students"
   ]
  },
  {
   "cell_type": "markdown",
   "metadata": {
    "deletable": true,
    "editable": true,
    "extensions": {
     "jupyter_dashboards": {
      "version": 1,
      "views": {
       "grid_default": {
        "col": 0,
        "height": 7,
        "hidden": false,
        "row": 0,
        "width": 12
       },
       "report_default": {}
      }
     }
    }
   },
   "source": [
    "# Components\n",
    "\n",
    "* Dashboard server\n",
    "* Exam paper template\n",
    "  - Read off the student nr using any ML lib [like this one](https://github.com/bikz05/digit-recognition), check against DB *(prototype exists)*\n",
    "  - split into parts based on problems\n",
    "  - [read latex position of solution boxes](http://tex.stackexchange.com/questions/37297/how-to-get-element-position-in-latex)\n",
    "* Problem feedback UI\n",
    "* Single/multiple user?\n",
    "* Data storage\n",
    "  - sqlite"
   ]
  },
  {
   "cell_type": "markdown",
   "metadata": {
    "deletable": true,
    "editable": true,
    "extensions": {
     "jupyter_dashboards": {
      "version": 1,
      "views": {
       "grid_default": {
        "col": 0,
        "height": 6,
        "hidden": false,
        "row": 7,
        "width": 12
       },
       "report_default": {}
      }
     }
    }
   },
   "source": [
    "# Tasks\n",
    "\n",
    "## Component implementations\n",
    "\n",
    "1. Create a DB, populate it with mock data\n",
    "2. Generate a trial exam, print it, fill it with a solution, scan it.\n",
    "3. Generate a page, ask several people to choose a number from a page and write it in a box.\n",
    "4. Generate a mock widget layout for the following actions:\n",
    "    * Add an exam *(stretch goal)*\n",
    "    * Edit problem feedback\n",
    "    * Sort the students\n",
    "    * Navigate and grade the solutions **DONE**"
   ]
  },
  {
   "cell_type": "markdown",
   "metadata": {
    "collapsed": true,
    "deletable": true,
    "editable": true,
    "extensions": {
     "jupyter_dashboards": {
      "version": 1,
      "views": {
       "grid_default": {
        "col": 0,
        "height": 24,
        "hidden": false,
        "row": 13,
        "width": 12
       },
       "report_default": {}
      }
     }
    }
   },
   "source": [
    "# Database structure\n",
    "\n",
    "- Students\n",
    "  + student_id\n",
    "  + first name\n",
    "  + last name\n",
    "  \n",
    "- Graders\n",
    "  + grader_id\n",
    "  + first name\n",
    "  + last name\n",
    "  \n",
    "- Exams\n",
    "  + exam_id\n",
    "  + date\n",
    "  + source filename\n",
    "\n",
    "- Problems\n",
    "  + exam_id\n",
    "  + problem_name\n",
    "  + problem_coordinates\n",
    "\n",
    "- Solutions\n",
    "  + exam_id\n",
    "  + student_id\n",
    "  + filename\n",
    "\n",
    "- feedback\n",
    "  + exam_id\n",
    "  + problem_id\n",
    "  + feedback_text\n",
    "  + feedback_points\n",
    "\n",
    "- evaluation\n",
    "  + student_id\n",
    "  + problem_id\n",
    "  + feedback\n",
    "  + grader_id\n",
    "  + timestamp\n",
    "  + extra remarks"
   ]
  },
  {
   "cell_type": "markdown",
   "metadata": {
    "collapsed": true,
    "deletable": true,
    "editable": true,
    "extensions": {
     "jupyter_dashboards": {
      "version": 1,
      "views": {
       "grid_default": {
        "hidden": true
       },
       "report_default": {}
      }
     }
    }
   },
   "source": [
    "# Exam answer template\n",
    "\n",
    "* Combined with questions or not?\n",
    "  - May need to provide extra info (e.g. axes for a plot) or MCQ boxes\n",
    "* Different pages of the same answer marked by QR codes:\n",
    "  - http://stackoverflow.com/a/27294041/2217463\n",
    "  - https://pypi.python.org/pypi/zbarlight\n",
    "  - QR code content: `{exam_uid};{page};{copy_number}`\n",
    "* Modular, each module has an identifier, bounding box coordinates, and post-processing algorithm\n",
    "  - QR\n",
    "  - Student identification\n",
    "  - Free-graded\n",
    "* Student ID & name\n",
    "  - Form read or digit recognition?\n",
    "* Input format options\n",
    "  - Latex?\n",
    "    + \\+ Good layout tools\n",
    "    + \\+ Standard\n",
    "    + \\- Ugly language, resulting code may be hard to understand.\n",
    "  - Some other script (python + lightweight markup)?\n",
    "    + \\+ Nice language, clean input\n",
    "    + \\- Hard to make a layout\n",
    "  - Inkscape?\n",
    "    + \\+ Flexible\n",
    "    + \\+ Probably little effort to implement\n",
    "    + ? Extracting coordinates\n",
    "    + \\- No automatic layout\n",
    "    + \\- Not scriptable (e.g. QR codes)\n",
    "    + \\- Not good with multipage\n",
    "  - Can also provide the markup information by hand using an arbitrary input\n",
    "* The template is post-processed to a lightweight formatted file with all information about pages/"
   ]
  },
  {
   "cell_type": "code",
   "execution_count": null,
   "metadata": {
    "collapsed": true
   },
   "outputs": [],
   "source": []
  }
 ],
 "metadata": {
  "extensions": {
   "jupyter_dashboards": {
    "activeView": "grid_default",
    "version": 1,
    "views": {
     "grid_default": {
      "cellMargin": 10,
      "defaultCellHeight": 20,
      "maxColumns": 12,
      "name": "grid",
      "type": "grid"
     },
     "report_default": {
      "name": "report",
      "type": "report"
     }
    }
   }
  },
  "kernelspec": {
   "display_name": "Python 3",
   "language": "python",
   "name": "python3"
  },
  "language_info": {
   "codemirror_mode": {
    "name": "ipython",
    "version": 3
   },
   "file_extension": ".py",
   "mimetype": "text/x-python",
   "name": "python",
   "nbconvert_exporter": "python",
   "pygments_lexer": "ipython3",
   "version": "3.5.2"
  }
 },
 "nbformat": 4,
 "nbformat_minor": 2
}
