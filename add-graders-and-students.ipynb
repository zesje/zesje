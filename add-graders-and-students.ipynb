{
 "cells": [
  {
   "cell_type": "code",
   "execution_count": null,
   "metadata": {
    "collapsed": false,
    "extensions": {
     "jupyter_dashboards": {
      "version": 1,
      "views": {
       "grid_default": {
        "hidden": true
       },
       "report_default": {}
      }
     }
    }
   },
   "outputs": [],
   "source": [
    "from types import SimpleNamespace\n",
    "from collections import namedtuple\n",
    "from itertools import starmap\n",
    "import csv\n",
    "\n",
    "import jinja2\n",
    "\n",
    "import ipywidgets\n",
    "from ipywidgets import Label, HBox, VBox, Textarea, Button, Valid, Tab, HTML\n",
    "import traitlets\n",
    "\n",
    "import db\n",
    "db.use_db()"
   ]
  },
  {
   "cell_type": "code",
   "execution_count": null,
   "metadata": {
    "collapsed": false,
    "extensions": {
     "jupyter_dashboards": {
      "version": 1,
      "views": {
       "grid_default": {
        "hidden": true
       },
       "report_default": {}
      }
     }
    }
   },
   "outputs": [],
   "source": [
    "def validate_csv(fmt, data, validator=lambda x: True):\n",
    "    Fields = namedtuple('Fields', fmt)\n",
    "    for entry in csv.reader(data.split('\\n')):\n",
    "        if not entry:\n",
    "            continue\n",
    "        stripped_entry = [e.strip() for e in entry if e.strip()]\n",
    "        if len(stripped_entry) != len(fmt):\n",
    "            raise ValueError('expecting \"{}\" but got: \"{}\"'\n",
    "                             .format(\", \".join(fmt), \", \".join(entry)))\n",
    "        validator(stripped_entry)\n",
    "        yield Fields(*stripped_entry)"
   ]
  },
  {
   "cell_type": "code",
   "execution_count": null,
   "metadata": {
    "collapsed": true,
    "extensions": {
     "jupyter_dashboards": {
      "version": 1,
      "views": {
       "grid_default": {
        "hidden": true
       },
       "report_default": {}
      }
     }
    }
   },
   "outputs": [],
   "source": [
    "def upload_box():\n",
    "    upload = SimpleNamespace()\n",
    "    upload.content = Textarea()\n",
    "    upload.summary = HTML()\n",
    "    upload.submit = Button()\n",
    "    upload.valid = Valid()\n",
    "    upload.status = Label()\n",
    "    upload.box = HBox([VBox([upload.content,\n",
    "                            HBox([upload.submit, upload.status, upload.valid])]),\n",
    "                       upload.summary,\n",
    "                      ])\n",
    "\n",
    "    upload.valid.layout.display = 'none'\n",
    "    upload.valid.layout.margin = \"0 10px\"\n",
    "    #upload.content.width = \"50%\"\n",
    "    #upload.content.height = \"300px\"\n",
    "    #upload.summary.width = \"50%\"\n",
    "    \n",
    "    return upload"
   ]
  },
  {
   "cell_type": "code",
   "execution_count": null,
   "metadata": {
    "collapsed": false,
    "extensions": {
     "jupyter_dashboards": {
      "version": 1,
      "views": {
       "grid_default": {
        "hidden": true
       },
       "report_default": {}
      }
     }
    }
   },
   "outputs": [],
   "source": [
    "graders = upload_box()\n",
    "graders.submit.description = 'Add Graders'\n",
    "graders.content.placeholder = 'First name, Last Name'\n",
    "\n",
    "def render_graders():\n",
    "    template = jinja2.Template('''\n",
    "    <ul>\n",
    "    {% for g in graders %}\n",
    "        <li> {{g.first_name}}, {{g.last_name}} </li>\n",
    "    {% endfor %}\n",
    "    </ul>\n",
    "    ''')\n",
    "    \n",
    "    with db.db_session:\n",
    "        graders.summary.value = template.render(graders=db.Grader.select())\n",
    "\n",
    "        \n",
    "@graders.submit.on_click\n",
    "def _(sender):\n",
    "    try:\n",
    "        data = list(validate_csv(['first_name', 'last_name'],  graders.content.value))\n",
    "    except Exception as e:\n",
    "        graders.status.value = 'invalid data: {}'.format(str(e))\n",
    "        graders.valid.value = False\n",
    "        graders.valid.layout.display = 'inline'\n",
    "        return\n",
    "             \n",
    "    with db.db_session:\n",
    "        for f in data:\n",
    "            f = f._asdict()\n",
    "            if not db.Grader.get(**f):\n",
    "                db.Grader(**f)\n",
    "                \n",
    "    render_graders()\n",
    "    graders.valid.value = True\n",
    "    graders.valid.layout.display = 'inline'\n",
    "    graders.status.value = ''"
   ]
  },
  {
   "cell_type": "code",
   "execution_count": null,
   "metadata": {
    "collapsed": false,
    "extensions": {
     "jupyter_dashboards": {
      "version": 1,
      "views": {
       "grid_default": {
        "hidden": true
       },
       "report_default": {}
      }
     }
    }
   },
   "outputs": [],
   "source": [
    "students = upload_box()\n",
    "students.submit.description = 'Add Students'\n",
    "students.content.placeholder = 'Student ID, First name, Last Name, email address'\n",
    "\n",
    "def render_students():\n",
    "    template = jinja2.Template('''\n",
    "    <ul>\n",
    "    {% for s in students %}\n",
    "        <li> {{s.id}}, {{s.first_name}}, {{s.last_name}}, {{s.email}} </li>\n",
    "    {% endfor %}\n",
    "    </ul>\n",
    "    ''')\n",
    "    \n",
    "    with db.db_session:\n",
    "        students.summary.value = template.render(students=db.Student.select())\n",
    "        \n",
    "\n",
    "def student_validator(args):\n",
    "    id, first_name, last_name, email = args\n",
    "    try:\n",
    "        id = int(id)\n",
    "    except Exception:\n",
    "        raise ValueError('Expected 7-digit student number, but got: {}'.format(id))\n",
    "    \n",
    "    if len(str(id)) != 7:\n",
    "        raise ValueError('Expected 7-digit student number, but got: {}'.format(id))\n",
    "\n",
    "@students.submit.on_click\n",
    "def _(sender):\n",
    "    try:\n",
    "        data = list(validate_csv(['id', 'first_name', 'last_name', 'email'],\n",
    "                                 students.content.value, student_validator))\n",
    "    except Exception as e:\n",
    "        students.status.value = 'invalid data: {}'.format(str(e))\n",
    "        students.valid.value = False\n",
    "        students.valid.layout.display = 'inline'\n",
    "        return\n",
    "    \n",
    "    with db.db_session:\n",
    "        for f in data:\n",
    "            if not db.Student.get(id=f.id):\n",
    "                db.Student(**f._asdict())\n",
    "                \n",
    "    render_students()\n",
    "    students.valid.value = True\n",
    "    students.valid.layout.display = 'inline'\n",
    "    students.status.value = ''"
   ]
  },
  {
   "cell_type": "code",
   "execution_count": null,
   "metadata": {
    "collapsed": false,
    "extensions": {
     "jupyter_dashboards": {
      "version": 1,
      "views": {
       "grid_default": {
        "col": 0,
        "height": 151,
        "hidden": false,
        "row": 0,
        "width": 12
       },
       "report_default": {}
      }
     }
    }
   },
   "outputs": [],
   "source": [
    "\n",
    "render_graders()\n",
    "render_students()\n",
    "\n",
    "content = Tab(children=[graders.box, students.box])\n",
    "content.set_title(0, 'Add Graders')\n",
    "content.set_title(1, 'Add Students')\n",
    "content"
   ]
  }
 ],
 "metadata": {
  "extensions": {
   "jupyter_dashboards": {
    "activeView": "grid_default",
    "version": 1,
    "views": {
     "grid_default": {
      "cellMargin": 10,
      "defaultCellHeight": 20,
      "maxColumns": 12,
      "name": "grid",
      "type": "grid"
     },
     "report_default": {
      "name": "report",
      "type": "report"
     }
    }
   }
  },
  "kernelspec": {
   "display_name": "Python 3",
   "language": "python",
   "name": "python3"
  },
  "language_info": {
   "codemirror_mode": {
    "name": "ipython",
    "version": 3
   },
   "file_extension": ".py",
   "mimetype": "text/x-python",
   "name": "python",
   "nbconvert_exporter": "python",
   "pygments_lexer": "ipython3",
   "version": "3.5.2"
  }
 },
 "nbformat": 4,
 "nbformat_minor": 2
}
