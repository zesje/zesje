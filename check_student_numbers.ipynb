{
 "cells": [
  {
   "cell_type": "code",
   "execution_count": null,
   "metadata": {
    "collapsed": true,
    "extensions": {
     "jupyter_dashboards": {
      "version": 1,
      "views": {
       "grid_default": {
        "hidden": true
       },
       "report_default": {}
      }
     }
    }
   },
   "outputs": [],
   "source": [
    "from itertools import starmap\n",
    "from functools import partial\n",
    "from collections import namedtuple\n",
    "import re\n",
    "import os\n",
    "import datetime\n",
    "import pathlib\n",
    "\n",
    "from IPython import display\n",
    "import traitlets\n",
    "from ipywidgets import Button, Text, SelectMultiple, HBox, VBox, Textarea, Image, Label, HTML, Dropdown, Checkbox\n",
    "import pandas\n",
    "import jinja2\n",
    "from pony import orm\n",
    "\n",
    "from progressbar import ProgressWithTitle\n",
    "\n",
    "import db"
   ]
  },
  {
   "cell_type": "code",
   "execution_count": null,
   "metadata": {
    "extensions": {
     "jupyter_dashboards": {
      "version": 1,
      "views": {
       "grid_default": {
        "col": 0,
        "height": 4,
        "hidden": true,
        "row": 0,
        "width": 12
       },
       "report_default": {
        "hidden": true
       }
      }
     }
    }
   },
   "outputs": [],
   "source": [
    "os.chdir('data')\n",
    "db.use_db(str(pathlib.Path.cwd() / 'course.sqlite'))"
   ]
  },
  {
   "cell_type": "code",
   "execution_count": null,
   "metadata": {
    "collapsed": true,
    "extensions": {
     "jupyter_dashboards": {
      "version": 1,
      "views": {
       "grid_default": {
        "hidden": true
       },
       "report_default": {
        "hidden": true
       }
      }
     }
    }
   },
   "outputs": [],
   "source": [
    "### Javascript kludges to add autocompletion to text boxes and enable multiple selections\n",
    "\n",
    "autocomplete = jinja2.Template(\"\"\"\n",
    "  $( function() {\n",
    "    var availableTags = [\n",
    "    {%- for option in options %}\n",
    "        \"{{ option }}\",\n",
    "    {%- endfor %}\n",
    "    ];\n",
    "    $( \":input[{{ selector }}]\" ).autocomplete({\n",
    "      minLength: 3,\n",
    "      source: availableTags\n",
    "    });\n",
    "  } );\n",
    "\"\"\")"
   ]
  },
  {
   "cell_type": "code",
   "execution_count": null,
   "metadata": {
    "extensions": {
     "jupyter_dashboards": {
      "version": 1,
      "views": {
       "grid_default": {
        "col": 0,
        "height": 3,
        "hidden": false,
        "row": 21,
        "width": 4
       },
       "report_default": {}
      }
     }
    }
   },
   "outputs": [],
   "source": [
    "%%HTML\n",
    "<style>\n",
    ".widget-hbox .widget-label {\n",
    "    max-width: unset ;\n",
    "}\n",
    "</style>"
   ]
  },
  {
   "cell_type": "markdown",
   "metadata": {
    "extensions": {
     "jupyter_dashboards": {
      "version": 1,
      "views": {
       "grid_default": {
        "col": 0,
        "height": 4,
        "hidden": true,
        "row": 13,
        "width": 4
       },
       "report_default": {}
      }
     }
    }
   },
   "source": [
    "# Widget definitions"
   ]
  },
  {
   "cell_type": "code",
   "execution_count": null,
   "metadata": {
    "extensions": {
     "jupyter_dashboards": {
      "version": 1,
      "views": {
       "grid_default": {
        "hidden": true
       },
       "report_default": {}
      }
     }
    }
   },
   "outputs": [],
   "source": [
    "### Views -- all the individual widgets and UI state\n",
    "\n",
    "class AppState(traitlets.HasTraits):\n",
    "    # Immutable\n",
    "    students = traitlets.List(traitlets.Unicode())\n",
    "    exams = traitlets.List(read_only=True)\n",
    "\n",
    "    exam_id = traitlets.Integer()\n",
    "\n",
    "    submission_id = traitlets.Integer()\n",
    "    student = traitlets.Unicode()\n",
    "    email = traitlets.Unicode()\n",
    "    \n",
    "    validated = traitlets.Bool()\n",
    "    \n",
    "    image = traitlets.Bytes()\n",
    "\n",
    "    # --- Defaults and validation ---\n",
    "    ## students\n",
    "    @traitlets.default('students')\n",
    "    def _default_students(self):\n",
    "        with orm.db_session:\n",
    "            return tuple(starmap('{}, {}, {}'.format,\n",
    "                                 orm.select((s.id, s.first_name, s.last_name)\n",
    "                                            for s in db.Student)))\n",
    "    \n",
    "    ## exams\n",
    "    @traitlets.default('exams')\n",
    "    def _default_exams(self):\n",
    "        with orm.db_session:\n",
    "            exams = orm.select(e for e in db.Exam).order_by(lambda e: e.id)\n",
    "            return [(e.name, e.id) for e in exams]\n",
    "\n",
    "    ## exam_id\n",
    "    @traitlets.default('exam_id')\n",
    "    def _default_exam_id(self):\n",
    "        with orm.db_session:\n",
    "            # Nonempty exam with the most recent yaml\n",
    "            return sorted(db.Exam.select(lambda e: len(e.submissions)),\n",
    "                          key=lambda e: os.path.getmtime(e.yaml_path))[-1].id\n",
    "\n",
    "    @traitlets.validate('exam_id')\n",
    "    def _valid_exam(self, proposal):\n",
    "        with orm.db_session():\n",
    "            if db.Exam.get(id=proposal['value']) is None:\n",
    "                raise traitlets.TraitError('Unknown exam id.')\n",
    "        return proposal['value']\n",
    "\n",
    "    ## submission_id\n",
    "    @traitlets.default('submission_id')\n",
    "    def _default_submission_id(self):\n",
    "        with orm.db_session:\n",
    "            sid = (orm.select(s.id for s in db.Submission\n",
    "                             if s.exam.id == self.exam_id \n",
    "                                and not s.signature_validated)\n",
    "                      .first())\n",
    "            return sid or -1\n",
    "\n",
    "    @traitlets.validate('submission_id')\n",
    "    def _valid_submission_id(self, proposal):\n",
    "        sid = proposal['value']\n",
    "        if sid == -1:\n",
    "            return sid\n",
    "        with orm.db_session():\n",
    "            sub = db.Submission.get(id=sid)\n",
    "            if sub is None:\n",
    "                raise traitlets.TraitError('Unknown submission id.')\n",
    "            if sub.exam.id != self.exam_id:\n",
    "                raise traitlets.TraitError('Submission from a different exam.')\n",
    "        return sid\n",
    "    \n",
    "    @traitlets.default('validated')\n",
    "    def _default_validated(self):\n",
    "        with orm.db_session():\n",
    "            return db.Submission[self.submission_id].signature_validated\n",
    "    \n",
    "    @traitlets.default('student')\n",
    "    def _default_student(self, sid=None):\n",
    "        sid = sid or self.submission_id\n",
    "        with orm.db_session:\n",
    "            stud = db.Submission[sid].student\n",
    "            if stud is None:\n",
    "                return ''\n",
    "\n",
    "            return '{}, {}, {}'.format(stud.id, stud.first_name, stud.last_name)\n",
    "    \n",
    "    @traitlets.default('email')\n",
    "    def _default_email(self):\n",
    "        match = re.match(r'(\\d{7}), (.+), (.+)', self.student)\n",
    "        if match is None:\n",
    "            return ''\n",
    "        else:\n",
    "            number, *_ = match.groups()\n",
    "\n",
    "        with orm.db_session:\n",
    "            stud = db.Student.get(id=int(number))\n",
    "            if stud is not None:\n",
    "                return stud.email or ''\n",
    "            return ''\n",
    "\n",
    "    @traitlets.default('image')\n",
    "    def signature_image(self, sid=None):\n",
    "        if sid is None:\n",
    "            sid = self.submission_id\n",
    "        with orm.db_session:\n",
    "            sub = db.Submission[sid]\n",
    "            try:\n",
    "                if sub.signature_image_path != 'None':\n",
    "                    with open(sub.signature_image_path, 'rb') as f:\n",
    "                        return f.read()\n",
    "                else:\n",
    "                    *_, widgets = db.read_yaml(sub.exam.yaml_path)\n",
    "                    first_page = next(p.path for p in sub.pages if 'page1.' in p.path)\n",
    "                    image = db.get_widget_image(first_page, widgets.loc['studentnr'])\n",
    "            except Exception:\n",
    "                return b''\n",
    "                \n",
    "        return image\n",
    "\n",
    "    ## --- Trait relations ---\n",
    "    @traitlets.observe('exam_id')\n",
    "    def _change_exam(self, change):\n",
    "        self.submission_id = self._default_submission_id()\n",
    "        \n",
    "    @traitlets.observe('submission_id')\n",
    "    def _change_submission(self, change):\n",
    "        self.image = self.signature_image()\n",
    "        self.student = self._default_student()\n",
    "        self.email = self._default_email()\n",
    "        self.validated = self._default_validated()\n",
    "\n",
    "    def commit_student(self):\n",
    "        if is_not_student(self.student):\n",
    "            return\n",
    "        sid = self.submission_id\n",
    "        # Parse the student entry\n",
    "        student_nr, first_name, last_name = re.match(r'(\\d{7}), (.+), (.+)',\n",
    "                                                     self.student).groups()\n",
    "        first_name = first_name.strip()\n",
    "        last_name = last_name.strip()\n",
    "        email = self.email.strip()\n",
    "        with orm.db_session:\n",
    "            stud = db.Student.get(id=int(student_nr)) or\\\n",
    "                   db.Student(id=student_nr, first_name=first_name, last_name=last_name)\n",
    "            if first_name:\n",
    "                stud.first_name = first_name\n",
    "            if last_name:\n",
    "                stud.last_name = last_name\n",
    "            if email:\n",
    "                stud.email = email\n",
    "\n",
    "            db.Submission[sid].student = stud\n",
    "            db.Submission[sid].signature_validated = True\n",
    "        \n",
    "    @traitlets.observe('student')\n",
    "    def _update_email(self, change):\n",
    "        self.email = self._default_email()\n",
    "\n",
    "    # --- Navigation\n",
    "    def next_submission(self, unchecked_only=False):\n",
    "        with orm.db_session:\n",
    "            own_sub = db.Submission[self.submission_id]\n",
    "            subs = (db.Submission\n",
    "                      .select()\n",
    "                      .filter(lambda s: s.exam.id == self.exam_id \n",
    "                                        and s.id > self.submission_id\n",
    "                                        and (not unchecked_only or not s.signature_validated))\n",
    "                      .order_by(lambda s: s)\n",
    "                   )\n",
    "            result = subs.first()\n",
    "            if result is None:\n",
    "                # We're at the last (unchecked) submission.\n",
    "                subs = (db.Submission\n",
    "                          .select()\n",
    "                          .filter(lambda s: s.exam.id == self.exam_id\n",
    "                                            and (not unchecked_only or not s.signature_validated))\n",
    "                          .order_by(lambda s: s)\n",
    "                       )\n",
    "                result = subs.first()\n",
    "            if result is not None:\n",
    "                self.submission_id = result.id\n",
    "    \n",
    "    def submissions_number(self, exam_id=None):\n",
    "        with orm.db_session:\n",
    "            return orm.count(db.Submission.select(lambda s: s.exam.id == (exam_id and self.exam_id)))\n",
    "\n",
    "    def progress(self, sid=None):\n",
    "        with orm.db_session:\n",
    "            return orm.count(db.Submission.select(lambda s: s.exam.id == self.exam_id\n",
    "                                                            and s.signature_validated))\n",
    "\n",
    "\n",
    "state = AppState()\n",
    "\n",
    "def is_not_student(student):\n",
    "    try:\n",
    "        student_nr, first_name, last_name = re.match(r'(\\d{7}), (.+), (.+)',\n",
    "                                                     student).groups()\n",
    "        return False\n",
    "    except AttributeError:\n",
    "        return True\n",
    "\n",
    "\n",
    "exam = Dropdown(options=state.exams)\n",
    "traitlets.link((state, 'exam_id'), (exam, 'value'))\n",
    "\n",
    "validate_and_next = Button(icon='fa-check-circle', description=' validate & next')\n",
    "@validate_and_next.on_click\n",
    "def _validate_and_next(sender=None):\n",
    "    state.commit_student()\n",
    "    state.next_submission(unchecked_only=True)\n",
    "\n",
    "next_sub = Button(icon='fa-step-forward', description=' next')\n",
    "next_sub.on_click(lambda change: state.next_submission())\n",
    "\n",
    "validated = Checkbox(description='Checked', disabled=True)\n",
    "traitlets.link((state, 'validated'), (validated, 'value'))\n",
    "\n",
    "student_info = Text(placeholder='number, first, last')\n",
    "traitlets.link((state, 'student'), (student_info, 'value'))\n",
    "\n",
    "email_info = Text(placeholder='email')\n",
    "traitlets.link((state, 'email'), (email_info, 'value'))\n",
    "\n",
    "signature = Image(format='png', width='100%')\n",
    "traitlets.directional_link((state, 'image'), (signature, 'value'))\n",
    "\n",
    "number_progress = ProgressWithTitle(\n",
    "    min=0,\n",
    "    step=1,\n",
    "    title='Progress:',\n",
    "    bar_style='success',\n",
    "    orientation='horizontal',\n",
    ")\n",
    "\n",
    "traitlets.directional_link((state, 'exam_id'), (number_progress, 'max'), state.submissions_number)\n",
    "traitlets.directional_link((state, 'submission_id'), (number_progress, 'value'), state.progress)\n",
    "traitlets.directional_link((state, 'submission_id'), (number_progress, 'value'), state.progress);"
   ]
  },
  {
   "cell_type": "markdown",
   "metadata": {
    "extensions": {
     "jupyter_dashboards": {
      "version": 1,
      "views": {
       "grid_default": {
        "col": 8,
        "height": 4,
        "hidden": true,
        "row": 13,
        "width": 4
       },
       "report_default": {}
      }
     }
    }
   },
   "source": [
    "# Layout"
   ]
  },
  {
   "cell_type": "code",
   "execution_count": null,
   "metadata": {
    "extensions": {
     "jupyter_dashboards": {
      "version": 1,
      "views": {
       "grid_default": {
        "col": 0,
        "height": 3,
        "hidden": false,
        "row": 0,
        "width": 12
       },
       "report_default": {}
      }
     }
    }
   },
   "outputs": [],
   "source": [
    "VBox([HBox([exam, number_progress]),\n",
    "      HBox([validated, student_info, email_info, validate_and_next, next_sub])])"
   ]
  },
  {
   "cell_type": "code",
   "execution_count": null,
   "metadata": {
    "extensions": {
     "jupyter_dashboards": {
      "version": 1,
      "views": {
       "grid_default": {
        "col": 0,
        "height": 16,
        "hidden": false,
        "row": 3,
        "width": 12
       },
       "report_default": {}
      }
     }
    }
   },
   "outputs": [],
   "source": [
    "signature"
   ]
  },
  {
   "cell_type": "code",
   "execution_count": null,
   "metadata": {
    "extensions": {
     "jupyter_dashboards": {
      "version": 1,
      "views": {
       "grid_default": {
        "col": 0,
        "height": 2,
        "hidden": false,
        "row": 19,
        "width": 1
       },
       "report_default": {}
      }
     }
    }
   },
   "outputs": [],
   "source": [
    "# apply javascript kludges\n",
    "# must trigger after the widgets were rendered\n",
    "\n",
    "selector = \"placeholder='{}'\".format(student_info.placeholder)\n",
    "display.display_javascript(display.Javascript(autocomplete.render(selector=selector, options=state.students)))"
   ]
  }
 ],
 "metadata": {
  "anaconda-cloud": {},
  "extensions": {
   "jupyter_dashboards": {
    "activeView": "grid_default",
    "version": 1,
    "views": {
     "grid_default": {
      "cellMargin": 10,
      "defaultCellHeight": 20,
      "maxColumns": 12,
      "name": "grid",
      "type": "grid"
     },
     "report_default": {
      "name": "report",
      "type": "report"
     }
    }
   }
  },
  "kernelspec": {
   "display_name": "Python 3",
   "language": "python",
   "name": "python3"
  },
  "language_info": {
   "codemirror_mode": {
    "name": "ipython",
    "version": 3
   },
   "file_extension": ".py",
   "mimetype": "text/x-python",
   "name": "python",
   "nbconvert_exporter": "python",
   "pygments_lexer": "ipython3",
   "version": "3.6.2"
  }
 },
 "nbformat": 4,
 "nbformat_minor": 2
}
