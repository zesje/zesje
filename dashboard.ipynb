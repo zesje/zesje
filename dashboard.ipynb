{
 "cells": [
  {
   "cell_type": "markdown",
   "metadata": {
    "deletable": true,
    "editable": true,
    "extensions": {
     "jupyter_dashboards": {
      "version": 1,
      "views": {
       "grid_default": {
        "hidden": true
       },
       "report_default": {}
      }
     }
    }
   },
   "source": [
    "# TODO\n",
    "\n",
    "* Add actions:\n",
    "  - Delete/edit feedback option\n",
    "  - Switch students\n",
    "* Hook up database\n",
    "* Make a dashboard layout\n",
    "* Deploy"
   ]
  },
  {
   "cell_type": "code",
   "execution_count": 6,
   "metadata": {
    "collapsed": false,
    "deletable": true,
    "editable": true,
    "extensions": {
     "jupyter_dashboards": {
      "version": 1,
      "views": {
       "grid_default": {
        "hidden": true
       },
       "report_default": {}
      }
     }
    }
   },
   "outputs": [],
   "source": [
    "from IPython import display\n",
    "from ipywidgets import Button, Text, SelectMultiple, HBox, VBox, Textarea, Image\n",
    "import pandas\n",
    "import jinja2\n",
    "import time\n",
    "\n",
    "from itertools import starmap\n",
    "from collections import namedtuple\n",
    "import random"
   ]
  },
  {
   "cell_type": "code",
   "execution_count": 7,
   "metadata": {
    "collapsed": false
   },
   "outputs": [],
   "source": [
    "Results = namedtuple('Results', ('Number', 'Name'))"
   ]
  },
  {
   "cell_type": "code",
   "execution_count": 8,
   "metadata": {
    "collapsed": false
   },
   "outputs": [],
   "source": [
    "names = \"\"\"\\\n",
    "    Reggie Miron  \n",
    "    Wanetta Sporer  \n",
    "    Anthony Olden  \n",
    "    Saran Larusso  \n",
    "    Allyn Whitis  \n",
    "    Davida Buda  \n",
    "    Kristie Stubblefield  \n",
    "    Zoraida Loudon  \n",
    "    Madge Rogge  \n",
    "    Marylyn Folkes  \n",
    "    Sindy Judy  \n",
    "    Therese Jourdan  \n",
    "    Kassie Pinion  \n",
    "    Angella Rudloff  \n",
    "    Trudie Freas  \n",
    "    Tayna Mule  \n",
    "    Tami Hippert  \n",
    "    Blanche Alvidrez  \n",
    "    Rupert Wolken  \n",
    "    Madalyn Watkins  \n",
    "    Reita Lubinsky  \n",
    "    Johnny Paules  \n",
    "    Lenita Weddell  \n",
    "    Lieselotte Scarpa  \n",
    "    Eda Koelling  \n",
    "    Cary Gallaher  \n",
    "    Ebonie Brathwaite  \n",
    "    Shane Pugsley  \n",
    "    Velva Cranston  \n",
    "    Stefan Joesph\n",
    "\"\"\".split('\\n')[:-1]  # remove last newline\n",
    "\n",
    "numbers = [random.randint(0, int(1E7)) for name in names]\n",
    "\n",
    "results = Results(numbers, names)"
   ]
  },
  {
   "cell_type": "code",
   "execution_count": 9,
   "metadata": {
    "collapsed": false,
    "deletable": true,
    "editable": true,
    "extensions": {
     "jupyter_dashboards": {
      "version": 1,
      "views": {
       "grid_default": {
        "hidden": true
       },
       "report_default": {}
      }
     }
    }
   },
   "outputs": [],
   "source": [
    "\n",
    "students = list(starmap(\"{0} ({1})\".format, zip(results.Number, results.Name)))"
   ]
  },
  {
   "cell_type": "code",
   "execution_count": 10,
   "metadata": {
    "collapsed": false,
    "deletable": true,
    "editable": true,
    "extensions": {
     "jupyter_dashboards": {
      "version": 1,
      "views": {
       "grid_default": {
        "col": 0,
        "height": 8,
        "hidden": false,
        "row": 0,
        "width": 8
       },
       "report_default": {}
      }
     }
    }
   },
   "outputs": [
    {
     "name": "stderr",
     "output_type": "stream",
     "text": [
      "Widget Javascript not detected.  It may not be installed properly. Did you enable the widgetsnbextension? If not, then run \"jupyter nbextension enable --py --sys-prefix widgetsnbextension\"\n"
     ]
    },
    {
     "data": {
      "application/javascript": [
       "\n",
       "  $( function() {\n",
       "    var availableTags = [\n",
       "    \"7124939 (    Reggie Miron  )\",\n",
       "    \"7749673 (    Wanetta Sporer  )\",\n",
       "    \"7035391 (    Anthony Olden  )\",\n",
       "    \"816317 (    Saran Larusso  )\",\n",
       "    \"5011524 (    Allyn Whitis  )\",\n",
       "    \"6876919 (    Davida Buda  )\",\n",
       "    \"5945853 (    Kristie Stubblefield  )\",\n",
       "    \"2386936 (    Zoraida Loudon  )\",\n",
       "    \"7204030 (    Madge Rogge  )\",\n",
       "    \"4188821 (    Marylyn Folkes  )\",\n",
       "    \"5467120 (    Sindy Judy  )\",\n",
       "    \"9846568 (    Therese Jourdan  )\",\n",
       "    \"2777786 (    Kassie Pinion  )\",\n",
       "    \"5040343 (    Angella Rudloff  )\",\n",
       "    \"7397395 (    Trudie Freas  )\",\n",
       "    \"1271468 (    Tayna Mule  )\",\n",
       "    \"9836116 (    Tami Hippert  )\",\n",
       "    \"1546825 (    Blanche Alvidrez  )\",\n",
       "    \"9425063 (    Rupert Wolken  )\",\n",
       "    \"5723229 (    Madalyn Watkins  )\",\n",
       "    \"767241 (    Reita Lubinsky  )\",\n",
       "    \"9630697 (    Johnny Paules  )\",\n",
       "    \"1138245 (    Lenita Weddell  )\",\n",
       "    \"6907626 (    Lieselotte Scarpa  )\",\n",
       "    \"5348496 (    Eda Koelling  )\",\n",
       "    \"8780870 (    Cary Gallaher  )\",\n",
       "    \"4292813 (    Ebonie Brathwaite  )\",\n",
       "    \"6039982 (    Shane Pugsley  )\",\n",
       "    \"8381237 (    Velva Cranston  )\",\n",
       "    \"471843 (    Stefan Joesph)\",\n",
       "    \n",
       "    ];\n",
       "    $( \":input[placeholder='# or name']\" ).autocomplete({\n",
       "      minLength: 3,\n",
       "      source: availableTags\n",
       "    });\n",
       "  } );"
      ]
     },
     "metadata": {},
     "output_type": "display_data"
    },
    {
     "data": {
      "application/javascript": [
       "\n",
       "window.onmousedown = function (e) {\n",
       "    var el = e.target;\n",
       "    if (el.tagName.toLowerCase() == 'option' && el.parentNode.hasAttribute('multiple')) {\n",
       "        e.preventDefault();\n",
       "\n",
       "        // toggle selection\n",
       "        if (el.hasAttribute('selected')) el.removeAttribute('selected');\n",
       "        else el.setAttribute('selected', '');\n",
       "\n",
       "        // hack to correct buggy behavior\n",
       "        var select = el.parentNode.cloneNode(true);\n",
       "        el.parentNode.parentNode.replaceChild(select, el.parentNode);\n",
       "    }\n",
       "}\n"
      ]
     },
     "metadata": {},
     "output_type": "display_data"
    }
   ],
   "source": [
    "autocomplete = jinja2.Template(\"\"\"\n",
    "  $( function() {\n",
    "    var availableTags = [\n",
    "    {% for option in options %}\"{{ option }}\",\n",
    "    {% endfor %}\n",
    "    ];\n",
    "    $( \":input[{{ selector }}]\" ).autocomplete({\n",
    "      minLength: 3,\n",
    "      source: availableTags\n",
    "    });\n",
    "  } );\n",
    "\"\"\")\n",
    "\n",
    "prevent_unselect = \"\"\"\n",
    "window.onmousedown = function (e) {\n",
    "    var el = e.target;\n",
    "    if (el.tagName.toLowerCase() == 'option' && el.parentNode.hasAttribute('multiple')) {\n",
    "        e.preventDefault();\n",
    "\n",
    "        // toggle selection\n",
    "        if (el.hasAttribute('selected')) el.removeAttribute('selected');\n",
    "        else el.setAttribute('selected', '');\n",
    "\n",
    "        // hack to correct buggy behavior\n",
    "        var select = el.parentNode.cloneNode(true);\n",
    "        el.parentNode.parentNode.replaceChild(select, el.parentNode);\n",
    "    }\n",
    "}\n",
    "\"\"\"\n",
    "\n",
    "selector = \"placeholder='# or name'\"\n",
    "\n",
    "def add_option(target):\n",
    "    def wrapper(sender):\n",
    "        with target.hold_trait_notifications():\n",
    "            target.options = target.options + [sender.value]\n",
    "        sender.value = ''\n",
    "    return wrapper\n",
    "\n",
    "# All the individual widgets\n",
    "\n",
    "prev_stud = Button(icon='fa-fast-backward', description=' previous')\n",
    "next_stud = Button(icon='fa-fast-forward', description=' submit & next', button_style='warning')\n",
    "next_stud_in_list = Button(icon='fa-forward', description=' next')\n",
    "jump_to_stud = Text(description='Jump to', placeholder='# or name')\n",
    "\n",
    "previous_problem = Button(icon='fa-arrow-circle-up', description=' previous problem')\n",
    "next_problem = Button(icon='fa-arrow-circle-down', description=' next problem')\n",
    "\n",
    "options_feedback = SelectMultiple(name='feedback', options=['Everything correct', 'No solution provided'])\n",
    "new_option = Text(placeholder='New feedback option')\n",
    "new_option.on_submit(add_option(options_feedback))\n",
    "student_specific = Textarea(placeholder='Student-specific feedback')\n",
    "#with open('test_exam/test_page_00.png', 'rb') as f:\n",
    "#    data = f.read()\n",
    "#answer = Image(value=data, format='png', width='100%')\n",
    "\n",
    "widgets = VBox([\n",
    "        HBox([prev_stud, next_stud, next_stud_in_list, jump_to_stud]),\n",
    "        HBox([next_problem, previous_problem]),\n",
    "        HBox([VBox([options_feedback, new_option]), student_specific]),\n",
    "        #answer,\n",
    "])\n",
    "\n",
    "display.display(widgets)\n",
    "time.sleep(.1)\n",
    "display.display_javascript(display.Javascript(autocomplete.render(selector=selector, options=students)))\n",
    "display.display_javascript(display.Javascript(prevent_unselect))"
   ]
  },
  {
   "cell_type": "code",
   "execution_count": null,
   "metadata": {
    "collapsed": true,
    "deletable": true,
    "editable": true,
    "extensions": {
     "jupyter_dashboards": {
      "version": 1,
      "views": {
       "grid_default": {
        "col": 8,
        "height": 18,
        "hidden": false,
        "row": 0,
        "width": 4
       },
       "report_default": {}
      }
     }
    }
   },
   "outputs": [],
   "source": [
    "answer"
   ]
  },
  {
   "cell_type": "code",
   "execution_count": null,
   "metadata": {
    "collapsed": false,
    "deletable": true,
    "editable": true,
    "extensions": {
     "jupyter_dashboards": {
      "version": 1,
      "views": {
       "grid_default": {
        "col": 4,
        "height": 4,
        "hidden": true,
        "row": 8,
        "width": 4
       },
       "report_default": {}
      }
     }
    }
   },
   "outputs": [],
   "source": [
    "from PIL import Image\n",
    "import zbarlight\n",
    "\n",
    "file_path = 'qr_code_businesscard.jpg'\n",
    "with open(file_path, 'rb') as image_file:\n",
    "    image = Image.open(image_file)\n",
    "    image.load()\n",
    "\n",
    "codes = zbarlight.scan_codes('qrcode', image)\n",
    "print('QR codes: %s' % codes)"
   ]
  },
  {
   "cell_type": "code",
   "execution_count": null,
   "metadata": {
    "collapsed": true,
    "deletable": true,
    "editable": true
   },
   "outputs": [],
   "source": []
  }
 ],
 "metadata": {
  "extensions": {
   "jupyter_dashboards": {
    "activeView": "grid_default",
    "version": 1,
    "views": {
     "grid_default": {
      "cellMargin": 10,
      "defaultCellHeight": 20,
      "maxColumns": 12,
      "name": "grid",
      "type": "grid"
     },
     "report_default": {
      "name": "report",
      "type": "report"
     }
    }
   }
  },
  "kernelspec": {
   "display_name": "Python 3",
   "language": "python",
   "name": "python3"
  },
  "language_info": {
   "codemirror_mode": {
    "name": "ipython",
    "version": 3
   },
   "file_extension": ".py",
   "mimetype": "text/x-python",
   "name": "python",
   "nbconvert_exporter": "python",
   "pygments_lexer": "ipython3",
   "version": "3.5.3"
  },
  "widgets": {
   "state": {
    "0281c7c69011478394b318fb6cd9f526": {
     "views": [
      {
       "cell_index": 3
      }
     ]
    }
   },
   "version": "1.2.0"
  }
 },
 "nbformat": 4,
 "nbformat_minor": 2
}
