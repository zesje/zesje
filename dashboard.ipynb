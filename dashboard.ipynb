{
 "cells": [
  {
   "cell_type": "markdown",
   "metadata": {
    "deletable": true,
    "editable": true,
    "extensions": {
     "jupyter_dashboards": {
      "version": 1,
      "views": {
       "grid_default": {
        "col": 0,
        "height": 7,
        "hidden": false,
        "row": 4,
        "width": 12
       },
       "report_default": {
        "hidden": false
       }
      }
     }
    }
   },
   "source": [
    "# TODO\n",
    "\n",
    "* Add actions:\n",
    "  - Delete/edit feedback option\n",
    "  - Switch students\n",
    "* Hook up database\n",
    "* Make a dashboard layout\n",
    "* Deploy"
   ]
  },
  {
   "cell_type": "code",
   "execution_count": 1,
   "metadata": {
    "collapsed": false,
    "deletable": true,
    "editable": true,
    "extensions": {
     "jupyter_dashboards": {
      "version": 1,
      "views": {
       "grid_default": {
        "col": 0,
        "height": 4,
        "hidden": false,
        "row": 0,
        "width": 12
       },
       "report_default": {
        "hidden": true
       }
      }
     }
    }
   },
   "outputs": [],
   "source": [
    "from itertools import starmap\n",
    "from collections import namedtuple\n",
    "import random\n",
    "import time\n",
    "\n",
    "from IPython import display\n",
    "from ipywidgets import Button, Text, SelectMultiple, HBox, VBox, Textarea, Image\n",
    "import pandas\n",
    "import jinja2\n",
    "from pony import orm\n",
    "\n",
    "import db"
   ]
  },
  {
   "cell_type": "code",
   "execution_count": 8,
   "metadata": {
    "collapsed": false,
    "extensions": {
     "jupyter_dashboards": {
      "version": 1,
      "views": {
       "grid_default": {
        "hidden": true
       },
       "report_default": {
        "hidden": true
       }
      }
     }
    }
   },
   "outputs": [],
   "source": [
    "### Javascript kludges to add autocompletion to text boxes and enable multiple selections\n",
    "\n",
    "autocomplete = jinja2.Template(\"\"\"\n",
    "  $( function() {\n",
    "    var availableTags = [\n",
    "    {%- for option in options %}\n",
    "        \"{{ option }}\",\n",
    "    {%- endfor %}\n",
    "    ];\n",
    "    $( \":input[{{ selector }}]\" ).autocomplete({\n",
    "      minLength: 3,\n",
    "      source: availableTags\n",
    "    });\n",
    "  } );\n",
    "\"\"\")\n",
    "\n",
    "prevent_unselect = \"\"\"\n",
    "window.onmousedown = function (e) {\n",
    "    var el = e.target;\n",
    "    if (el.tagName.toLowerCase() == 'option' && el.parentNode.hasAttribute('multiple')) {\n",
    "        e.preventDefault();\n",
    "\n",
    "        // toggle selection\n",
    "        if (el.hasAttribute('selected')) el.removeAttribute('selected');\n",
    "        else el.setAttribute('selected', '');\n",
    "\n",
    "        // hack to correct buggy behavior\n",
    "        var select = el.parentNode.cloneNode(true);\n",
    "        el.parentNode.parentNode.replaceChild(select, el.parentNode);\n",
    "    }\n",
    "}\n",
    "\"\"\"\n",
    "\n",
    "def add_option(target):\n",
    "    def wrapper(sender):\n",
    "        # add to database\n",
    "        with orm.db_session:\n",
    "            if not db.FeedbackOption.exists(text=sender.value):\n",
    "                db.FeedbackOption(text=sender.value, problems=db.Problem[problem_id_global])\n",
    "            \n",
    "        with target.hold_trait_notifications():\n",
    "            target.options = target.options + [sender.value]\n",
    "        sender.value = ''\n",
    "    return wrapper"
   ]
  },
  {
   "cell_type": "code",
   "execution_count": 9,
   "metadata": {
    "collapsed": false
   },
   "outputs": [],
   "source": [
    "### Model -- grab data from database\n",
    "\n",
    "# grab data from database\n",
    "students = list(starmap('{} ({} {})'.format, orm.select((s.id, s.first_name, s.last_name) for s in db.Student)))\n",
    "feedback_options = [f.text for f in db.FeedbackOption.select()]\n",
    "\n",
    "problem_id_global = 1\n",
    "submission_id_global = 1"
   ]
  },
  {
   "cell_type": "code",
   "execution_count": 10,
   "metadata": {
    "collapsed": false,
    "deletable": true,
    "editable": true,
    "extensions": {
     "jupyter_dashboards": {
      "version": 1,
      "views": {
       "grid_default": {
        "col": 0,
        "height": 8,
        "hidden": false,
        "row": 11,
        "width": 8
       },
       "report_default": {
        "hidden": false
       }
      }
     }
    }
   },
   "outputs": [],
   "source": [
    "### All the individual widgets\n",
    "\n",
    "prev_stud = Button(icon='fa-fast-backward', description=' previous')\n",
    "next_stud = Button(icon='fa-fast-forward', description=' submit & next', button_style='warning')\n",
    "next_stud_in_list = Button(icon='fa-forward', description=' next')\n",
    "jump_to_stud = Text(description='Jump to', placeholder='# or name')\n",
    "\n",
    "previous_problem = Button(icon='fa-arrow-circle-up', description=' previous problem')\n",
    "next_problem = Button(icon='fa-arrow-circle-down', description=' next problem')\n",
    "\n",
    "options_feedback = SelectMultiple(name='feedback', options=['Everything correct', 'No solution provided'])\n",
    "new_option = Text(placeholder='New feedback option')\n",
    "new_option.on_submit(add_option(options_feedback))\n",
    "student_specific = Textarea(placeholder='Student-specific feedback')\n",
    "#with open('test_exam/sample_data.jpg', 'rb') as f:\n",
    "#    data = f.read()\n",
    "#answer = Image(value=data, format='png', width='100%')\n"
   ]
  },
  {
   "cell_type": "code",
   "execution_count": 11,
   "metadata": {
    "collapsed": true,
    "extensions": {
     "jupyter_dashboards": {
      "version": 1,
      "views": {
       "grid_default": {
        "hidden": true
       },
       "report_default": {
        "hidden": true
       }
      }
     }
    }
   },
   "outputs": [],
   "source": [
    "### Widget layout\n",
    "\n",
    "widgets = VBox([\n",
    "        HBox([prev_stud, next_stud, next_stud_in_list, jump_to_stud]),\n",
    "        HBox([next_problem, previous_problem]),\n",
    "        HBox([VBox([options_feedback, new_option]), student_specific]),\n",
    "        #answer,\n",
    "])"
   ]
  },
  {
   "cell_type": "code",
   "execution_count": 12,
   "metadata": {
    "collapsed": false,
    "extensions": {
     "jupyter_dashboards": {
      "version": 1,
      "views": {
       "grid_default": {
        "col": 0,
        "height": 9,
        "hidden": false,
        "row": 19,
        "width": 9
       },
       "report_default": {
        "hidden": false
       }
      }
     }
    }
   },
   "outputs": [
    {
     "data": {
      "application/javascript": [
       "\n",
       "  $( function() {\n",
       "    var availableTags = [\n",
       "        \"1723258 (Reggie Miron)\",\n",
       "        \"1827087 (Allyn Whitis)\",\n",
       "        \"2015211 (Reita Lubinsky)\",\n",
       "        \"2091825 (Trudie Freas)\",\n",
       "        \"2692371 (Zoraida Loudon)\",\n",
       "        \"2736431 (Kristie Stubblefield)\",\n",
       "        \"2891358 (Saran Larusso)\",\n",
       "        \"3881824 (Lieselotte Scarpa)\",\n",
       "        \"4173959 (Velva Cranston)\",\n",
       "        \"4502576 (Cary Gallaher)\",\n",
       "        \"4668859 (Shane Pugsley)\",\n",
       "        \"5009729 (Tayna Mule)\",\n",
       "        \"5398816 (Ebonie Brathwaite)\",\n",
       "        \"5652122 (Johnny Paules)\",\n",
       "        \"5740788 (Eda Koelling)\",\n",
       "        \"6055179 (Davida Buda)\",\n",
       "        \"6299027 (Tami Hippert)\",\n",
       "        \"7026894 (Rupert Wolken)\",\n",
       "        \"7140370 (Anthony Olden)\",\n",
       "        \"7195603 (Kassie Pinion)\",\n",
       "        \"7711823 (Marylyn Folkes)\",\n",
       "        \"7743175 (Madge Rogge)\",\n",
       "        \"8171637 (Stefan Joesph)\",\n",
       "        \"8433318 (Sindy Judy)\",\n",
       "        \"9126547 (Lenita Weddell)\",\n",
       "        \"9142523 (Wanetta Sporer)\",\n",
       "        \"9193416 (Madalyn Watkins)\",\n",
       "        \"9302054 (Angella Rudloff)\",\n",
       "        \"9406049 (Blanche Alvidrez)\",\n",
       "        \"9893570 (Therese Jourdan)\",\n",
       "    ];\n",
       "    $( \":input[placeholder='# or name']\" ).autocomplete({\n",
       "      minLength: 3,\n",
       "      source: availableTags\n",
       "    });\n",
       "  } );"
      ]
     },
     "metadata": {},
     "output_type": "display_data"
    }
   ],
   "source": [
    "### Widget rendering\n",
    "\n",
    "# display widgets\n",
    "display.display(widgets)\n",
    "\n",
    "# apply javascript kludges\n",
    "selector = \"placeholder='{}'\".format(jump_to_stud.placeholder)\n",
    "display.display_javascript(display.Javascript(autocomplete.render(selector=selector, options=students)))\n",
    "display.display_javascript(prevent_unselect)"
   ]
  },
  {
   "cell_type": "code",
   "execution_count": null,
   "metadata": {
    "collapsed": true
   },
   "outputs": [],
   "source": []
  }
 ],
 "metadata": {
  "anaconda-cloud": {},
  "extensions": {
   "jupyter_dashboards": {
    "activeView": "report_default",
    "version": 1,
    "views": {
     "grid_default": {
      "cellMargin": 10,
      "defaultCellHeight": 20,
      "maxColumns": 12,
      "name": "grid",
      "type": "grid"
     },
     "report_default": {
      "name": "report",
      "type": "report"
     }
    }
   }
  },
  "kernelspec": {
   "display_name": "Python 3",
   "language": "python",
   "name": "python3"
  },
  "language_info": {
   "codemirror_mode": {
    "name": "ipython",
    "version": 3
   },
   "file_extension": ".py",
   "mimetype": "text/x-python",
   "name": "python",
   "nbconvert_exporter": "python",
   "pygments_lexer": "ipython3",
   "version": "3.5.2"
  },
  "widgets": {
   "state": {
    "85020c7bbbfb423892f0dc329a8d8449": {
     "views": [
      {
       "cell_index": 6
      }
     ]
    }
   },
   "version": "1.2.0"
  }
 },
 "nbformat": 4,
 "nbformat_minor": 2
}
