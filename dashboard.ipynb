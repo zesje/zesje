{
 "cells": [
  {
   "cell_type": "markdown",
   "metadata": {
    "deletable": true,
    "editable": true,
    "extensions": {
     "jupyter_dashboards": {
      "version": 1,
      "views": {
       "grid_default": {
        "hidden": true
       },
       "report_default": {}
      }
     }
    }
   },
   "source": [
    "# TODO\n",
    "\n",
    "* Add actions:\n",
    "  - Delete/edit feedback option\n",
    "  - Switch students\n",
    "* Hook up database\n",
    "* Make a dashboard layout\n",
    "* Deploy"
   ]
  },
  {
   "cell_type": "code",
   "execution_count": 55,
   "metadata": {
    "collapsed": false,
    "deletable": true,
    "editable": true,
    "extensions": {
     "jupyter_dashboards": {
      "version": 1,
      "views": {
       "grid_default": {
        "hidden": true
       },
       "report_default": {}
      }
     }
    }
   },
   "outputs": [],
   "source": [
    "from IPython import display\n",
    "from ipywidgets import Button, Text, SelectMultiple, HBox, VBox, Textarea, Image\n",
    "import pandas\n",
    "import jinja2\n",
    "import time"
   ]
  },
  {
   "cell_type": "code",
   "execution_count": 56,
   "metadata": {
    "collapsed": false,
    "deletable": true,
    "editable": true,
    "extensions": {
     "jupyter_dashboards": {
      "version": 1,
      "views": {
       "grid_default": {
        "hidden": true
       },
       "report_default": {}
      }
     }
    }
   },
   "outputs": [],
   "source": [
    "results = pandas.read_excel('Results TN2844 2016-2.xls')\n",
    "\n",
    "students = list(map(lambda numbername: \"{0} ({1})\".format(*numbername), zip(results.Number, results.Name)))"
   ]
  },
  {
   "cell_type": "code",
   "execution_count": 59,
   "metadata": {
    "collapsed": false,
    "deletable": true,
    "editable": true,
    "extensions": {
     "jupyter_dashboards": {
      "version": 1,
      "views": {
       "grid_default": {
        "col": 0,
        "height": 8,
        "hidden": false,
        "row": 0,
        "width": 8
       },
       "report_default": {}
      }
     }
    }
   },
   "outputs": [
    {
     "data": {
      "application/javascript": [
       "\n",
       "  $( function() {\n",
       "    var availableTags = [\n",
       "    \"4522877 (Agterhorst, Niels)\",\n",
       "    \"4220390 (Akkerman, David)\",\n",
       "    \"4303539 (Amghar, Siham)\",\n",
       "    \"4311876 (An, Kevin)\",\n",
       "    \"4005139 (Apon, Bas)\",\n",
       "    \"4268377 (Bathelt, Marc)\",\n",
       "    \"4314921 (Beij, Julian)\",\n",
       "    \"4295943 (Bergh, Oliver van den)\",\n",
       "    \"4274881 (Biesen, Jan Karel van den)\",\n",
       "    \"4306120 (Blokker, Joris)\",\n",
       "    \"4208307 (Blonk, Wendy)\",\n",
       "    \"4321219 (Bon, Thijs)\",\n",
       "    \"4091825 (Botter, Roel)\",\n",
       "    \"1316842 (Breebaart, Thomas)\",\n",
       "    \"4088131 (Brinkman, Evelien)\",\n",
       "    \"4174879 (Broeders, Theo)\",\n",
       "    \"4241290 (Buwalda, Floris)\",\n",
       "    \"4166892 (Campert, Anna)\",\n",
       "    \"4260120 (Crielaard, Damien)\",\n",
       "    \"4289293 (Demirbas, Burak)\",\n",
       "    \"4298853 (Dijk, Daan van)\",\n",
       "    \"4296001 (Dijkstra, Jasper)\",\n",
       "    \"4228197 (Dikland, Tim)\",\n",
       "    \"4287983 (Dotinga, Renger)\",\n",
       "    \"4238699 (Eck, Friso van)\",\n",
       "    \"4099044 (Eenhoorn, Jasper)\",\n",
       "    \"4304306 (Egmond, Chris van)\",\n",
       "    \"4210190 (Eijkel, Dirk)\",\n",
       "    \"4282175 (Es, Romy van)\",\n",
       "    \"4274482 (Evers, Guus)\",\n",
       "    \"4315510 (Flikweert, Andries)\",\n",
       "    \"4283503 (Geerits, Niels)\",\n",
       "    \"4281012 (Gharibaan, Rebecca)\",\n",
       "    \"4285808 (Giannakoudakis, Grigori)\",\n",
       "    \"4314735 (Guo, Leo)\",\n",
       "    \"4285816 (Ham, Daan van der)\",\n",
       "    \"4278429 (Havermans, Geoffrey)\",\n",
       "    \"4219007 (Heester, Sander)\",\n",
       "    \"4312082 (Hoeven, Roeland ter)\",\n",
       "    \"4246292 (Hoogsteen, Wietse)\",\n",
       "    \"4268210 (Hooven, Thomas van den)\",\n",
       "    \"1307673 (Huisman, Jurriaan)\",\n",
       "    \"4221796 (Ibrahimi, Atia)\",\n",
       "    \"4232003 (Jong, Jildou de)\",\n",
       "    \"1517953 (Jong, Koen de)\",\n",
       "    \"4325222 (Jonoski, Ilin)\",\n",
       "    \"4270258 (Joosten, Tom)\",\n",
       "    \"4139259 (Kate, Nathasja ten)\",\n",
       "    \"4283813 (Keijser, Alexander)\",\n",
       "    \"4325281 (Kok, Thomas)\",\n",
       "    \"4247159 (Konings, Daan)\",\n",
       "    \"4290615 (Kortleven, Matthias)\",\n",
       "    \"4110749 (Koster, Rick)\",\n",
       "    \"4310772 (Kruis, Maarten)\",\n",
       "    \"4254813 (Kruse, Nicolas)\",\n",
       "    \"4310268 (Kuile, David ter)\",\n",
       "    \"4304535 (Langerak, Nicky)\",\n",
       "    \"4229681 (Locht, Lieuwe)\",\n",
       "    \"4323157 (Luger, Robert)\",\n",
       "    \"4162447 (Makkinje, Andri)\",\n",
       "    \"4244494 (Meer, Julius van der)\",\n",
       "    \"4272668 (Meer, Remco van der)\",\n",
       "    \"4280415 (Meeuwissen, Axel)\",\n",
       "    \"4224442 (Mink, Maaike)\",\n",
       "    \"4281268 (Moerman, Arend)\",\n",
       "    \"4285018 (Mooij, Cas de)\",\n",
       "    \"4297601 (Mortel, Thijs van de)\",\n",
       "    \"4177223 (Mulder, Jason)\",\n",
       "    \"4229657 (Muller, Douwe)\",\n",
       "    \"9597127 (Nederlof, Andre)\",\n",
       "    \"1056697 (Noordzij, Niels)\",\n",
       "    \"4227301 (Ohm, Jeroen)\",\n",
       "    \"4322444 (Oosterhout, Mink van)\",\n",
       "    \"4282388 (Otemann, Lennart)\",\n",
       "    \"4284569 (Pols, Daniel)\",\n",
       "    \"4318544 (Pothoven, Coosje)\",\n",
       "    \"4221141 (Raaijman, Fabian)\",\n",
       "    \"4315618 (Ramakers, Senja)\",\n",
       "    \"4178327 (Reus, Rens)\",\n",
       "    \"4334523 (Rooijen, Freek van)\",\n",
       "    \"4326598 (Rook, Remco)\",\n",
       "    \"4238842 (Rosłoń, Irek)\",\n",
       "    \"4311582 (Ruiter, Stijn)\",\n",
       "    \"4169891 (Rutjes, Dwayne)\",\n",
       "    \"4313860 (Rutka, Igor)\",\n",
       "    \"4190823 (Saad, Shadi)\",\n",
       "    \"4323874 (Scheijen, Nelleke)\",\n",
       "    \"4263383 (Schornagel, Sander)\",\n",
       "    \"4176030 (Sheombarsing, Umit)\",\n",
       "    \"4319311 (Sluis, Jesse van)\",\n",
       "    \"4304705 (Star, Martijn van der)\",\n",
       "    \"1311972 (Stavenuiter, Oene)\",\n",
       "    \"4303105 (Stiphout, Wouter)\",\n",
       "    \"4327454 (Teitsma, Jacco)\",\n",
       "    \"4086546 (Termaat, Ruben)\",\n",
       "    \"4085248 (Teuling, Rob den)\",\n",
       "    \"4004329 (Tomasöa, Esmeralda)\",\n",
       "    \"4223330 (Tran, Alex)\",\n",
       "    \"4319257 (Tuyll, Frederique van)\",\n",
       "    \"4271122 (Vermeulen, Kiefer)\",\n",
       "    \"4187350 (Vervliet, Benjamin)\",\n",
       "    \"4002822 (Vliet, Sven van)\",\n",
       "    \"4138325 (Voort, Fieneke van der)\",\n",
       "    \"4149882 (Vos, Daan de)\",\n",
       "    \"4295781 (Vries, Leon de)\",\n",
       "    \"1538896 (Waardenburg, Daan)\",\n",
       "    \"4289064 (Wang, Peng-Cheng)\",\n",
       "    \"4248317 (Wendt, Sebas)\",\n",
       "    \"4167880 (Werner, Oliver)\",\n",
       "    \"4483855 (Wijnen, Kimberlin van)\",\n",
       "    \"4234499 (Winkens, Jim)\",\n",
       "    \"4289994 (You, Tong)\",\n",
       "    \"4218175 (Zwarts, Erik)\",\n",
       "    \n",
       "    ];\n",
       "    $( \":input[placeholder='# or name']\" ).autocomplete({\n",
       "      minLength: 3,\n",
       "      source: availableTags\n",
       "    });\n",
       "  } );"
      ]
     },
     "metadata": {},
     "output_type": "display_data"
    },
    {
     "data": {
      "application/javascript": [
       "\n",
       "window.onmousedown = function (e) {\n",
       "    var el = e.target;\n",
       "    if (el.tagName.toLowerCase() == 'option' && el.parentNode.hasAttribute('multiple')) {\n",
       "        e.preventDefault();\n",
       "\n",
       "        // toggle selection\n",
       "        if (el.hasAttribute('selected')) el.removeAttribute('selected');\n",
       "        else el.setAttribute('selected', '');\n",
       "\n",
       "        // hack to correct buggy behavior\n",
       "        var select = el.parentNode.cloneNode(true);\n",
       "        el.parentNode.parentNode.replaceChild(select, el.parentNode);\n",
       "    }\n",
       "}\n"
      ]
     },
     "metadata": {},
     "output_type": "display_data"
    }
   ],
   "source": [
    "autocomplete = jinja2.Template(\"\"\"\n",
    "  $( function() {\n",
    "    var availableTags = [\n",
    "    {% for option in options %}\"{{ option }}\",\n",
    "    {% endfor %}\n",
    "    ];\n",
    "    $( \":input[{{ selector }}]\" ).autocomplete({\n",
    "      minLength: 3,\n",
    "      source: availableTags\n",
    "    });\n",
    "  } );\n",
    "\"\"\")\n",
    "\n",
    "prevent_unselect = \"\"\"\n",
    "window.onmousedown = function (e) {\n",
    "    var el = e.target;\n",
    "    if (el.tagName.toLowerCase() == 'option' && el.parentNode.hasAttribute('multiple')) {\n",
    "        e.preventDefault();\n",
    "\n",
    "        // toggle selection\n",
    "        if (el.hasAttribute('selected')) el.removeAttribute('selected');\n",
    "        else el.setAttribute('selected', '');\n",
    "\n",
    "        // hack to correct buggy behavior\n",
    "        var select = el.parentNode.cloneNode(true);\n",
    "        el.parentNode.parentNode.replaceChild(select, el.parentNode);\n",
    "    }\n",
    "}\n",
    "\"\"\"\n",
    "\n",
    "selector = \"placeholder='# or name'\"\n",
    "\n",
    "def add_option(target):\n",
    "    def wrapper(sender):\n",
    "        with target.hold_trait_notifications():\n",
    "            target.options = target.options + [sender.value]\n",
    "        sender.value = ''\n",
    "    return wrapper\n",
    "\n",
    "# All the individual widgets\n",
    "\n",
    "prev_stud = Button(icon='fa-fast-backward', description=' previous')\n",
    "next_stud = Button(icon='fa-fast-forward', description=' submit & next', button_style='warning')\n",
    "next_stud_in_list = Button(icon='fa-forward', description=' next')\n",
    "jump_to_stud = Text(description='Jump to', placeholder='# or name')\n",
    "\n",
    "previous_problem = Button(icon='fa-arrow-circle-up', description=' previous problem')\n",
    "next_problem = Button(icon='fa-arrow-circle-down', description=' next problem')\n",
    "\n",
    "options_feedback = SelectMultiple(name='feedback', options=['Everything correct', 'No solution provided'])\n",
    "new_option = Text(placeholder='New feedback option')\n",
    "new_option.on_submit(add_option(options_feedback))\n",
    "student_specific = Textarea(placeholder='Student-specific feedback')\n",
    "with open('test_exam/test_page_00.png', 'rb') as f:\n",
    "    data = f.read()\n",
    "answer = Image(value=data, format='png', width='100%')\n",
    "\n",
    "widgets = VBox([\n",
    "        HBox([prev_stud, next_stud, next_stud_in_list, jump_to_stud]),\n",
    "        HBox([next_problem, previous_problem]),\n",
    "        HBox([VBox([options_feedback, new_option]), student_specific]),\n",
    "        answer\n",
    "])\n",
    "\n",
    "display.display(widgets)\n",
    "time.sleep(.1)\n",
    "display.display_javascript(display.Javascript(autocomplete.render(selector=selector, options=students)))\n",
    "display.display_javascript(display.Javascript(prevent_unselect))"
   ]
  },
  {
   "cell_type": "code",
   "execution_count": 47,
   "metadata": {
    "collapsed": true,
    "deletable": true,
    "editable": true,
    "extensions": {
     "jupyter_dashboards": {
      "version": 1,
      "views": {
       "grid_default": {
        "col": 8,
        "height": 18,
        "hidden": false,
        "row": 0,
        "width": 4
       },
       "report_default": {}
      }
     }
    }
   },
   "outputs": [],
   "source": [
    "answer"
   ]
  },
  {
   "cell_type": "code",
   "execution_count": 53,
   "metadata": {
    "collapsed": false,
    "deletable": true,
    "editable": true,
    "extensions": {
     "jupyter_dashboards": {
      "version": 1,
      "views": {
       "grid_default": {
        "col": 4,
        "height": 4,
        "hidden": true,
        "row": 8,
        "width": 4
       },
       "report_default": {}
      }
     }
    }
   },
   "outputs": [
    {
     "name": "stdout",
     "output_type": "stream",
     "text": [
      "QR codes: [b'BEGIN:VCARD\\nN:Sergio Garc\\xef\\xbe\\x83\\xef\\xbd\\xada Caso\\nTEL:902286386\\nEMAIL:sergio.garcia@treelogic.com\\nEND:VCARD']\n"
     ]
    }
   ],
   "source": [
    "from PIL import Image\n",
    "import zbarlight\n",
    "\n",
    "file_path = 'qr_code_businesscard.jpg'\n",
    "with open(file_path, 'rb') as image_file:\n",
    "    image = Image.open(image_file)\n",
    "    image.load()\n",
    "\n",
    "codes = zbarlight.scan_codes('qrcode', image)\n",
    "print('QR codes: %s' % codes)"
   ]
  },
  {
   "cell_type": "code",
   "execution_count": null,
   "metadata": {
    "collapsed": true,
    "deletable": true,
    "editable": true
   },
   "outputs": [],
   "source": []
  }
 ],
 "metadata": {
  "extensions": {
   "jupyter_dashboards": {
    "activeView": "grid_default",
    "version": 1,
    "views": {
     "grid_default": {
      "cellMargin": 10,
      "defaultCellHeight": 20,
      "maxColumns": 12,
      "name": "grid",
      "type": "grid"
     },
     "report_default": {
      "name": "report",
      "type": "report"
     }
    }
   }
  },
  "kernelspec": {
   "display_name": "Python 3",
   "language": "python",
   "name": "python3"
  },
  "language_info": {
   "codemirror_mode": {
    "name": "ipython",
    "version": 3
   },
   "file_extension": ".py",
   "mimetype": "text/x-python",
   "name": "python",
   "nbconvert_exporter": "python",
   "pygments_lexer": "ipython3",
   "version": "3.5.2"
  },
  "widgets": {
   "state": {
    "7849ac2151314d9c9f237754e2f11f29": {
     "views": [
      {
       "cell_index": 3
      }
     ]
    }
   },
   "version": "1.2.0"
  }
 },
 "nbformat": 4,
 "nbformat_minor": 2
}
