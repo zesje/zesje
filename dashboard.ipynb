{
 "cells": [
  {
   "cell_type": "markdown",
   "metadata": {
    "deletable": true,
    "editable": true,
    "extensions": {
     "jupyter_dashboards": {
      "version": 1,
      "views": {
       "grid_default": {
        "col": 0,
        "height": 7,
        "hidden": true,
        "row": 4,
        "width": 12
       },
       "report_default": {
        "hidden": false
       }
      }
     }
    }
   },
   "source": [
    "# TODO\n",
    "\n",
    "* Add actions:\n",
    "  - Delete/edit feedback option\n",
    "  - Switch students\n",
    "* Hook up database\n",
    "* Make a dashboard layout\n",
    "\n",
    "* Deploy\n",
    "\n",
    "### Greying out widgets\n",
    "When a solution has been graded, navigating to that solution *should display* all the feedback,\n",
    "but the grader should not be able to alter it (feedback, addfeedbackoption, remark and submit widgets\n",
    "should be greyed out).\n",
    "\n",
    "These widgets should also be greyed out when there is another grader already looking at this solution\n",
    "(otherwise people may waste time grading the same solution, even though we can enforce that the\n",
    "first grader to submit their feedback \"wins\" in our business logic)."
   ]
  },
  {
   "cell_type": "code",
   "execution_count": 1,
   "metadata": {
    "collapsed": false,
    "deletable": true,
    "editable": true,
    "extensions": {
     "jupyter_dashboards": {
      "version": 1,
      "views": {
       "grid_default": {
        "col": 0,
        "height": 4,
        "hidden": true,
        "row": 0,
        "width": 12
       },
       "report_default": {
        "hidden": true
       }
      }
     }
    }
   },
   "outputs": [],
   "source": [
    "from itertools import starmap\n",
    "from collections import namedtuple\n",
    "import random\n",
    "import time\n",
    "\n",
    "from IPython import display\n",
    "from ipywidgets import Button, Text, SelectMultiple, HBox, VBox, Textarea, Image, Label\n",
    "import pandas\n",
    "import jinja2\n",
    "from pony import orm\n",
    "\n",
    "import db"
   ]
  },
  {
   "cell_type": "code",
   "execution_count": 2,
   "metadata": {
    "collapsed": false,
    "extensions": {
     "jupyter_dashboards": {
      "version": 1,
      "views": {
       "grid_default": {
        "hidden": true
       },
       "report_default": {
        "hidden": true
       }
      }
     }
    }
   },
   "outputs": [],
   "source": [
    "### Javascript kludges to add autocompletion to text boxes and enable multiple selections\n",
    "\n",
    "autocomplete = jinja2.Template(\"\"\"\n",
    "  $( function() {\n",
    "    var availableTags = [\n",
    "    {%- for option in options %}\n",
    "        \"{{ option }}\",\n",
    "    {%- endfor %}\n",
    "    ];\n",
    "    $( \":input[{{ selector }}]\" ).autocomplete({\n",
    "      minLength: 3,\n",
    "      source: availableTags\n",
    "    });\n",
    "  } );\n",
    "\"\"\")\n",
    "\n",
    "prevent_unselect = \"\"\"\n",
    "window.onmousedown = function (e) {\n",
    "    var el = e.target;\n",
    "    if (el.tagName.toLowerCase() == 'option' && el.parentNode.hasAttribute('multiple')) {\n",
    "        e.preventDefault();\n",
    "\n",
    "        // toggle selection\n",
    "        if (el.hasAttribute('selected')) el.removeAttribute('selected');\n",
    "        else el.setAttribute('selected', '');\n",
    "\n",
    "        // hack to correct buggy behavior\n",
    "        var select = el.parentNode.cloneNode(true);\n",
    "        el.parentNode.parentNode.replaceChild(select, el.parentNode);\n",
    "    }\n",
    "}\n",
    "\"\"\""
   ]
  },
  {
   "cell_type": "markdown",
   "metadata": {
    "extensions": {
     "jupyter_dashboards": {
      "version": 1,
      "views": {
       "grid_default": {
        "col": 0,
        "height": 4,
        "hidden": true,
        "row": 13,
        "width": 4
       },
       "report_default": {}
      }
     }
    }
   },
   "source": [
    "# Widget definitions"
   ]
  },
  {
   "cell_type": "code",
   "execution_count": 3,
   "metadata": {
    "collapsed": false,
    "deletable": true,
    "editable": true,
    "extensions": {
     "jupyter_dashboards": {
      "version": 1,
      "views": {
       "grid_default": {
        "col": 0,
        "height": 8,
        "hidden": true,
        "row": 4,
        "width": 8
       },
       "report_default": {
        "hidden": false
       }
      }
     }
    }
   },
   "outputs": [],
   "source": [
    "### Views -- all the individual widgets and UI state\n",
    "\n",
    "## Immutable app state\n",
    "with orm.db_session:\n",
    "    n_submissions = db.Submission.select().count()\n",
    "    n_problems = db.Problem.select().count()\n",
    "    students = tuple(starmap('{} ({} {})'.format, orm.select((s.id, s.first_name, s.last_name) for s in db.Student)))\n",
    "    problems = tuple(orm.select(p.name for p in db.Problem))\n",
    "\n",
    "## Mutable app state\n",
    "\n",
    "# the solution that we are pointing to\n",
    "submission_id = 1\n",
    "problem_id = 1\n",
    "\n",
    "## Solution selection (submission x problem) matrix\n",
    "prev_stud = Button(icon='fa-fast-backward', description=' previous')\n",
    "submit_and_next_stud = Button(icon='fa-fast-forward', description=' submit & next', button_style='warning')\n",
    "next_stud = Button(icon='fa-forward', description=' next')\n",
    "jump_to_stud = Text(description='Jump to', placeholder='student # or name')\n",
    "submission_label = Label(description='Submission {} / {}')\n",
    "\n",
    "prev_problem = Button(icon='fa-arrow-circle-up', description=' previous problem')\n",
    "submit_and_next_problem = Button(icon='fa-arrow-circle-down', description=' submit & next problem',\n",
    "                                 button_style='warning')\n",
    "next_problem = Button(icon='fa-arrow-circle-down', description=' next problem')\n",
    "jump_to_problem = Text(description='Jump to', placeholder='problem #')\n",
    "problem_label = Label(description='Problem {} / {}')\n",
    "\n",
    "## Add feedback option\n",
    "new_option = Text(placeholder='New feedback option')\n",
    "\n",
    "## Solution and FeedbackOption\n",
    "options_feedback = SelectMultiple(name='feedback')\n",
    "student_specific = Textarea(placeholder='Student-specific feedback')\n",
    "answer = Image(format='png', width='100%')"
   ]
  },
  {
   "cell_type": "markdown",
   "metadata": {
    "extensions": {
     "jupyter_dashboards": {
      "version": 1,
      "views": {
       "grid_default": {
        "col": 4,
        "height": 4,
        "hidden": true,
        "row": 13,
        "width": 4
       },
       "report_default": {}
      }
     }
    }
   },
   "source": [
    "# Widget behaviour"
   ]
  },
  {
   "cell_type": "code",
   "execution_count": 4,
   "metadata": {
    "collapsed": false,
    "extensions": {
     "jupyter_dashboards": {
      "version": 1,
      "views": {
       "grid_default": {
        "hidden": true
       },
       "report_default": {
        "hidden": true
       }
      }
     }
    }
   },
   "outputs": [],
   "source": [
    "### Controllers  -- hooking views (widgets) up to models\n",
    "\n",
    "## Utilities\n",
    "\n",
    "def add_option(target, value):\n",
    "    with target.hold_trait_notifications():\n",
    "        target.options = target.options + [value]\n",
    "    \n",
    "def load_image(path):\n",
    "    with open(path, 'rb') as f:\n",
    "        return f.read()\n",
    "\n",
    "# render the solution widgets\n",
    "def render_solution():\n",
    "    with orm.db_session:\n",
    "        # this works because Solution has '(submission, problem)' as its PrimaryKey\n",
    "        solution = db.Solution.get(submission=submission_id, problem=problem_id)\n",
    "        # get actual data back before we finish the database transaction\n",
    "        possible_feedback = [f.text for f in solution.problem.feedback_options]\n",
    "        selected_feedback = [f.text for f in solution.feedback]\n",
    "\n",
    "    # update the UI state\n",
    "    submission_label.value = submission_label.description.format(submission_id, n_submissions)\n",
    "    problem_label.value = problem_label.description.format(problem_id, n_problems)\n",
    "    answer.value= load_image(solution.image_path)\n",
    "    options_feedback.options = possible_feedback\n",
    "    options_feedback.value = selected_feedback\n",
    "    student_specific.value = solution.remarks\n",
    "    \n",
    "def render_after(callback):\n",
    "    \n",
    "    def _(sender):\n",
    "        callback(sender)\n",
    "        render_solution()\n",
    "\n",
    "    return _\n",
    "\n",
    "## actual controllers - abusing decorator syntax FTW!\n",
    "\n",
    "@prev_stud.on_click\n",
    "@render_after\n",
    "def _(sender):\n",
    "    global submission_id\n",
    "    if submission_id > 1:\n",
    "        submission_id -= 1\n",
    "    # else flash a message \"already on first student\"\n",
    "\n",
    "@next_stud.on_click\n",
    "@render_after\n",
    "def _(sender):\n",
    "    global submission_id\n",
    "    if submission_id < n_submissions:\n",
    "        submission_id += 1\n",
    "    # else flash a message \"already on last student\"\n",
    "\n",
    "@submit_and_next_stud.on_click \n",
    "@render_after\n",
    "def _(sender):\n",
    "    global submission_id\n",
    "    if submission_id < n_submissions:\n",
    "        submission_id += 1\n",
    "        # TODO: update db\n",
    "    # else flash a message \"already on first student\"\n",
    "\n",
    "@prev_problem.on_click\n",
    "@render_after\n",
    "def _(sender):\n",
    "    global problem_id\n",
    "    if problem_id > 1:\n",
    "        problem_id -=1\n",
    "    # else flash a message \"already on first problem\"\n",
    "    \n",
    "@next_problem.on_click\n",
    "@render_after\n",
    "def _(sender):\n",
    "    global problem_id\n",
    "    if problem_id < n_problems:\n",
    "        problem_id +=1\n",
    "    # else flash a message \"already on last problem\"\n",
    "    \n",
    "@submit_and_next_problem.on_click\n",
    "@render_after\n",
    "def _(sender):\n",
    "    global problem_id\n",
    "    if problem_id < n_problems:\n",
    "        problem_id +=1\n",
    "        # TODO: update db\n",
    "    # else flash a message \"already on last problem\"\n",
    "\n",
    "@new_option.on_submit\n",
    "def _(sender):\n",
    "    # add to database\n",
    "    with orm.db_session:\n",
    "        if sender.value.strip() and not db.FeedbackOption.exists(text=sender.value):\n",
    "            db.FeedbackOption(text=sender.value, problems=db.Problem[problem_id])\n",
    "            # update UI state manually rather than doing a full re-render\n",
    "            add_option(options_feedback, sender.value)\n",
    "    sender.value = ''"
   ]
  },
  {
   "cell_type": "code",
   "execution_count": 5,
   "metadata": {
    "collapsed": false,
    "extensions": {
     "jupyter_dashboards": {
      "version": 1,
      "views": {
       "grid_default": {
        "hidden": true
       },
       "report_default": {}
      }
     }
    }
   },
   "outputs": [
    {
     "data": {
      "application/javascript": [
       "\n",
       "  $( function() {\n",
       "    var availableTags = [\n",
       "        \"5999308 (Reggie Miron)\",\n",
       "        \"6531766 (Allyn Whitis)\",\n",
       "        \"7432752 (Kristie Stubblefield)\",\n",
       "        \"8039786 (Davida Buda)\",\n",
       "    ];\n",
       "    $( \":input[placeholder='student # or name']\" ).autocomplete({\n",
       "      minLength: 3,\n",
       "      source: availableTags\n",
       "    });\n",
       "  } );"
      ]
     },
     "metadata": {},
     "output_type": "display_data"
    },
    {
     "data": {
      "application/javascript": [
       "\n",
       "  $( function() {\n",
       "    var availableTags = [\n",
       "        \"1\",\n",
       "        \"2a\",\n",
       "        \"2b\",\n",
       "        \"2c\",\n",
       "        \"2d\",\n",
       "    ];\n",
       "    $( \":input[placeholder='problem #']\" ).autocomplete({\n",
       "      minLength: 3,\n",
       "      source: availableTags\n",
       "    });\n",
       "  } );"
      ]
     },
     "metadata": {},
     "output_type": "display_data"
    }
   ],
   "source": [
    "# apply javascript kludges\n",
    "for widget, options in [(jump_to_stud, students), (jump_to_problem, problems)]:\n",
    "    selector = \"placeholder='{}'\".format(widget.placeholder)\n",
    "    display.display_javascript(display.Javascript(autocomplete.render(selector=selector, options=options)))\n",
    "display.display_javascript(prevent_unselect)"
   ]
  },
  {
   "cell_type": "markdown",
   "metadata": {
    "extensions": {
     "jupyter_dashboards": {
      "version": 1,
      "views": {
       "grid_default": {
        "col": 8,
        "height": 4,
        "hidden": true,
        "row": 13,
        "width": 4
       },
       "report_default": {}
      }
     }
    }
   },
   "source": [
    "# Layout"
   ]
  },
  {
   "cell_type": "code",
   "execution_count": 9,
   "metadata": {
    "collapsed": false,
    "extensions": {
     "jupyter_dashboards": {
      "version": 1,
      "views": {
       "grid_default": {
        "col": 0,
        "height": 8,
        "hidden": true,
        "row": 4,
        "width": 12
       },
       "report_default": {
        "hidden": false
       }
      }
     }
    }
   },
   "outputs": [],
   "source": [
    "render_solution()"
   ]
  },
  {
   "cell_type": "code",
   "execution_count": 13,
   "metadata": {
    "collapsed": false,
    "extensions": {
     "jupyter_dashboards": {
      "version": 1,
      "views": {
       "grid_default": {
        "col": 0,
        "height": 2,
        "hidden": false,
        "row": 8,
        "width": 12
       },
       "report_default": {}
      }
     }
    }
   },
   "outputs": [],
   "source": [
    "HBox([prev_stud, next_stud, submit_and_next_stud, jump_to_stud, submission_label])"
   ]
  },
  {
   "cell_type": "code",
   "execution_count": 14,
   "metadata": {
    "collapsed": false,
    "extensions": {
     "jupyter_dashboards": {
      "version": 1,
      "views": {
       "grid_default": {
        "col": 0,
        "height": 2,
        "hidden": false,
        "row": 10,
        "width": 12
       },
       "report_default": {}
      }
     }
    }
   },
   "outputs": [],
   "source": [
    "HBox([next_problem, prev_problem, submit_and_next_problem, jump_to_problem, problem_label])"
   ]
  },
  {
   "cell_type": "code",
   "execution_count": 15,
   "metadata": {
    "collapsed": false,
    "extensions": {
     "jupyter_dashboards": {
      "version": 1,
      "views": {
       "grid_default": {
        "col": 0,
        "height": 6,
        "hidden": false,
        "row": 12,
        "width": 7
       },
       "report_default": {}
      }
     }
    }
   },
   "outputs": [],
   "source": [
    "HBox([VBox([options_feedback, new_option]), student_specific])"
   ]
  },
  {
   "cell_type": "code",
   "execution_count": 18,
   "metadata": {
    "collapsed": true,
    "extensions": {
     "jupyter_dashboards": {
      "version": 1,
      "views": {
       "grid_default": {
        "col": 0,
        "height": 8,
        "hidden": false,
        "row": 0,
        "width": 12
       },
       "report_default": {}
      }
     }
    }
   },
   "outputs": [],
   "source": [
    "render_solution()\n",
    "answer"
   ]
  }
 ],
 "metadata": {
  "anaconda-cloud": {},
  "extensions": {
   "jupyter_dashboards": {
    "activeView": "grid_default",
    "version": 1,
    "views": {
     "grid_default": {
      "cellMargin": 10,
      "defaultCellHeight": 20,
      "maxColumns": 12,
      "name": "grid",
      "type": "grid"
     },
     "report_default": {
      "name": "report",
      "type": "report"
     }
    }
   }
  },
  "kernelspec": {
   "display_name": "Python 3",
   "language": "python",
   "name": "python3"
  },
  "language_info": {
   "codemirror_mode": {
    "name": "ipython",
    "version": 3
   },
   "file_extension": ".py",
   "mimetype": "text/x-python",
   "name": "python",
   "nbconvert_exporter": "python",
   "pygments_lexer": "ipython3",
   "version": "3.5.2"
  },
  "widgets": {
   "state": {
    "111de6773ef1420886627c4273ad0a61": {
     "views": [
      {
       "cell_index": 12
      }
     ]
    },
    "34e6e6e42af7407f83b22837987631fc": {
     "views": [
      {
       "cell_index": 10
      }
     ]
    },
    "aeb940fe800e4ecaaf3476e3996ef2f0": {
     "views": [
      {
       "cell_index": 13
      }
     ]
    },
    "dec47915e1ed4bde8650f80ba5ff1e30": {
     "views": [
      {
       "cell_index": 11
      }
     ]
    }
   },
   "version": "1.2.0"
  }
 },
 "nbformat": 4,
 "nbformat_minor": 2
}
