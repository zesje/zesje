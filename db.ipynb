{
 "cells": [
  {
   "cell_type": "code",
   "execution_count": null,
   "metadata": {
    "collapsed": false
   },
   "outputs": [],
   "source": [
    "import os\n",
    "from datetime import datetime\n",
    "\n",
    "from pony.orm import Database, Required, Optional, PrimaryKey, Set"
   ]
  },
  {
   "cell_type": "code",
   "execution_count": null,
   "metadata": {
    "collapsed": false,
    "deletable": true,
    "editable": true
   },
   "outputs": [],
   "source": [
    "db = Database()\n",
    "\n",
    "# these will be initialized @ app initialization and immutable from then on\n",
    "class Student(db.Entity):\n",
    "    id = PrimaryKey(int)\n",
    "    first_name = Required(str)\n",
    "    last_name = Required(str)\n",
    "    email = Optional(str, unique=True)\n",
    "\n",
    "class Submission(db.Entity):\n",
    "    solutions = Set('Solution')\n",
    "    student = Optional(Student, unique=True)\n",
    "\n",
    "# these will be initialized @ app initialization and immutable from then on\n",
    "class Grader(db.Entity):\n",
    "    first_name = Required(str)\n",
    "    last_name = Required(str)\n",
    "\n",
    "# these will be initialized @ app initialization and immutable from then on\n",
    "class Problem(db.Entity):\n",
    "    pass\n",
    "\n",
    "class FeedbackOption(db.Entity):\n",
    "    problem = Required(Problem)\n",
    "    text = Required(str)\n",
    "\n",
    "class Solution(db.Entity):\n",
    "    submission_id = Required(Submission)\n",
    "    grader = Optional(Grader)  # if null, this has not yet been graded\n",
    "    graded_at = Optional(datetime)\n",
    "    problem = Required(Problem)\n",
    "    image_path = Required(str)\n",
    "    feedback = Set(FeedbackOption)\n",
    "    remarks = Optional(str)"
   ]
  },
  {
   "cell_type": "code",
   "execution_count": null,
   "metadata": {
    "collapsed": false
   },
   "outputs": [],
   "source": [
    "db.bind('sqlite', os.getcwd() + '/database.sqlite', create_db=True)"
   ]
  }
 ],
 "metadata": {
  "anaconda-cloud": {},
  "kernelspec": {
   "display_name": "Python 3",
   "language": "python",
   "name": "python3"
  },
  "language_info": {
   "codemirror_mode": {
    "name": "ipython",
    "version": 3
   },
   "file_extension": ".py",
   "mimetype": "text/x-python",
   "name": "python",
   "nbconvert_exporter": "python",
   "pygments_lexer": "ipython3",
   "version": "3.5.2"
  }
 },
 "nbformat": 4,
 "nbformat_minor": 2
}
