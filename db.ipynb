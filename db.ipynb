{
 "cells": [
  {
   "cell_type": "code",
   "execution_count": null,
   "metadata": {
    "collapsed": false
   },
   "outputs": [],
   "source": [
    "import os\n",
    "import random\n",
    "from datetime import datetime\n",
    "\n",
    "from pony.orm import Database, Required, Optional, PrimaryKey, Set, db_session"
   ]
  },
  {
   "cell_type": "code",
   "execution_count": null,
   "metadata": {
    "collapsed": false,
    "deletable": true,
    "editable": true
   },
   "outputs": [],
   "source": [
    "db = Database()\n",
    "\n",
    "# these will be initialized @ app initialization and immutable from then on\n",
    "class Student(db.Entity):\n",
    "    id = PrimaryKey(int)\n",
    "    first_name = Required(str)\n",
    "    last_name = Required(str)\n",
    "    email = Optional(str, unique=True)\n",
    "    submission = Optional('Submission')\n",
    "\n",
    "\n",
    "class Submission(db.Entity):\n",
    "    solutions = Set('Solution')\n",
    "    student = Optional(Student)\n",
    "\n",
    "# these will be initialized @ app initialization and immutable from then on\n",
    "class Grader(db.Entity):\n",
    "    first_name = Required(str)\n",
    "    last_name = Required(str)\n",
    "    graded_solutions = Set('Solution')\n",
    "\n",
    "# these will be initialized @ app initialization and immutable from then on\n",
    "class Problem(db.Entity):\n",
    "    feedback_options = Set('FeedbackOption')\n",
    "    solutions = Set('Solution')\n",
    "\n",
    "# feedback option for a single problem\n",
    "class FeedbackOption(db.Entity):\n",
    "    problem = Required(Problem)\n",
    "    text = Required(str)\n",
    "    solutions = Set('Solution')\n",
    "\n",
    "# solution to a single problem\n",
    "class Solution(db.Entity):\n",
    "    submission = Required(Submission)\n",
    "    graded_by = Optional(Grader)  # if null, this has not yet been graded\n",
    "    graded_at = Optional(datetime)\n",
    "    problem = Required(Problem)\n",
    "    image_path = Required(str)\n",
    "    feedback = Set(FeedbackOption)\n",
    "    remarks = Optional(str)"
   ]
  },
  {
   "cell_type": "code",
   "execution_count": null,
   "metadata": {
    "collapsed": false
   },
   "outputs": [],
   "source": [
    "db_file = os.getcwd() + '/database.sqlite'\n",
    "try:\n",
    "    os.remove(db_file)\n",
    "except OSError:\n",
    "    pass\n",
    "db.bind('sqlite', os.getcwd() + '/database.sqlite', create_db=True)\n",
    "db.generate_mapping(create_tables=True)"
   ]
  },
  {
   "cell_type": "code",
   "execution_count": null,
   "metadata": {
    "collapsed": false
   },
   "outputs": [],
   "source": [
    "### fill db with fake data\n",
    "\n",
    "names = \"\"\"\\\n",
    "    Reggie Miron  \n",
    "    Wanetta Sporer  \n",
    "    Anthony Olden  \n",
    "    Saran Larusso  \n",
    "    Allyn Whitis  \n",
    "    Davida Buda  \n",
    "    Kristie Stubblefield  \n",
    "    Zoraida Loudon  \n",
    "    Madge Rogge  \n",
    "    Marylyn Folkes  \n",
    "    Sindy Judy  \n",
    "    Therese Jourdan  \n",
    "    Kassie Pinion  \n",
    "    Angella Rudloff  \n",
    "    Trudie Freas  \n",
    "    Tayna Mule  \n",
    "    Tami Hippert  \n",
    "    Blanche Alvidrez  \n",
    "    Rupert Wolken  \n",
    "    Madalyn Watkins  \n",
    "    Reita Lubinsky  \n",
    "    Johnny Paules  \n",
    "    Lenita Weddell  \n",
    "    Lieselotte Scarpa  \n",
    "    Eda Koelling  \n",
    "    Cary Gallaher  \n",
    "    Ebonie Brathwaite  \n",
    "    Shane Pugsley  \n",
    "    Velva Cranston  \n",
    "    Stefan Joesph\n",
    "\"\"\".split('\\n')[:-1]  # remove last newline\n",
    "\n",
    "names = [name.strip().split() for name in names]\n",
    "\n",
    "numbers = [random.randint(10**6, 10**7 - 1) for name in names]  # number with 7 digits\n"
   ]
  },
  {
   "cell_type": "code",
   "execution_count": null,
   "metadata": {
    "collapsed": false
   },
   "outputs": [],
   "source": [
    "with db_session:\n",
    "    for (first_name, last_name), student_id in zip(names, numbers):\n",
    "        Student(first_name=first_name, last_name=last_name, id=student_id)\n",
    "\n",
    "Student.select().show()"
   ]
  }
 ],
 "metadata": {
  "anaconda-cloud": {},
  "kernelspec": {
   "display_name": "Python 3",
   "language": "python",
   "name": "python3"
  },
  "language_info": {
   "codemirror_mode": {
    "name": "ipython",
    "version": 3
   },
   "file_extension": ".py",
   "mimetype": "text/x-python",
   "name": "python",
   "nbconvert_exporter": "python",
   "pygments_lexer": "ipython3",
   "version": "3.5.2"
  }
 },
 "nbformat": 4,
 "nbformat_minor": 2
}
