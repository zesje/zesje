{
 "cells": [
  {
   "cell_type": "code",
   "execution_count": 2,
   "metadata": {
    "collapsed": false
   },
   "outputs": [],
   "source": [
    "from datetime import datetime\n",
    "from pony.orm import Database, Required, Optional, PrimaryKey, Set"
   ]
  },
  {
   "cell_type": "code",
   "execution_count": 6,
   "metadata": {
    "collapsed": false,
    "deletable": true,
    "editable": true
   },
   "outputs": [],
   "source": [
    "db = Database()\n",
    "\n",
    "\n",
    "# these will be initialized @ app initialization and immutable from then on\n",
    "class Student(db.Entity):\n",
    "    id = PrimaryKey(int)\n",
    "    first_name = Required(str)\n",
    "    last_name = Required(str)\n",
    "    email = Optional(str, unique=True)\n",
    "\n",
    "class Submission(db.Entity):\n",
    "    id = PrimaryKey(int, auto=True)\n",
    "    solutions = Set('Solution')\n",
    "    student = Optional(Student, unique=True)\n",
    "\n",
    "# these will be initialized @ app initialization and immutable from then on\n",
    "class Grader(db.Entity):\n",
    "    id = PrimaryKey(int, auto=True)\n",
    "    first_name = Required(str)\n",
    "    last_name = Required(str)\n",
    "\n",
    "# these will be initialized @ app initialization and immutable from then on\n",
    "class Problem(db.Entity):\n",
    "    id = PrimaryKey(int, auto=True)\n",
    "\n",
    "class FeedbackOption(db.Entity):\n",
    "    id = PrimaryKey(int, auto=True)\n",
    "    problem = Required(Problem)\n",
    "    text = Required(str)\n",
    "\n",
    "class Solution(db.Entity):\n",
    "    id = PrimaryKey(int, auto=True)\n",
    "    submission_id = Required(Submission)\n",
    "    grader = Optional(Grader)  # if null, this has not yet been graded\n",
    "    graded_at = Optional(datetime)\n",
    "    problem = Required(Problem)\n",
    "    image_path = Required(str)\n",
    "    feedback = Set(FeedbackOption)\n",
    "    remarks = Optional(str)   "
   ]
  }
 ],
 "metadata": {
  "anaconda-cloud": {},
  "kernelspec": {
   "display_name": "Python 3",
   "language": "python",
   "name": "python3"
  }
 },
 "nbformat": 4,
 "nbformat_minor": 2
}
