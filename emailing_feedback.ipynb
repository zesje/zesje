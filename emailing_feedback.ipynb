{
 "cells": [
  {
   "cell_type": "code",
   "execution_count": null,
   "metadata": {
    "collapsed": true
   },
   "outputs": [],
   "source": [
    "import pandas\n",
    "from pony import orm\n",
    "import jinja2\n",
    "import db\n",
    "import os\n",
    "import mimetypes\n",
    "import subprocess\n",
    "import getpass\n",
    "import smtplib\n",
    "\n",
    "from email.mime.multipart import MIMEMultipart\n",
    "from email.mime.text import MIMEText\n",
    "from email.mime.base import MIMEBase\n",
    "from email import encoders"
   ]
  },
  {
   "cell_type": "code",
   "execution_count": null,
   "metadata": {},
   "outputs": [],
   "source": [
    "db.use_db()"
   ]
  },
  {
   "cell_type": "code",
   "execution_count": null,
   "metadata": {
    "collapsed": true
   },
   "outputs": [],
   "source": [
    "def email_from_template(change=None):\n",
    "    sub = db.Submission[state.submission_id]\n",
    "\n",
    "    results = [\n",
    "     {'name': i.problem.name,\n",
    "      'score': orm.sum(i.feedback.score),\n",
    "      'max_score' : orm.max(i.problem.feedback_options.score, default=0),\n",
    "      'feedback': [{'short': fo.text, \n",
    "                    'score': fo.score, \n",
    "                    'description': fo.description} for fo in i.feedback],\n",
    "      'remarks': i.remarks,\n",
    "     } for i in sub.solutions]\n",
    "\n",
    "    student = sub.student.to_dict()\n",
    "    student['total'] = sum(i['score'] for i in results)\n",
    "\n",
    "    rendered_email = template.render(student=student, results=results)\n",
    "    email_result.value = '<pre>' + rendered_email + '</pre>'\n",
    "    return rendered_email\n"
   ]
  },
  {
   "cell_type": "code",
   "execution_count": null,
   "metadata": {
    "scrolled": false
   },
   "outputs": [],
   "source": [
    "template = jinja2.Template(\"\"\"Dear {{student.first_name.split(' ') | first }} {{student.last_name}},\n",
    "\n",
    "Below please find attached the scans of your exam and our feedback.\n",
    "If you have any questions, don't hesitate to contant us during the exercise classes \n",
    "or in the course chat https://chat.quantumtinkerer.tudelft.nl/solidstate\n",
    "\n",
    "Additionally, you may want to compare your results with the overall performance\n",
    "of your colleagues over here: http://nbviewer.jupyter.org/url/antonakhmerov.org/misc/minitest_3_summary.ipynb\n",
    "as well as a reference solution http:antonakhmerov.org/misc/http://antonakhmerov.org/misc/minitest3_Jasper.pdf\n",
    "\n",
    "{% for problem in results | sort(attribute='name') if problem.feedback  -%}\n",
    "{{problem.name}} (your score: {{problem.score}} out of {{problem.max_score}}):\n",
    "{% for feedback in problem.feedback %}\n",
    "    * {{ (feedback.description or feedback.short) | wordwrap | indent(width=6) }}\n",
    "{% endfor %}\n",
    "{%- if problem.remarks %}\n",
    "    * {{ problem.remarks | wordwrap | indent(width=6) }}\n",
    "{% endif %}\n",
    "{% endfor %}\n",
    "\n",
    "{%- if student.total < 60 -%}\n",
    "As you also see in the overall results, this test was hard not only for you,\n",
    "but also for many of your colleagues. Its important difference from the first\n",
    "two tests is the amount of calculations you need to perform. Most of the\n",
    "course is like that, so if you find it problematic: exercise and also approach\n",
    "us for advice if something is unclear.\n",
    "{%- elif student.total < 80 -%}\n",
    "You have passed this test, which likely means you can pass the final exam if\n",
    "you continue the same way. There is however a lot of room for improvement.\n",
    "{%- else -%}\n",
    "You are one of the few who did not encounter a lot of trouble with this\n",
    "test. Congratulations!\n",
    "{%- endif%}\n",
    "\n",
    "Best,\n",
    "Solid state course team.\n",
    "\"\"\")\n",
    "\n",
    "template.trim_blocks = template.lstrip_blocks = True\n",
    "jinja2.environment.trim_blocks = jinja2.environment.lstrip_blocks = True\n",
    "\n",
    "messages = []\n",
    "with orm.db_session:\n",
    "    for sub in db.Exam[2].submissions:\n",
    "        filename = '{}.pdf'.format(sub.student.id)\n",
    "        subprocess.call(['convert', *sorted(sub.pages.path), filename])\n",
    "        results = [\n",
    "         {'name': i.problem.name,\n",
    "          'score': orm.sum(i.feedback.score),\n",
    "          'max_score' : orm.max(i.problem.feedback_options.score, default=0),\n",
    "          'feedback': [{'short': fo.text, \n",
    "                        'score': fo.score, \n",
    "                        'description': fo.description} for fo in i.feedback],\n",
    "          'remarks': i.remarks,\n",
    "         } for i in sub.solutions]\n",
    "\n",
    "        student = sub.student.to_dict()\n",
    "        student['total'] = sum(i['score'] for i in results)\n",
    "\n",
    "        msg = MIMEMultipart()\n",
    "        msg['Subject'] = 'Your results for the third minitest'\n",
    "        msg['From'] = 'no-reply@solidstate.tudelft.nl'\n",
    "        msg['To'] = sub.student.email\n",
    "        msg['Reply-to'] = 'no-reply@solidstate.tudelft.nl'\n",
    "        msg.attach(MIMEText(template.render(student=student, results=results), 'plain'))\n",
    "\n",
    "        ctype, encoding = mimetypes.guess_type(filename)\n",
    "        if ctype is None or encoding is not None:\n",
    "            ctype = 'application/octet-stream'\n",
    "        maintype, subtype = ctype.split('/', 1)\n",
    "        with open(filename, 'rb') as fp:\n",
    "            pdf = MIMEBase(maintype, subtype)\n",
    "            pdf.set_payload(fp.read())\n",
    "        encoders.encode_base64(pdf)\n",
    "        # Set the filename parameter\n",
    "        pdf.add_header('Content-Disposition', 'attachment', filename=filename)\n",
    "        msg.attach(pdf)\n",
    "        os.remove(filename)\n",
    "        messages.append(msg)"
   ]
  },
  {
   "cell_type": "code",
   "execution_count": null,
   "metadata": {},
   "outputs": [],
   "source": [
    "password = getpass.getpass()"
   ]
  },
  {
   "cell_type": "code",
   "execution_count": null,
   "metadata": {},
   "outputs": [],
   "source": [
    "with smtplib.SMTP_SSL('smtp-a.tudelft.nl', 465) as s:\n",
    "    s.login('aakhmerov', password)\n",
    "    for number, msg in enumerate(messages):\n",
    "        print(number)\n",
    "        s.sendmail('a.r.akhmerov@tudelft.nl', [msg['To']],\n",
    "                   msg.as_string())\n"
   ]
  },
  {
   "cell_type": "code",
   "execution_count": null,
   "metadata": {
    "collapsed": true
   },
   "outputs": [],
   "source": []
  }
 ],
 "metadata": {
  "kernelspec": {
   "display_name": "Python 3",
   "language": "python",
   "name": "python3"
  },
  "language_info": {
   "codemirror_mode": {
    "name": "ipython",
    "version": 3
   },
   "file_extension": ".py",
   "mimetype": "text/x-python",
   "name": "python",
   "nbconvert_exporter": "python",
   "pygments_lexer": "ipython3",
   "version": "3.5.2"
  }
 },
 "nbformat": 4,
 "nbformat_minor": 2
}
