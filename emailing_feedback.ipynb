{
 "cells": [
  {
   "cell_type": "code",
   "execution_count": null,
   "metadata": {
    "collapsed": false,
    "deletable": true,
    "editable": true
   },
   "outputs": [],
   "source": [
    "detailed_feedback = {  # mapping from the short feedback options to the statements that go to email\n",
    "}"
   ]
  },
  {
   "cell_type": "code",
   "execution_count": null,
   "metadata": {
    "collapsed": true,
    "deletable": true,
    "editable": true
   },
   "outputs": [],
   "source": [
    "import pandas\n",
    "from pony import orm\n",
    "import jinja2\n",
    "import db\n",
    "import os\n",
    "import mimetypes\n",
    "import subprocess\n",
    "\n",
    "from email.mime.multipart import MIMEMultipart\n",
    "from email.mime.text import MIMEText\n",
    "from email.mime.base import MIMEBase\n",
    "from email import encoders"
   ]
  },
  {
   "cell_type": "code",
   "execution_count": null,
   "metadata": {
    "collapsed": false,
    "deletable": true,
    "editable": true
   },
   "outputs": [],
   "source": [
    "db.use_db('EXAM_data/EXAM.sqlite')"
   ]
  },
  {
   "cell_type": "code",
   "execution_count": null,
   "metadata": {
    "collapsed": false,
    "deletable": true,
    "editable": true
   },
   "outputs": [],
   "source": [
    "summary = pandas.read_pickle('summary_EXAM.pickle')\n",
    "grades = pandas.read_pickle('grades_EXAM.pickle')"
   ]
  },
  {
   "cell_type": "code",
   "execution_count": null,
   "metadata": {
    "collapsed": true,
    "deletable": true,
    "editable": true
   },
   "outputs": [],
   "source": [
    "# data = {}\n",
    "\n",
    "# with orm.db_session:\n",
    "\n",
    "#     possible_feedback = []\n",
    "#     for problem in db.Problem.select().order_by(db.Problem.id):\n",
    "#         possible_feedback.extend([\n",
    "#             problem.name + ':' + fb.text for fb in problem.feedback_options\n",
    "#         ])\n",
    "\n",
    "#     for sub in db.Submission.select():\n",
    "#         a = []\n",
    "#         for sol in sub.solutions:\n",
    "#             a.extend([sol.problem.name + ':' + fb.text for fb in sol.feedback])\n",
    "\n",
    "#         data[sub.student.id] = [\n",
    "#             option in a for option in possible_feedback\n",
    "#         ]\n",
    "\n",
    "#     for problem in db.Problem.select().order_by(db.Problem.id):\n",
    "#         possible_feedback.append(problem.name + ':' + 'remarks')\n",
    "\n",
    "#     for sub in db.Submission.select():\n",
    "#         data[sub.student.id].extend([\n",
    "#             sol.remarks for sol in sorted(sub.solutions)\n",
    "#         ])"
   ]
  },
  {
   "cell_type": "code",
   "execution_count": null,
   "metadata": {
    "collapsed": false,
    "deletable": true,
    "editable": true
   },
   "outputs": [],
   "source": [
    "student_data = {}\n",
    "\n",
    "with orm.db_session:\n",
    "    for sub in db.Submission.select():\n",
    "        student = [sub.student.first_name, sub.student.last_name, sub.student.email]\n",
    "        paths = {os.path.split(sol.image_path)[0] for sol in sub.solutions}\n",
    "        images = {os.path.join(path, image) for path in paths \n",
    "                  for image in os.listdir(path) \n",
    "                  if image.startswith('page')}\n",
    "        student.extend(sorted(images))\n",
    "        student_data[sub.student.id] = student\n",
    "\n",
    "general_info = pandas.DataFrame(student_data).T"
   ]
  },
  {
   "cell_type": "code",
   "execution_count": null,
   "metadata": {
    "collapsed": true,
    "deletable": true,
    "editable": true
   },
   "outputs": [],
   "source": [
    "general_info.columns = ['first', 'last', 'email', 'p1', 'p2', 'p3', 'p4']"
   ]
  },
  {
   "cell_type": "code",
   "execution_count": null,
   "metadata": {
    "collapsed": false,
    "deletable": true,
    "editable": true
   },
   "outputs": [],
   "source": [
    "full_info = pandas.merge(general_info, grades, left_index=True, right_index=True)"
   ]
  },
  {
   "cell_type": "code",
   "execution_count": null,
   "metadata": {
    "collapsed": false,
    "deletable": true,
    "editable": true,
    "scrolled": false
   },
   "outputs": [],
   "source": [
    "template = jinja2.Template(\"\"\"Dear {{student['first'].split(' ') | first }} {{student['last']}},\n",
    "\n",
    "Below please find attached the scans of your exam and our feedback.\n",
    "If you have any questions, don't hesitate to contant us during the exercise classes \n",
    "or in the course chat https://chat.quantumtinkerer.tudelft.nl/solidstate\n",
    "\n",
    "Additionally, you may want to compare your results with the overall performance\n",
    "of your colleagues over here: http://nbviewer.jupyter.org/url/antonakhmerov.org/misc/minitest1_summary.ipynb\n",
    "as well as a reference solution http://antonakhmerov.org/misc/minitest1_example_solutions.pdf.\n",
    "\n",
    "{% for problem_name in student.keys()|sort -%}\n",
    "{%- if problem_name.startswith('problem ') and ':' not in problem_name -%}\n",
    "{{problem_name}} (your score: {{student[problem_name]}}):\n",
    "{% for feedback_opt in student.keys()\n",
    "   if ':' in feedback_opt \n",
    "      and feedback_opt.startswith(problem_name)\n",
    "      and student[feedback_opt] %}\n",
    "    * {{ detailed_feedback[feedback_opt] | wordwrap | indent(width=6) }}\n",
    "{% endfor %}\n",
    "{% endif -%}\n",
    "{%- endfor %}\n",
    "\n",
    "{%- if student['total'] < 77 -%}\n",
    "Take care: this test was easier than the rest of the course and the final exam will be.\n",
    "If you found it hard, try more exercises, and probably exams from the past years.\n",
    "{%- else -%}\n",
    "You've done well on this test. However don't relax yet, \n",
    "it was easier than the rest of the course will be.\n",
    "{%- endif%}\n",
    "\n",
    "Best of luck with the rest of the course,\n",
    "Solid state course team.\n",
    "\"\"\")\n",
    "\n",
    "template.trim_blocks = template.lstrip_blocks = True\n",
    "jinja2.environment.trim_blocks = jinja2.environment.lstrip_blocks = True\n",
    "\n",
    "messages = []\n",
    "for nr in full_info.index:\n",
    "    student = full_info.ix[nr]\n",
    "    filename = '{}.pdf'.format(nr)\n",
    "    subprocess.call(['convert', student.p1, student.p2, student.p3, student.p4, filename])\n",
    "    msg = MIMEMultipart()\n",
    "    msg['Subject'] = 'Your results for the first minitest'\n",
    "    msg['From'] = 'no-reply@solidstate.tudelft.nl'\n",
    "    msg['To'] = student.email\n",
    "    msg['Reply-to'] = 'no-reply@solidstate.tudelft.nl'\n",
    "    msg.attach(MIMEText(template.render(student=student, detailed_feedback=detailed_feedback), 'plain'))\n",
    "\n",
    "    ctype, encoding = mimetypes.guess_type(filename)\n",
    "    if ctype is None or encoding is not None:\n",
    "        ctype = 'application/octet-stream'\n",
    "    maintype, subtype = ctype.split('/', 1)\n",
    "    with open(filename, 'rb') as fp:\n",
    "        pdf = MIMEBase(maintype, subtype)\n",
    "        pdf.set_payload(fp.read())\n",
    "    encoders.encode_base64(pdf)\n",
    "    # Set the filename parameter\n",
    "    pdf.add_header('Content-Disposition', 'attachment', filename=filename)\n",
    "    msg.attach(pdf)\n",
    "    os.remove(filename)\n",
    "    messages.append(msg)\n"
   ]
  },
  {
   "cell_type": "code",
   "execution_count": null,
   "metadata": {
    "collapsed": false,
    "deletable": true,
    "editable": true
   },
   "outputs": [],
   "source": [
    "password = getpass.getpass()"
   ]
  },
  {
   "cell_type": "code",
   "execution_count": null,
   "metadata": {
    "collapsed": true,
    "deletable": true,
    "editable": true
   },
   "outputs": [],
   "source": [
    "from time import sleep"
   ]
  },
  {
   "cell_type": "code",
   "execution_count": null,
   "metadata": {
    "collapsed": true,
    "deletable": true,
    "editable": true
   },
   "outputs": [],
   "source": [
    "import smtplib\n",
    "import getpass"
   ]
  },
  {
   "cell_type": "code",
   "execution_count": null,
   "metadata": {
    "collapsed": false,
    "deletable": true,
    "editable": true
   },
   "outputs": [],
   "source": [
    "with smtplib.SMTP_SSL('smtp-a.tudelft.nl', 465) as s:\n",
    "    s.login('NETID', password)\n",
    "    for number, msg in enumerate(messages):\n",
    "        print(number)\n",
    "        s.sendmail('TUD_EMAIL', [msg['To']],\n",
    "                   msg.as_string())\n",
    "        sleep(2)"
   ]
  }
 ],
 "metadata": {
  "kernelspec": {
   "display_name": "Python 3",
   "language": "python",
   "name": "python3"
  },
  "language_info": {
   "codemirror_mode": {
    "name": "ipython",
    "version": 3
   },
   "file_extension": ".py",
   "mimetype": "text/x-python",
   "name": "python",
   "nbconvert_exporter": "python",
   "pygments_lexer": "ipython3",
   "version": "3.5.2"
  }
 },
 "nbformat": 4,
 "nbformat_minor": 2
}
