{
 "cells": [
  {
   "cell_type": "code",
   "execution_count": null,
   "metadata": {
    "collapsed": true,
    "extensions": {
     "jupyter_dashboards": {
      "version": 1,
      "views": {
       "grid_default": {
        "hidden": true
       },
       "report_default": {}
      }
     }
    }
   },
   "outputs": [],
   "source": [
    "from functools import partial\n",
    "from collections import namedtuple, Counter\n",
    "import subprocess\n",
    "import shutil\n",
    "\n",
    "import nbconvert\n",
    "import nbformat\n",
    "from IPython import display\n",
    "import ipywidgets\n",
    "from ipywidgets import Button, Text, SelectMultiple, HBox, VBox,\\\n",
    "                       Textarea, Image, Label, HTML, Dropdown,\\\n",
    "                       IntProgress, Tab, IntText, Select, Checkbox\n",
    "import traitlets\n",
    "import pandas\n",
    "import jinja2\n",
    "from pony import orm\n",
    "\n",
    "import db\n",
    "import emailing_feedback\n",
    "from app_model import AppModel"
   ]
  },
  {
   "cell_type": "code",
   "execution_count": null,
   "metadata": {
    "collapsed": true,
    "extensions": {
     "jupyter_dashboards": {
      "version": 1,
      "views": {
       "grid_default": {
        "hidden": true
       },
       "report_default": {}
      }
     }
    }
   },
   "outputs": [],
   "source": [
    "state = AppModel()"
   ]
  },
  {
   "cell_type": "code",
   "execution_count": null,
   "metadata": {
    "collapsed": true,
    "extensions": {
     "jupyter_dashboards": {
      "version": 1,
      "views": {
       "grid_default": {
        "hidden": true
       },
       "report_default": {
        "hidden": true
       }
      }
     }
    }
   },
   "outputs": [],
   "source": [
    "### Javascript kludges to add autocompletion to text boxes and enable multiple selections\n",
    "\n",
    "autocomplete = jinja2.Template(\"\"\"\n",
    "  $( function() {\n",
    "    var availableTags = [\n",
    "    {%- for option in options %}\n",
    "        \"{{ option }}\",\n",
    "    {%- endfor %}\n",
    "    ];\n",
    "    $( \":input[{{ selector }}]\" ).autocomplete({\n",
    "      minLength: 2,\n",
    "      source: availableTags\n",
    "    });\n",
    "  } );\n",
    "\"\"\")\n",
    "\n",
    "prevent_unselect = \"\"\"\n",
    "window.onmousedown = function (e) {\n",
    "    var el = e.target;\n",
    "    if (el.tagName.toLowerCase() == 'option' && el.parentNode.hasAttribute('multiple')) {\n",
    "        e.preventDefault();\n",
    "\n",
    "        // toggle selection\n",
    "        if (el.hasAttribute('selected')) el.removeAttribute('selected');\n",
    "        else el.setAttribute('selected', '');\n",
    "\n",
    "        // hack to correct buggy behavior\n",
    "        var select = el.parentNode.cloneNode(true);\n",
    "        el.parentNode.parentNode.replaceChild(select, el.parentNode);\n",
    "    }\n",
    "}\n",
    "\"\"\"\n",
    "\n",
    "default_email_template = \"\"\"Dear {{student.first_name.split(' ') | first }} {{student.last_name}},\n",
    "\n",
    "Below please find attached the scans of your exam and our feedback.\n",
    "If you have any questions, don't hesitate to contant us during the exercise classes \n",
    "or in the course chat https://chat.quantumtinkerer.tudelft.nl/solidstate\n",
    "\n",
    "Additionally, you may want to compare your results with the overall performance\n",
    "of your colleagues over here: **INSERT LINK HERE**\n",
    "\n",
    "Also, have a look at the reference solution here: **INSERT LINK HERE**\n",
    "\n",
    "{% for problem in results | sort(attribute='name') if problem.feedback  -%}\n",
    "{{problem.name}} (your score: {{problem.score}} out of {{problem.max_score}}):\n",
    "{% for feedback in problem.feedback %}\n",
    "    * {{ (feedback.description or feedback.short) | wordwrap | indent(width=6) }}\n",
    "{% endfor %}\n",
    "{%- if problem.remarks %}\n",
    "    * {{ problem.remarks | wordwrap | indent(width=6) }}\n",
    "{% endif %}\n",
    "{% endfor %}\n",
    "\n",
    "{%- if student.total < 60 -%}\n",
    "Your grade is below 6\n",
    "{%- elif student.total < 80 -%}\n",
    "Your grade is between 6 and 8.\n",
    "{%- else -%}\n",
    "Your grade is above 8. Very good\n",
    "{%- endif%}\n",
    "\n",
    "Best regards,\n",
    "Solid state course team.\"\"\""
   ]
  },
  {
   "cell_type": "markdown",
   "metadata": {
    "extensions": {
     "jupyter_dashboards": {
      "version": 1,
      "views": {
       "grid_default": {
        "col": 0,
        "height": 4,
        "hidden": true,
        "row": 13,
        "width": 4
       },
       "report_default": {}
      }
     }
    }
   },
   "source": [
    "# Widget definitions and interaction"
   ]
  },
  {
   "cell_type": "code",
   "execution_count": null,
   "metadata": {
    "collapsed": true,
    "extensions": {
     "jupyter_dashboards": {
      "version": 1,
      "views": {
       "grid_default": {
        "hidden": true
       },
       "report_default": {}
      }
     }
    }
   },
   "outputs": [],
   "source": [
    "## Solution selection (submission x problem) matrix\n",
    "prev_stud = Button(icon='fa-step-backward', description=' previous')\n",
    "next_stud = Button(icon='fa-step-forward', description=' next')\n",
    "next_ungraded_stud = Button(icon='fa-forward', description=' next ungraded')\n",
    "jump_to_stud = Text(description='Jump to', placeholder='student # or name')\n",
    "traitlets.directional_link((state, 'student'), (jump_to_stud, 'value'))\n",
    "\n",
    "jump_to_exam = Dropdown(description='Exam', placeholder='exam #')\n",
    "\n",
    "traitlets.link((state, 'exams'), (jump_to_exam, 'options'))\n",
    "traitlets.link((state, 'exam_id'), (jump_to_exam, 'value'))\n",
    "\n",
    "jump_to_problem = Dropdown(description='Jump to', placeholder='problem #')\n",
    "\n",
    "traitlets.link((state, 'problems'), (jump_to_problem, 'options'))\n",
    "traitlets.link((state, 'problem_id'), (jump_to_problem, 'value'))\n",
    "\n",
    "## Solution and FeedbackOption\n",
    "options_feedback = SelectMultiple(name='feedback')\n",
    "options_feedback.layout.width = 'flex-stretch'\n",
    "options_feedback.layout.height = 'flex-stretch'\n",
    "\n",
    "traitlets.directional_link((state, 'feedback_options'), (options_feedback, 'options'))\n",
    "\n",
    "remarks = Textarea(placeholder='Student-specific feedback')\n",
    "remarks.layout.width = '40%'\n",
    "remarks.layout.height = '300px'\n",
    "remarks.layout.min_height = '300px'\n",
    "remarks.layout.max_height = '300px'\n",
    "\n",
    "traitlets.link((state, 'remarks'), (remarks, 'value'))\n",
    "\n",
    "full_page = Checkbox(description='Show full page')\n",
    "traitlets.link((state, 'show_full_page'), (full_page, 'value'))\n",
    "\n",
    "answer = Image(format='png', width='100%')\n",
    "\n",
    "## info\n",
    "graded_label = HTML()\n",
    "graded_label.template = '<h5>Graded by: {} @ {:%d/%m %H:%M}</h5>'.format\n",
    "\n",
    "problem_progress = IntProgress(\n",
    "    value=0,\n",
    "    min=0,\n",
    "    step=1,\n",
    "    description='Progress:',\n",
    "    bar_style='success',\n",
    "    orientation='horizontal',\n",
    ")\n",
    "\n",
    "traitlets.directional_link((state, 'exam_id'), (problem_progress, 'max'), state.num_submissions)\n",
    "\n",
    "## grader selection\n",
    "grader = Dropdown(description='Grader', placeholder='Grader name', options=state.graders)\n",
    "widgets_to_disable = (options_feedback, remarks)\n",
    "for w in widgets_to_disable:\n",
    "    traitlets.directional_link((state, 'grader_id'), (w, 'disabled'), transform=lambda x: x == 0)\n",
    "\n",
    "option_names = Select(description='Feedback options', options=['ADD NEW'])\n",
    "option_names.layout.height = '300px'\n",
    "\n",
    "traitlets.directional_link((state, 'feedback_options'), (option_names, 'options'),\n",
    "                           transform=lambda x: ['ADD NEW'] + x)\n",
    "\n",
    "traitlets.link((option_names, 'value'), (state, 'edited_feedback_option'))\n",
    "\n",
    "traitlets.directional_link((option_names, 'value'), (state, 'edited_feedback_name'),\n",
    "                           lambda x: '' if x == 'ADD NEW' else x)\n",
    "\n",
    "option_name = Text(placeholder='Option name')\n",
    "traitlets.link((state, 'edited_feedback_name'), (option_name, 'value'))\n",
    "\n",
    "option_score = IntText(description='Score')\n",
    "traitlets.link((option_score, 'value'), (state, 'edited_score'))\n",
    "\n",
    "option_description = Textarea(placeholder='Full description')\n",
    "option_description.layout.width = '100%'\n",
    "\n",
    "traitlets.link((option_description, 'value'), (state, 'edited_description'))\n",
    "\n",
    "save_option = Button(description='Update/add', button_style='success')\n",
    "delete_option = Button(description='Delete', button_style='danger')\n",
    "\n",
    "stats = HTML()\n",
    "\n",
    "email_template = Textarea(value=default_email_template)\n",
    "email_template.layout.width = '50%'\n",
    "email_template.layout.height = '400px'\n",
    "email_to = Dropdown(description='Recipients', options=['me', 'all instructors', 'student'])\n",
    "attach_pdf = Checkbox(description='Attach pdf', value=True)\n",
    "send_email = Button(icon='fa-paper-plane', description='Send email', button_style='warning')\n",
    "\n",
    "render_email = Button(description='Refresh', button_style='success')\n",
    "email_result = HTML()\n",
    "email_result.layout.width = '50%'\n",
    "\n",
    "@render_email.on_click\n",
    "def email_from_template(change=None):\n",
    "    email_result.value = ('<pre>' \n",
    "                          + emailing_feedback.form_email(state.submission_id,\n",
    "                                                         template=email_template.value,\n",
    "                                                         text_only=True)\n",
    "                          + '</pre>')    \n",
    "\n",
    "@send_email.on_click\n",
    "def send_single_email(sender=None):\n",
    "    # TODO: switch to using the commented code that assumes that database has grader.email.\n",
    "    emails = {\n",
    "        'Akhmerov': 'anton.akhmerov@gmail.com',\n",
    "        'Otte': 'a.f.otte@tudelft.nl',\n",
    "        'Toresen': 'vtoresen@gmail.com',\n",
    "        'van Veen': 'J.vanVeen@tudelft.nl',\n",
    "        'Vendel': 'K.J.A.Vendel@tudelft.nl',\n",
    "        'Vuik': 'adriaanvuik@gmail.com',\n",
    "    }\n",
    "    with orm.db_session:\n",
    "        if email_to.value == 'me':\n",
    "            if not state.grader_id:\n",
    "                return\n",
    "#             recipients = [db.Grader[state.grader_id].email]\n",
    "            recipients = [emails[db.Grader[state.grader_id].last_name]]\n",
    "        elif email_to.value == 'all instructors':\n",
    "#             recipients = [email for email in db.Grader.email if email is not None]\n",
    "            recipients = list(emails.values())\n",
    "        else:\n",
    "            recipients = None\n",
    "    msg = emailing_feedback.form_email(state.submission_id, template=email_template.value,\n",
    "                                       attach=attach_pdf.value, text_only=False)\n",
    "    emailing_feedback.send([msg], recipients)\n",
    "\n",
    "\n",
    "generate_report = Button(description='Generate exam statistics report')\n",
    "grades_spreadsheet = Button(description='Export exam grades', disabled=True)\n",
    "email_full_feedback = Button(description='Email results to everyone', disabled=True, button_style='danger')\n",
    "download_link = HTML()\n",
    "\n",
    "@generate_report.on_click\n",
    "def prepare_report_notebook(sender=None, target_folder='/node_modules/jupyter-dashboards-server/public'):\n",
    "    with orm.db_session:\n",
    "        target = db.Exam[state.exam_id].name + '_summary.ipynb'\n",
    "\n",
    "    with open('summary_report.ipynb') as f:\n",
    "        data = f.read().replace('exam_id =', 'exam_id = {}'.format(state.exam_id))\n",
    "    with open(target, 'w') as f:\n",
    "        f.write(data)\n",
    "    subprocess.run(['/root/miniconda3/bin/jupyter', 'nbconvert', '--inplace', '--execute', target])\n",
    "    if target_folder is not None:\n",
    "        shutil.copy(target, target_folder)\n",
    "    download_link.value = '<a href=\"/{0}\" download>{0}</a>'.format(target)\n",
    "\n",
    "def render_stats(change):\n",
    "    if editing.selected_index != 2:\n",
    "        return\n",
    "    # Pandas is an overkill for merely making a table, but typing is hard.\n",
    "\n",
    "    df = pandas.DataFrame({fo.text: (fo.solutions.count(), fo.score) \n",
    "                           for fo in db.Problem[state.problem_id].feedback_options}, \n",
    "                          index=['amount', 'score']).T.fillna(0).astype(int)\n",
    "    df.index.name = \"Feedback\"\n",
    "    stats.value = '<h4>Feedback frequencies and scores</h4>'\n",
    "    stats.value += df._repr_html_()\n",
    "    df = pandas.DataFrame(pandas.Series(Counter(sum(fo.score or 0 for fo in sol.feedback) \n",
    "                          for sol in db.Problem[state.problem_id].solutions)), columns=['Amount'])\n",
    "    df.index.name = 'Score'\n",
    "    stats.value += '<hr><h4>Score distribution</h4>'\n",
    "    stats.value += df.T._repr_html_()\n",
    "    stats.value += '<hr><h4>Feedback → student number</h4>'\n",
    "    for fo in db.Problem[state.problem_id].feedback_options:\n",
    "        students = filter((lambda s: s is not None), fo.solutions.submission.student.id)\n",
    "        stats.value += '<p><h5>' + fo.text + '</h5>' + ', '.join(map(str, students)) + '</p>'\n",
    "\n",
    "state.observe(render_stats, names=['exam_id', 'problem_id'])\n",
    "\n",
    "def render_ui(_=None):\n",
    "    image, grader = state.get_solution()\n",
    "    answer.value = image\n",
    "    render_grader(*grader)\n",
    "\n",
    "def render_grader(graded_by, graded_at):\n",
    "    if (graded_by is None) ^ (graded_at is None):\n",
    "        raise ValueError('Invalid grading state')\n",
    "    if graded_by is None:\n",
    "        graded_label.value = ''\n",
    "    else:\n",
    "        graded_label.value = graded_label.template(graded_by, graded_at)\n",
    "    problem_progress.value = state.num_graded()\n",
    "\n",
    "state.observe(render_ui, names=['exam_id', 'submission_id', 'problem_id', \n",
    "                                'feedback_options', 'show_full_page'])\n",
    "\n",
    "## Utilities\n",
    "\n",
    "def observe(widget, **kwargs):\n",
    "    return partial(widget.observe, **kwargs)\n",
    "\n",
    "def load_image(path):\n",
    "    with open(path, 'rb') as f:\n",
    "        return f.read()    \n",
    "\n",
    "## actual controllers - abusing decorator syntax FTW!\n",
    "prev_stud.on_click(lambda _: state.previous_submission())\n",
    "next_stud.on_click(lambda _: state.next_submission())\n",
    "next_ungraded_stud.on_click(lambda _: state.next_ungraded())\n",
    "\n",
    "@jump_to_stud.on_submit\n",
    "def _(sender):\n",
    "    try:\n",
    "        student_id = int(sender.value.strip()[:7])\n",
    "    except ValueError:\n",
    "        return\n",
    "    state.jump_to_student(student_id)\n",
    "    \n",
    "@observe(grader, names=\"value\")\n",
    "def _(sender):\n",
    "    if sender['new'] == 'None':\n",
    "        state.set_grader(None)\n",
    "    else:   \n",
    "        state.set_grader(sender['new'])\n",
    "\n",
    "traitlets.link((options_feedback, 'value'), (state, 'selected_feedback'))\n",
    "traitlets.link((remarks, 'value'), (state, 'remarks'))\n",
    "\n",
    "## Controllers for the feedback options editing\n",
    "\n",
    "save_option.on_click(state.commit_feedback_edit)\n",
    "delete_option.on_click(state.delete_feedback_option)"
   ]
  },
  {
   "cell_type": "code",
   "execution_count": null,
   "metadata": {
    "collapsed": true,
    "extensions": {
     "jupyter_dashboards": {
      "version": 1,
      "views": {
       "grid_default": {
        "hidden": true
       },
       "report_default": {}
      }
     }
    }
   },
   "outputs": [],
   "source": [
    "render_ui()"
   ]
  },
  {
   "cell_type": "markdown",
   "metadata": {
    "extensions": {
     "jupyter_dashboards": {
      "version": 1,
      "views": {
       "grid_default": {
        "col": 8,
        "height": 4,
        "hidden": true,
        "row": 13,
        "width": 4
       },
       "report_default": {}
      }
     }
    }
   },
   "source": [
    "# Layout"
   ]
  },
  {
   "cell_type": "code",
   "execution_count": null,
   "metadata": {
    "extensions": {
     "jupyter_dashboards": {
      "version": 1,
      "views": {
       "grid_default": {
        "col": 0,
        "height": 2,
        "hidden": false,
        "row": 0,
        "width": 12
       },
       "report_default": {}
      }
     }
    }
   },
   "outputs": [],
   "source": [
    "HBox([grader, jump_to_exam, jump_to_problem])"
   ]
  },
  {
   "cell_type": "code",
   "execution_count": null,
   "metadata": {
    "extensions": {
     "jupyter_dashboards": {
      "version": 1,
      "views": {
       "grid_default": {
        "col": 0,
        "height": 36,
        "hidden": false,
        "row": 2,
        "width": 12
       },
       "report_default": {}
      }
     }
    }
   },
   "outputs": [],
   "source": [
    "# Main layout\n",
    "\n",
    "grade = VBox([HBox([prev_stud, next_stud, next_ungraded_stud, jump_to_stud]),\n",
    "              HBox([options_feedback, remarks]),\n",
    "              HBox([problem_progress,  graded_label, full_page]), \n",
    "              answer])\n",
    "\n",
    "edit_feedback = VBox([option_names, \n",
    "                      HBox([option_name, \n",
    "                            option_score,\n",
    "                            save_option,\n",
    "                            delete_option]),\n",
    "                      \n",
    "                      option_description])\n",
    "\n",
    "individual_email = VBox([HBox([prev_stud, next_stud, jump_to_stud, render_email]),\n",
    "                         HBox([email_template, email_result]),\n",
    "                         HBox([email_to, attach_pdf, send_email]),\n",
    "                        ])\n",
    "\n",
    "summary = VBox([HBox([generate_report, grades_spreadsheet, email_full_feedback]),\n",
    "                download_link,\n",
    "               ])\n",
    "\n",
    "editing = Tab(children=[grade, edit_feedback, stats, individual_email, summary])\n",
    "editing.set_title(0, 'Grade')\n",
    "editing.set_title(1, 'Edit feedback options')\n",
    "editing.set_title(2, 'Problem statistics')\n",
    "editing.set_title(3, 'individual email')\n",
    "editing.set_title(4, 'summary & email')\n",
    "\n",
    "editing.observe(render_stats, names=['selected_index'])\n",
    "\n",
    "editing"
   ]
  },
  {
   "cell_type": "code",
   "execution_count": null,
   "metadata": {
    "extensions": {
     "jupyter_dashboards": {
      "version": 1,
      "views": {
       "grid_default": {
        "col": 0,
        "height": 2,
        "hidden": false,
        "row": 38,
        "width": 1
       },
       "report_default": {}
      }
     }
    }
   },
   "outputs": [],
   "source": [
    "# apply javascript kludges\n",
    "# must trigger after the widgets were rendered\n",
    "\n",
    "selector = \"placeholder='{}'\".format(jump_to_stud.placeholder)\n",
    "display.display_javascript(display.Javascript(autocomplete.render(selector=selector, options=state.students)))\n",
    "display.display_javascript(prevent_unselect)"
   ]
  }
 ],
 "metadata": {
  "anaconda-cloud": {},
  "extensions": {
   "jupyter_dashboards": {
    "activeView": "grid_default",
    "version": 1,
    "views": {
     "grid_default": {
      "cellMargin": 10,
      "defaultCellHeight": 20,
      "maxColumns": 12,
      "name": "grid",
      "type": "grid"
     },
     "report_default": {
      "name": "report",
      "type": "report"
     }
    }
   }
  },
  "kernelspec": {
   "display_name": "Python 3",
   "language": "python",
   "name": "python3"
  },
  "language_info": {
   "codemirror_mode": {
    "name": "ipython",
    "version": 3
   },
   "file_extension": ".py",
   "mimetype": "text/x-python",
   "name": "python",
   "nbconvert_exporter": "python",
   "pygments_lexer": "ipython3",
   "version": "3.5.2"
  }
 },
 "nbformat": 4,
 "nbformat_minor": 2
}
