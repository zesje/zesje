{
 "cells": [
  {
   "cell_type": "code",
   "execution_count": null,
   "metadata": {
    "extensions": {
     "jupyter_dashboards": {
      "version": 1,
      "views": {
       "grid_default": {
        "hidden": true
       },
       "report_default": {}
      }
     }
    }
   },
   "outputs": [],
   "source": [
    "from functools import partial\n",
    "from collections import namedtuple\n",
    "import random\n",
    "\n",
    "from IPython import display\n",
    "import ipywidgets\n",
    "from ipywidgets import Button, Text, SelectMultiple, HBox, VBox,\\\n",
    "                       Textarea, Image, Label, HTML, Dropdown,\\\n",
    "                       IntProgress, Tab, IntText, Select, Checkbox\n",
    "import traitlets\n",
    "import pandas\n",
    "import jinja2"
   ]
  },
  {
   "cell_type": "code",
   "execution_count": null,
   "metadata": {
    "collapsed": true,
    "extensions": {
     "jupyter_dashboards": {
      "version": 1,
      "views": {
       "grid_default": {
        "hidden": true
       },
       "report_default": {}
      }
     }
    }
   },
   "outputs": [],
   "source": [
    "from app_model import AppModel\n",
    "\n",
    "state = AppModel()"
   ]
  },
  {
   "cell_type": "code",
   "execution_count": null,
   "metadata": {
    "collapsed": true,
    "extensions": {
     "jupyter_dashboards": {
      "version": 1,
      "views": {
       "grid_default": {
        "hidden": true
       },
       "report_default": {
        "hidden": true
       }
      }
     }
    }
   },
   "outputs": [],
   "source": [
    "### Javascript kludges to add autocompletion to text boxes and enable multiple selections\n",
    "\n",
    "autocomplete = jinja2.Template(\"\"\"\n",
    "  $( function() {\n",
    "    var availableTags = [\n",
    "    {%- for option in options %}\n",
    "        \"{{ option }}\",\n",
    "    {%- endfor %}\n",
    "    ];\n",
    "    $( \":input[{{ selector }}]\" ).autocomplete({\n",
    "      minLength: 2,\n",
    "      source: availableTags\n",
    "    });\n",
    "  } );\n",
    "\"\"\")\n",
    "\n",
    "prevent_unselect = \"\"\"\n",
    "window.onmousedown = function (e) {\n",
    "    var el = e.target;\n",
    "    if (el.tagName.toLowerCase() == 'option' && el.parentNode.hasAttribute('multiple')) {\n",
    "        e.preventDefault();\n",
    "\n",
    "        // toggle selection\n",
    "        if (el.hasAttribute('selected')) el.removeAttribute('selected');\n",
    "        else el.setAttribute('selected', '');\n",
    "\n",
    "        // hack to correct buggy behavior\n",
    "        var select = el.parentNode.cloneNode(true);\n",
    "        el.parentNode.parentNode.replaceChild(select, el.parentNode);\n",
    "    }\n",
    "}\n",
    "\"\"\""
   ]
  },
  {
   "cell_type": "markdown",
   "metadata": {
    "extensions": {
     "jupyter_dashboards": {
      "version": 1,
      "views": {
       "grid_default": {
        "col": 0,
        "height": 4,
        "hidden": true,
        "row": 13,
        "width": 4
       },
       "report_default": {}
      }
     }
    }
   },
   "source": [
    "# Widget definitions and interaction"
   ]
  },
  {
   "cell_type": "code",
   "execution_count": null,
   "metadata": {
    "collapsed": true
   },
   "outputs": [],
   "source": [
    "## Solution selection (submission x problem) matrix\n",
    "prev_stud = Button(icon='fa-step-backward', description=' previous')\n",
    "next_stud = Button(icon='fa-step-forward', description=' next')\n",
    "next_ungraded_stud = Button(icon='fa-forward', description=' next ungraded')\n",
    "jump_to_stud = Text(description='Jump to', placeholder='student # or name')\n",
    "\n",
    "jump_to_exam = Dropdown(description='Exam', placeholder='exam #')\n",
    "\n",
    "traitlets.link((state, 'exams'), (jump_to_exam, 'options'))\n",
    "jump_to_exam.value = state.id_to_exam()\n",
    "traitlets.directional_link((jump_to_exam, 'value'), (state, 'exam_id'), state.exam_to_id)\n",
    "\n",
    "jump_to_problem = Dropdown(description='Jump to', placeholder='problem #')\n",
    "\n",
    "traitlets.link((state, 'problems'), (jump_to_problem, 'options'))\n",
    "traitlets.directional_link((jump_to_problem, 'value'), (state, 'problem_id'), state.problem_to_id)\n",
    "\n",
    "## Solution and FeedbackOption\n",
    "options_feedback = SelectMultiple(name='feedback')\n",
    "traitlets.directional_link((state, 'feedback_options'), (options_feedback, 'options'))\n",
    "\n",
    "remarks = Textarea(placeholder='Student-specific feedback')\n",
    "traitlets.link((state, 'remarks'), (remarks, 'value'))\n",
    "\n",
    "full_page = Checkbox(description='Show full page')\n",
    "traitlets.link((state, 'show_full_page'), (full_page, 'value'))\n",
    "\n",
    "answer = Image(format='png', width='100%')\n",
    "\n",
    "## info\n",
    "graded_label = HTML()\n",
    "graded_label.template = '<h5>Graded by: {} @ {:%d/%m %H:%M}</h5>'.format\n",
    "\n",
    "problem_progress = IntProgress(\n",
    "    value=0,\n",
    "    min=0,\n",
    "    step=1,\n",
    "    description='Progress:',\n",
    "    bar_style='success',\n",
    "    orientation='horizontal',\n",
    ")\n",
    "\n",
    "traitlets.directional_link((state, 'exam_id'), (problem_progress, 'max'), state.num_submissions)\n",
    "\n",
    "## grader selection\n",
    "grader = Dropdown(description='Grader', placeholder='Grader name', options=state.graders)\n",
    "widgets_to_disable = (options_feedback, remarks)\n",
    "for w in widgets_to_disable:\n",
    "    traitlets.directional_link((state, 'grader_id'), (w, 'disabled'), transform=lambda x: x == 0)\n",
    "\n",
    "# \n",
    "option_names = Select(description='Feedback options', options=['ADD NEW'])\n",
    "\n",
    "traitlets.directional_link((state, 'feedback_options'), (option_names, 'options'),\n",
    "                           transform=lambda x: ['ADD NEW'] + x)\n",
    "\n",
    "traitlets.link((option_names, 'value'), (state, 'edited_feedback_option'))\n",
    "\n",
    "traitlets.directional_link((option_names, 'value'), (state, 'edited_feedback_name'),\n",
    "                           lambda x: '' if x == 'ADD NEW' else x)\n",
    "\n",
    "option_name = Text(placeholder='Option name')\n",
    "traitlets.link((state, 'edited_feedback_name'), (option_name, 'value'))\n",
    "\n",
    "option_score = IntText(description='Score')\n",
    "traitlets.link((option_score, 'value'), (state, 'edited_score'))\n",
    "\n",
    "option_description = Textarea(placeholder='Full description', width='100%')\n",
    "traitlets.link((option_description, 'value'), (state, 'edited_description'))\n",
    "\n",
    "save_option = Button(description='Update/add', button_style='success')\n",
    "delete_option = Button(description='Delete', button_style='danger')\n",
    "\n",
    "def render_ui(_=None):\n",
    "    image, feedback, grader = state.get_solution()\n",
    "    answer.value = image\n",
    "    jump_to_stud.value = state.student\n",
    "    jump_to_problem.value = state.problem()\n",
    "    render_feedback(*feedback)\n",
    "    render_grader(*grader)\n",
    "\n",
    "def render_feedback(options, selected, _remarks):\n",
    "    options_feedback.value = selected\n",
    "\n",
    "def render_grader(graded_by, graded_at):\n",
    "    if (graded_by is None) ^ (graded_at is None):\n",
    "        raise ValueError('Invalid grading state')\n",
    "    if graded_by is None:\n",
    "        graded_label.value = ''\n",
    "    else:\n",
    "        graded_label.value = graded_label.template(graded_by, graded_at)\n",
    "    problem_progress.value = state.num_graded()\n",
    "\n",
    "\n",
    "state.observe(render_ui, names=['exam_id', 'submission_id', 'problem_id', \n",
    "                                'feedback_options', 'show_full_page'])\n",
    "\n",
    "## Utilities\n",
    "\n",
    "def observe(widget, **kwargs):\n",
    "    return partial(widget.observe, **kwargs)\n",
    "\n",
    "def load_image(path):\n",
    "    with open(path, 'rb') as f:\n",
    "        return f.read()    \n",
    "\n",
    "## actual controllers - abusing decorator syntax FTW!\n",
    "\n",
    "prev_stud.on_click(lambda _: state.previous_submission())\n",
    "next_stud.on_click(lambda _: state.next_submission())\n",
    "next_ungraded_stud.on_click(lambda _: state.next_ungraded())\n",
    "\n",
    "@jump_to_stud.on_submit\n",
    "def _(sender):\n",
    "    try:\n",
    "        student_id = int(sender.value.strip()[:7])\n",
    "    except ValueError:\n",
    "        return\n",
    "    state.jump_to_student(student_id)\n",
    "    \n",
    "@observe(grader, names=\"value\")\n",
    "def _(sender):\n",
    "    if sender['new'] == 'None':\n",
    "        state.set_grader(None)\n",
    "    else:   \n",
    "        state.set_grader(sender['new'])\n",
    "\n",
    "traitlets.link((options_feedback, 'value'), (state, 'selected_feedback'))\n",
    "traitlets.link((remarks, 'value'), (state, 'remarks'))\n",
    "\n",
    "## Controllers for the feedback options editing\n",
    "\n",
    "save_option.on_click(state.commit_feedback_edit)\n",
    "delete_option.on_click(state.delete_feedback_option)"
   ]
  },
  {
   "cell_type": "markdown",
   "metadata": {
    "extensions": {
     "jupyter_dashboards": {
      "version": 1,
      "views": {
       "grid_default": {
        "col": 8,
        "height": 4,
        "hidden": true,
        "row": 13,
        "width": 4
       },
       "report_default": {}
      }
     }
    }
   },
   "source": [
    "# Layout"
   ]
  },
  {
   "cell_type": "code",
   "execution_count": null,
   "metadata": {
    "collapsed": true
   },
   "outputs": [],
   "source": [
    "render_ui()"
   ]
  },
  {
   "cell_type": "code",
   "execution_count": null,
   "metadata": {
    "extensions": {
     "jupyter_dashboards": {
      "version": 1,
      "views": {
       "grid_default": {
        "col": 0,
        "height": 2,
        "hidden": false,
        "row": 0,
        "width": 12
       },
       "report_default": {}
      }
     }
    }
   },
   "outputs": [],
   "source": [
    "HBox([grader, jump_to_exam, jump_to_problem])"
   ]
  },
  {
   "cell_type": "code",
   "execution_count": null,
   "metadata": {
    "extensions": {
     "jupyter_dashboards": {
      "version": 1,
      "views": {
       "grid_default": {
        "col": 0,
        "height": 20,
        "hidden": false,
        "row": 2,
        "width": 12
       },
       "report_default": {}
      }
     }
    }
   },
   "outputs": [],
   "source": [
    "# Main layout\n",
    "\n",
    "grade = VBox([HBox([prev_stud, next_stud, next_ungraded_stud, jump_to_stud]),\n",
    "              HBox([options_feedback, remarks]),\n",
    "              HBox([problem_progress,  graded_label, full_page]), \n",
    "              answer])\n",
    "\n",
    "edit_feedback = VBox([option_names, \n",
    "                      HBox([option_name, \n",
    "                            option_score,\n",
    "                            save_option,\n",
    "                            delete_option]),\n",
    "                      \n",
    "                      option_description])\n",
    "\n",
    "editing = Tab(children=[grade, edit_feedback])\n",
    "editing.set_title(0, 'Grade')\n",
    "editing.set_title(1, 'Edit feedback options')\n",
    "editing"
   ]
  },
  {
   "cell_type": "code",
   "execution_count": null,
   "metadata": {
    "extensions": {
     "jupyter_dashboards": {
      "version": 1,
      "views": {
       "grid_default": {
        "col": 0,
        "height": 2,
        "hidden": false,
        "row": 22,
        "width": 1
       },
       "report_default": {}
      }
     }
    }
   },
   "outputs": [],
   "source": [
    "# apply javascript kludges\n",
    "# must trigger after the widgets were rendered\n",
    "\n",
    "selector = \"placeholder='{}'\".format(jump_to_stud.placeholder)\n",
    "display.display_javascript(display.Javascript(autocomplete.render(selector=selector, options=state.students)))\n",
    "display.display_javascript(prevent_unselect)"
   ]
  }
 ],
 "metadata": {
  "anaconda-cloud": {},
  "extensions": {
   "jupyter_dashboards": {
    "activeView": "grid_default",
    "version": 1,
    "views": {
     "grid_default": {
      "cellMargin": 10,
      "defaultCellHeight": 20,
      "maxColumns": 12,
      "name": "grid",
      "type": "grid"
     },
     "report_default": {
      "name": "report",
      "type": "report"
     }
    }
   }
  },
  "kernelspec": {
   "display_name": "Python 3",
   "language": "python",
   "name": "python3"
  },
  "language_info": {
   "codemirror_mode": {
    "name": "ipython",
    "version": 3
   },
   "file_extension": ".py",
   "mimetype": "text/x-python",
   "name": "python",
   "nbconvert_exporter": "python",
   "pygments_lexer": "ipython3",
   "version": "3.5.2"
  }
 },
 "nbformat": 4,
 "nbformat_minor": 2
}
