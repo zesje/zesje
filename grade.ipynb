{
 "cells": [
  {
   "cell_type": "code",
   "execution_count": 10,
   "metadata": {
    "collapsed": true,
    "extensions": {
     "jupyter_dashboards": {
      "version": 1,
      "views": {
       "grid_default": {
        "hidden": true
       },
       "report_default": {}
      }
     }
    }
   },
   "outputs": [],
   "source": [
    "from itertools import starmap\n",
    "from functools import partial\n",
    "from collections import namedtuple\n",
    "import random\n",
    "import traitlets\n",
    "import datetime\n",
    "\n",
    "from IPython import display\n",
    "from ipywidgets import Button, Text, SelectMultiple, HBox, VBox,\\\n",
    "                       Textarea, Image, Label, HTML, Dropdown,\\\n",
    "                       IntProgress, Tab, IntText, Select\n",
    "import pandas\n",
    "import jinja2\n",
    "from pony import orm"
   ]
  },
  {
   "cell_type": "code",
   "execution_count": null,
   "metadata": {
    "collapsed": true,
    "extensions": {
     "jupyter_dashboards": {
      "version": 1,
      "views": {
       "grid_default": {
        "col": 0,
        "height": 4,
        "hidden": true,
        "row": 0,
        "width": 12
       },
       "report_default": {
        "hidden": true
       }
      }
     }
    }
   },
   "outputs": [],
   "source": [
    "import db\n",
    "db.use_db('course.sqlite')"
   ]
  },
  {
   "cell_type": "code",
   "execution_count": null,
   "metadata": {
    "collapsed": true,
    "extensions": {
     "jupyter_dashboards": {
      "version": 1,
      "views": {
       "grid_default": {
        "hidden": true
       },
       "report_default": {
        "hidden": true
       }
      }
     }
    }
   },
   "outputs": [],
   "source": [
    "### Javascript kludges to add autocompletion to text boxes and enable multiple selections\n",
    "\n",
    "autocomplete = jinja2.Template(\"\"\"\n",
    "  $( function() {\n",
    "    var availableTags = [\n",
    "    {%- for option in options %}\n",
    "        \"{{ option }}\",\n",
    "    {%- endfor %}\n",
    "    ];\n",
    "    $( \":input[{{ selector }}]\" ).autocomplete({\n",
    "      minLength: 2,\n",
    "      source: availableTags\n",
    "    });\n",
    "  } );\n",
    "\"\"\")\n",
    "\n",
    "prevent_unselect = \"\"\"\n",
    "window.onmousedown = function (e) {\n",
    "    var el = e.target;\n",
    "    if (el.tagName.toLowerCase() == 'option' && el.parentNode.hasAttribute('multiple')) {\n",
    "        e.preventDefault();\n",
    "\n",
    "        // toggle selection\n",
    "        if (el.hasAttribute('selected')) el.removeAttribute('selected');\n",
    "        else el.setAttribute('selected', '');\n",
    "\n",
    "        // hack to correct buggy behavior\n",
    "        var select = el.parentNode.cloneNode(true);\n",
    "        el.parentNode.parentNode.replaceChild(select, el.parentNode);\n",
    "    }\n",
    "}\n",
    "\"\"\""
   ]
  },
  {
   "cell_type": "markdown",
   "metadata": {
    "extensions": {
     "jupyter_dashboards": {
      "version": 1,
      "views": {
       "grid_default": {
        "col": 0,
        "height": 4,
        "hidden": true,
        "row": 13,
        "width": 4
       },
       "report_default": {}
      }
     }
    }
   },
   "source": [
    "# Widget definitions and interaction"
   ]
  },
  {
   "cell_type": "code",
   "execution_count": 126,
   "metadata": {},
   "outputs": [],
   "source": [
    "class AppState(traitlets.HasTraits):\n",
    "    students = traitlets.List(traitlets.Unicode(), read_only=True)\n",
    "    graders = traitlets.List(traitlets.Unicode(), read_only=True)\n",
    "    \n",
    "    exam_id = traitlets.Integer()\n",
    "\n",
    "    submission_id = traitlets.Integer()\n",
    "    student = traitlets.Unicode()\n",
    "\n",
    "    # Default grader_id = 0 is definitely not in the database.\n",
    "    # Here we are abusing 1-based indexing and the internal db structure.\n",
    "    grader_id = traitlets.Integer()\n",
    "\n",
    "    problem_id = traitlets.Integer()\n",
    "    n_solutions = traitlets.Integer()\n",
    "    n_graded = traitlets.Integer()\n",
    "    feedback_options = traitlets.List(trait=traitlets.Unicode())\n",
    "\n",
    "    selected_feedback = traitlets.List(trait=traitlets.Unicode())\n",
    "    remarks = traitlets.Unicode()\n",
    "    # --- Defaults and validation ---\n",
    "    ## students\n",
    "    @traitlets.default('students')\n",
    "    def _default_students(self):\n",
    "        with orm.db_session:\n",
    "            return tuple(starmap('{} ({} {})'.format, \n",
    "                                 orm.select((s.id, s.first_name, s.last_name)\n",
    "                                            for s in db.Student)))\n",
    "\n",
    "    ## graders\n",
    "    @traitlets.default('graders')\n",
    "    def _default_graders(self):\n",
    "        with orm.db_session:\n",
    "            graders = list(starmap('{} {}'.format, \n",
    "                                   orm.select((g.first_name, g.last_name)\n",
    "                                              for g in db.Grader).order_by(lambda g: g.id)))\n",
    "        return [\"None\"] + graders\n",
    "\n",
    "    ## exam_id\n",
    "    @traitlets.default('exam_id')\n",
    "    def _default_exam_id(self):\n",
    "        with orm.db_session:\n",
    "            return db.Exam.select().first().id\n",
    "    \n",
    "    @traitlets.validate('exam_id')\n",
    "    def _valid_exam(self, proposal):\n",
    "        with orm.db_session():\n",
    "            if db.Exam.get(id=proposal['value']) is None:\n",
    "                raise traitlets.TraitError('Unknown exam id.')\n",
    "        return proposal['value']\n",
    "    \n",
    "    ## submission_id\n",
    "    @traitlets.default('submission_id')\n",
    "    def _default_submission_id(self):\n",
    "        with orm.db_session:\n",
    "            return orm.select(s.id for s in db.Submission \n",
    "                              if s.exam.id == self.exam_id).order_by(lambda x:x).first()\n",
    "    \n",
    "    @traitlets.validate('submission_id')\n",
    "    def _valid_submission_id(self, proposal):\n",
    "        with orm.db_session():\n",
    "            sub = db.Submission.get(id=proposal['value'])\n",
    "            if sub is None:\n",
    "                raise traitlets.TraitError('Unknown submission id.')\n",
    "            if sub.exam.id != self.exam_id:\n",
    "                raise traitlets.TraitError('Submission from a different exam.')\n",
    "        return proposal['value']\n",
    "    \n",
    "    ## problem_id\n",
    "    @traitlets.default('problem_id')\n",
    "    def _default_problem_id(self):\n",
    "        with orm.db_session:\n",
    "            return orm.select(p.id for p in db.Problem \n",
    "                              if p.exam == db.Exam[self.exam_id]).order_by(lambda x:x).first()\n",
    "    \n",
    "    @traitlets.validate('problem_id')\n",
    "    def _valid_problem_id(self, proposal):\n",
    "        with orm.db_session():\n",
    "            prob = db.Problem.get(id=proposal['value'])\n",
    "            if prob is None:\n",
    "                raise traitlets.TraitError('Unknown problem id.')\n",
    "            if prob.exam.id != self.exam_id:\n",
    "                raise traitlets.TraitError('Problem from a different exam.')\n",
    "        return proposal['value']\n",
    "    \n",
    "    ## n_solutions\n",
    "    @traitlets.default('n_solutions')\n",
    "    def _default_n_solutions(self):\n",
    "        with orm.db_session:\n",
    "            return orm.count(s for s in db.Solution if s.problem.id == self.problem_id)\n",
    "\n",
    "    ## n_graded\n",
    "    @traitlets.default('n_solutions')\n",
    "    def _default_n_graded(self):\n",
    "        with orm.db_session:\n",
    "            return orm.count(s for s in db.Solution if s.problem.id == self.problem_id \n",
    "                                                       and s.graded_at is not None)\n",
    "    \n",
    "    ## grader_id\n",
    "    @traitlets.validate('grader_id')\n",
    "    def _valid_grader_id(self, proposal):\n",
    "        new = proposal['value']\n",
    "        if new == -1:\n",
    "            return new\n",
    "        else:\n",
    "            with orm.db_session:\n",
    "                if db.Grader.get(id=new) is None:\n",
    "                    raise traitlets.TraitError('Non-existent grader id.')\n",
    "        return new\n",
    "    \n",
    "    ## feedback_options\n",
    "    def _default_feedback_options(self):\n",
    "        with orm.db_session:\n",
    "            return list(orm.select(f.text for f in db.FeedbackOption\n",
    "                                   if f.problem.id == self.problem_id).order_by('f.id'))\n",
    "    \n",
    "    ## selected_feedback\n",
    "    def _default_selected_feedback(self):\n",
    "        with orm.db_session:\n",
    "            sol = db.Solution.get(submission=self.submission_id, problem=self.problem_id)\n",
    "            if sol is None:\n",
    "                return []\n",
    "            return [f.text for f in sol.feedback]\n",
    "    \n",
    "    ## remarks\n",
    "    @traitlets.default('remarks')\n",
    "    def _default_remarks(self):\n",
    "        with orm.db_session:\n",
    "            sol = db.Solution.get(submission=self.submission_id, problem=self.problem_id)\n",
    "            if sol is None:\n",
    "                return ''\n",
    "            return sol.remarks or ''\n",
    "\n",
    "    ## student\n",
    "    @traitlets.default('student')\n",
    "    def _default_student(self):\n",
    "        with orm.db_session:\n",
    "            student = db.Submission[self.submission_id].student\n",
    "            if student is None:\n",
    "                return \"MISSING\"\n",
    "            else:\n",
    "                return \"{} ({}, {})\".format(student.id, student.first_name, student.last_name)\n",
    "    \n",
    "    # --- Relations between traits ---\n",
    "    @traitlets.observe('exam_id')\n",
    "    def _change_exam(self, change):\n",
    "        self.submission_id = self._default_submission_id()\n",
    "        self.problem_id = self._default_problem_id()\n",
    "    \n",
    "    @traitlets.observe('problem_id', 'submission_id')\n",
    "    def _change_solution(self, change):\n",
    "        self.commit_grading(**{change['name']: change['old']})\n",
    "        self.student = self._default_student()\n",
    "    \n",
    "    @traitlets.observe('problem_id')\n",
    "    def _change_problem(self, change):\n",
    "        self.feedback_options = self._default_feedback_options()\n",
    "        self.selected_feedback = self._default_selected_feedback()\n",
    "    \n",
    "    # --- Writing into database ---\n",
    "    def commit_grading(self, submission_id=None, problem_id=None):\n",
    "        \"\"\"Commit grading to the database\"\"\"\n",
    "        if submission_id is None:\n",
    "            submission_id = self.submission_id\n",
    "        if problem_id is None:\n",
    "            problem_id = self.problem_id\n",
    "\n",
    "        # Should do nothing when the grader is missing.\n",
    "        if not self.grader:\n",
    "            return\n",
    "        \n",
    "        with orm.db_session:\n",
    "            solution = db.Solution.get(submission=submission_id, problem=problem_id)\n",
    "            feedback = solution.feedback\n",
    "            remarks = solution.remarks\n",
    "            \n",
    "        # TODO: finish this\n",
    "\n",
    "# # save the selected feedback\n",
    "# def save_feedback():\n",
    "#     if grader_id is None:\n",
    "#         return  # should not save if the grader is not selected\n",
    "#     selected_feedback = set(options_feedback.value)\n",
    "#     if selected_feedback and selected_feedback == loaded_feedback and remarks.value == loaded_remarks:\n",
    "#         return  # nothing was changed and options are non-empty -- do not save\n",
    "#     with orm.db_session:\n",
    "#         solution = db.Solution.get(submission=submission_id, problem=problem_id)\n",
    "#         solution.feedback =  list(orm.select(fb for fb in db.FeedbackOption if fb.text in selected_feedback\n",
    "#                                              and fb.problem.id == problem_id))\n",
    "#         solution.remarks = remarks.value\n",
    "#         if len(solution.feedback):\n",
    "#             solution.graded_by = db.Grader[grader_id]\n",
    "#             solution.graded_at = datetime.datetime.now()\n",
    "#         else:\n",
    "#             solution.graded_by = None\n",
    "#             solution.graded_at = None\n",
    "\n",
    "    \n",
    "    def commit_feedback(self):\n",
    "        pass\n",
    "    \n",
    "    # --- Navigation\n",
    "    def next_submission(self):\n",
    "        with orm.db_session:\n",
    "            subs = orm.select(s.id for s in db.Submission\n",
    "                              if s.exam.id == self.exam_id\n",
    "                                 and s.id > self.submission.id)\n",
    "            result = subs.order_by(lambda x: x).first()\n",
    "            if result is None:\n",
    "                self.submission_id = self._default_submission_id()\n",
    "            else:\n",
    "                self.submission_id = result\n",
    "    \n",
    "    def previous_submission(self):        \n",
    "        with orm.db_session:\n",
    "            subs = orm.select(s.id for s in db.Submission\n",
    "                              if s.exam.id == self.exam_id\n",
    "                                 and s.id < self.submission.id)\n",
    "\n",
    "            result = subs.order_by(lambda x: x).last()\n",
    "            if result is None:\n",
    "                subs = orm.select(s.id for s in db.Submission if s.exam.id == self.exam_id)\n",
    "                result = subs.order_by(lambda x: x).last()\n",
    "            \n",
    "            self.submission_id = result\n",
    "\n",
    "    def next_ungraded(self):\n",
    "        with orm.db_session:\n",
    "            subs = orm.select(s.id for s in db.Submission\n",
    "                              if s.exam.id == self.exam_id\n",
    "                                 and s.id > self.submission.id\n",
    "                                 and db.Solution.get(submission=s.id, \n",
    "                                                     problem=self.problem_id).graded_at is not None)\n",
    "            result = subs.order_by(lambda x: x).first()\n",
    "            if result is None:\n",
    "                return\n",
    "\n",
    "            self.submission_id = result\n",
    "\n",
    "    def jump_to_student(self, nr):\n",
    "        with orm.db_session:\n",
    "            sub_id = db.Submission.get(exam=self.exam_id, student=nr).id\n",
    "        if sub_id is None:\n",
    "            return\n",
    "        \n",
    "        self.submission_id = sub_id"
   ]
  },
  {
   "cell_type": "code",
   "execution_count": 127,
   "metadata": {},
   "outputs": [],
   "source": [
    "state = AppState()"
   ]
  },
  {
   "cell_type": "code",
   "execution_count": 87,
   "metadata": {
    "collapsed": true
   },
   "outputs": [],
   "source": [
    "traitlets.observe?"
   ]
  },
  {
   "cell_type": "code",
   "execution_count": 86,
   "metadata": {},
   "outputs": [],
   "source": [
    "state._default_problem_id()"
   ]
  },
  {
   "cell_type": "code",
   "execution_count": null,
   "metadata": {
    "collapsed": true,
    "extensions": {
     "jupyter_dashboards": {
      "version": 1,
      "views": {
       "grid_default": {
        "col": 0,
        "height": 8,
        "hidden": true,
        "row": 4,
        "width": 8
       },
       "report_default": {
        "hidden": false
       }
      }
     }
    }
   },
   "outputs": [],
   "source": [
    "state = AppState()\n",
    "\n",
    "## Solution selection (submission x problem) matrix\n",
    "prev_stud = Button(icon='fa-step-backward', description=' previous')\n",
    "next_stud = Button(icon='fa-step-forward', description=' next')\n",
    "next_ungraded_stud = Button(icon='fa-forward', description=' next ungraded')\n",
    "jump_to_stud = Text(description='Jump to', placeholder='student # or name')\n",
    "\n",
    "\n",
    "jump_to_problem = Dropdown(description='Jump to', placeholder='problem #', options=problems)\n",
    "\n",
    "## Solution and FeedbackOption\n",
    "options_feedback = SelectMultiple(name='feedback')\n",
    "remarks = Textarea(placeholder='Student-specific feedback')\n",
    "answer = Image(format='png', width='100%')\n",
    "\n",
    "## info\n",
    "graded_label = HTML()\n",
    "graded_label.template = '<h5>Graded by: {} @ {:%d/%m %H:%M}</h5>'.format\n",
    "\n",
    "problem_progress = IntProgress(\n",
    "    value=0,\n",
    "    min=0,\n",
    "    max=n_submissions,\n",
    "    step=1,\n",
    "    description='Progress:',\n",
    "    bar_style='success',\n",
    "    orientation='horizontal',\n",
    ")\n",
    "\n",
    "## grader selection\n",
    "grader = Dropdown(description='Grader', placeholder='Grader name', options=state.graders)\n",
    "widgets_to_disable = (options_feedback, remarks)\n",
    "for w in widgets_to_disable:\n",
    "    traitlets.directional_link((state, 'grader_id'), (w, 'disabled'))\n",
    "\n",
    "# \n",
    "option_names = Select(description='Feedback options', options=['ADD NEW'])\n",
    "option_name = Text(placeholder='Option name')\n",
    "option_score = IntText(description='Score')\n",
    "save_option = Button(description='Update/add', button_style='success')\n",
    "option_description = Textarea(placeholder='Full description', width='100%')\n",
    "delete_option = Button(description='Delete', button_style='danger')\n",
    "\n",
    "### Widget actions\n",
    "\n",
    "## Utilities\n",
    "\n",
    "def observe(widget, **kwargs):\n",
    "    return partial(widget.observe, **kwargs)\n",
    "\n",
    "def load_image(path):\n",
    "    with open(path, 'rb') as f:\n",
    "        return f.read()    \n",
    "\n",
    "# render the solution widgets\n",
    "def render_solution():\n",
    "    with orm.db_session:\n",
    "        if solution.graded_by is not None:\n",
    "            graded_by = ' '.join((solution.graded_by.first_name, solution.graded_by.last_name))\n",
    "        else:\n",
    "            graded_by = ''\n",
    "        num_graded = orm.count(s for s in db.Solution if s.problem.id == problem_id and s.graded_at is not None)\n",
    "\n",
    "    # update the UI state\n",
    "    answer.value = load_image(solution.image_path)\n",
    "\n",
    "    # We also need to update one of the feedback options widgets\n",
    "    option_names.options = ['ADD NEW'] + possible_feedback\n",
    "\n",
    "    problem_progress.value = num_graded\n",
    "    if solution.graded_at is None:\n",
    "        graded_label.value = ''\n",
    "    else: \n",
    "        graded_label.value = graded_label.template(graded_by, solution.graded_at or '')\n",
    "\n",
    "\n",
    "## actual controllers - abusing decorator syntax FTW!\n",
    "\n",
    "@prev_stud.on_click\n",
    "def _(sender):\n",
    "    state.previous_submission()\n",
    "\n",
    "@next_stud.on_click\n",
    "def _(sender):\n",
    "    state.next_submission()\n",
    "\n",
    "@next_ungraded_stud.on_click\n",
    "def _(sender):\n",
    "    state.next_ungraded()\n",
    "\n",
    "@observe(jump_to_problem, names=\"value\")\n",
    "@save_then_render\n",
    "def _(state):\n",
    "    # 'problems' global var is list of *all* problems ordered by problem ID\n",
    "    problem_id = state.problems.index(state['new']) + 1  # IDs in database start from 1\n",
    "    \n",
    "@observe(grader, names=\"value\")\n",
    "def _(state):\n",
    "    global grader_id\n",
    "    for w in widgets_to_disable:\n",
    "        w.disabled = not bool(state['new'])\n",
    "    try:\n",
    "        grader_id = graders.index(state['new']) + 1  # IDs in database start from 1\n",
    "    except ValueError:\n",
    "        grader_id = None\n",
    "\n",
    "@jump_to_stud.on_submit\n",
    "def _(sender):\n",
    "    global submission_id\n",
    "    try:\n",
    "        student_id = int(sender.value.strip()[:7])\n",
    "    except ValueError:\n",
    "        return\n",
    "    state.jump_to_student(student_id)\n",
    "\n",
    "## Controllers for the feedback options editing\n",
    "\n",
    "@observe(option_names, names='value')\n",
    "def _(state):\n",
    "    value = state['new']\n",
    "    if value == \"ADD NEW\":\n",
    "        option_name.value = ''\n",
    "        option_score.value = 0\n",
    "        option_description.value = ''\n",
    "        return\n",
    "\n",
    "    with orm.db_session:\n",
    "        fo = db.FeedbackOption.get(text=value, problem=db.Problem[problem_id])\n",
    "        description = fo.description or ''\n",
    "        score = fo.score or 0\n",
    "\n",
    "    option_description.value = description\n",
    "    option_score.value = score\n",
    "    option_name.value = option_names.value\n",
    "\n",
    "\n",
    "@save_option.on_click\n",
    "def _(sender):\n",
    "    value = option_names.value\n",
    "    if value == \"ADD NEW\":\n",
    "        value = option_name.value.strip()\n",
    "        if not value:\n",
    "            return\n",
    "        with orm.db_session:\n",
    "            if db.FeedbackOption.get(text=value, problem=db.Problem[problem_id]) is None:\n",
    "                db.FeedbackOption(text=value, problem=db.Problem[problem_id])\n",
    "            else:\n",
    "                option_names.value = value\n",
    "\n",
    "    # Set the details in the database.\n",
    "    with orm.db_session:\n",
    "        fo = db.FeedbackOption.get(text=value, problem=db.Problem[problem_id])\n",
    "        fo.text = option_name.value.strip()\n",
    "        fo.description = option_description.value.strip()\n",
    "        fo.score = option_score.value\n",
    "\n",
    "        possible_feedback = list(orm.select(f.text for f in db.FeedbackOption\n",
    "                                            if f.problem.id == problem_id).order_by('f.id'))\n",
    "\n",
    "        solution = db.Solution.get(submission=submission_id, problem=problem_id)\n",
    "        selected_feedback = [f.text for f in solution.feedback]\n",
    "\n",
    "    # Update UI state\n",
    "    global loaded_feedback\n",
    "    loaded_feedback = set(selected_feedback)\n",
    "    \n",
    "    # update the UI state\n",
    "    options_feedback.options = possible_feedback\n",
    "    options_feedback.value = selected_feedback\n",
    "\n",
    "    # We also need to update one of the feedback options widgets\n",
    "    option_names.options = ['ADD NEW'] + possible_feedback\n",
    "\n",
    "\n",
    "@delete_option.on_click\n",
    "def _(sender):\n",
    "    value = option_names.value\n",
    "    if value == \"ADD NEW\":\n",
    "        return\n",
    "    \n",
    "    # Wipe the option from database and get new options\n",
    "    with orm.db_session:\n",
    "        db.FeedbackOption.get(text=value, problem=db.Problem[problem_id]).delete()\n",
    "\n",
    "        orm.commit()\n",
    "        possible_feedback = list(orm.select(f.text for f in db.FeedbackOption\n",
    "                                            if f.problem.id == problem_id).order_by('f.id'))\n",
    "\n",
    "        solution = db.Solution.get(submission=submission_id, problem=problem_id)\n",
    "        selected_feedback = [f.text for f in solution.feedback]\n",
    "\n",
    "    # Update UI state\n",
    "    global loaded_feedback\n",
    "    loaded_feedback = set(selected_feedback)\n",
    "    \n",
    "    # update the UI state\n",
    "    options_feedback.options = possible_feedback\n",
    "    options_feedback.value = selected_feedback\n",
    "\n",
    "    # We also need to update one of the feedback options widgets\n",
    "    option_names.options = ['ADD NEW'] + possible_feedback\n",
    "    option_names.value = 'ADD NEW'"
   ]
  },
  {
   "cell_type": "markdown",
   "metadata": {
    "extensions": {
     "jupyter_dashboards": {
      "version": 1,
      "views": {
       "grid_default": {
        "col": 8,
        "height": 4,
        "hidden": true,
        "row": 13,
        "width": 4
       },
       "report_default": {}
      }
     }
    }
   },
   "source": [
    "# Layout"
   ]
  },
  {
   "cell_type": "code",
   "execution_count": null,
   "metadata": {
    "collapsed": true,
    "extensions": {
     "jupyter_dashboards": {
      "version": 1,
      "views": {
       "grid_default": {
        "col": 0,
        "height": 8,
        "hidden": true,
        "row": 4,
        "width": 12
       },
       "report_default": {
        "hidden": false
       }
      }
     }
    }
   },
   "outputs": [],
   "source": [
    "render_solution()"
   ]
  },
  {
   "cell_type": "code",
   "execution_count": null,
   "metadata": {
    "collapsed": true,
    "extensions": {
     "jupyter_dashboards": {
      "version": 1,
      "views": {
       "grid_default": {
        "col": 0,
        "height": 2,
        "hidden": false,
        "row": 0,
        "width": 12
       },
       "report_default": {}
      }
     }
    }
   },
   "outputs": [],
   "source": [
    "HBox([Label(value=\"minitest2\"), grader, jump_to_problem])"
   ]
  },
  {
   "cell_type": "code",
   "execution_count": null,
   "metadata": {
    "collapsed": true,
    "extensions": {
     "jupyter_dashboards": {
      "version": 1,
      "views": {
       "grid_default": {
        "col": 0,
        "height": 20,
        "hidden": false,
        "row": 2,
        "width": 12
       },
       "report_default": {}
      }
     }
    }
   },
   "outputs": [],
   "source": [
    "# Main layout\n",
    "\n",
    "grade = VBox([HBox([prev_stud, next_stud, next_ungraded_stud, jump_to_stud]),\n",
    "              HBox([options_feedback, remarks]),\n",
    "              HBox([problem_progress,  graded_label]), \n",
    "              answer])\n",
    "\n",
    "edit_feedback = VBox([option_names, \n",
    "                      HBox([option_name, \n",
    "                            option_score,\n",
    "                            save_option,\n",
    "                            delete_option]),\n",
    "                      \n",
    "                      option_description])\n",
    "\n",
    "editing = Tab(children=[grade, edit_feedback])\n",
    "editing.set_title(0, 'Grade')\n",
    "editing.set_title(1, 'Edit feedback options')\n",
    "editing"
   ]
  },
  {
   "cell_type": "code",
   "execution_count": null,
   "metadata": {
    "collapsed": true,
    "extensions": {
     "jupyter_dashboards": {
      "version": 1,
      "views": {
       "grid_default": {
        "col": 0,
        "height": 2,
        "hidden": false,
        "row": 22,
        "width": 1
       },
       "report_default": {}
      }
     }
    }
   },
   "outputs": [],
   "source": [
    "# apply javascript kludges\n",
    "# must trigger after the widgets were rendered\n",
    "\n",
    "selector = \"placeholder='{}'\".format(jump_to_stud.placeholder)\n",
    "display.display_javascript(display.Javascript(autocomplete.render(selector=selector, options=students)))\n",
    "display.display_javascript(prevent_unselect)"
   ]
  }
 ],
 "metadata": {
  "anaconda-cloud": {},
  "extensions": {
   "jupyter_dashboards": {
    "activeView": "grid_default",
    "version": 1,
    "views": {
     "grid_default": {
      "cellMargin": 10,
      "defaultCellHeight": 20,
      "maxColumns": 12,
      "name": "grid",
      "type": "grid"
     },
     "report_default": {
      "name": "report",
      "type": "report"
     }
    }
   }
  },
  "kernelspec": {
   "display_name": "Python 3",
   "language": "python",
   "name": "python3"
  },
  "language_info": {
   "codemirror_mode": {
    "name": "ipython",
    "version": 3
   },
   "file_extension": ".py",
   "mimetype": "text/x-python",
   "name": "python",
   "nbconvert_exporter": "python",
   "pygments_lexer": "ipython3",
   "version": "3.5.2"
  }
 },
 "nbformat": 4,
 "nbformat_minor": 2
}
