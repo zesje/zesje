{
 "cells": [
  {
   "cell_type": "code",
   "execution_count": null,
   "metadata": {
    "collapsed": false,
    "deletable": true,
    "editable": true,
    "extensions": {
     "jupyter_dashboards": {
      "version": 1,
      "views": {
       "grid_default": {
        "col": 0,
        "height": 4,
        "hidden": true,
        "row": 0,
        "width": 12
       },
       "report_default": {
        "hidden": true
       }
      }
     }
    }
   },
   "outputs": [],
   "source": [
    "from itertools import starmap\n",
    "from functools import partial\n",
    "from collections import namedtuple\n",
    "import random\n",
    "import datetime\n",
    "\n",
    "from IPython import display\n",
    "from ipywidgets import Button, Text, SelectMultiple, HBox, VBox, Textarea, Image, Label, HTML, Dropdown, IntProgress\n",
    "import pandas\n",
    "import jinja2\n",
    "from pony import orm\n",
    "\n",
    "import db\n",
    "db.use_db('minitest1_data/minitest1.sqlite')"
   ]
  },
  {
   "cell_type": "code",
   "execution_count": null,
   "metadata": {
    "collapsed": false,
    "deletable": true,
    "editable": true,
    "extensions": {
     "jupyter_dashboards": {
      "version": 1,
      "views": {
       "grid_default": {
        "hidden": true
       },
       "report_default": {
        "hidden": true
       }
      }
     }
    }
   },
   "outputs": [],
   "source": [
    "### Javascript kludges to add autocompletion to text boxes and enable multiple selections\n",
    "\n",
    "autocomplete = jinja2.Template(\"\"\"\n",
    "  $( function() {\n",
    "    var availableTags = [\n",
    "    {%- for option in options %}\n",
    "        \"{{ option }}\",\n",
    "    {%- endfor %}\n",
    "    ];\n",
    "    $( \":input[{{ selector }}]\" ).autocomplete({\n",
    "      minLength: 2,\n",
    "      source: availableTags\n",
    "    });\n",
    "  } );\n",
    "\"\"\")\n",
    "\n",
    "prevent_unselect = \"\"\"\n",
    "window.onmousedown = function (e) {\n",
    "    var el = e.target;\n",
    "    if (el.tagName.toLowerCase() == 'option' && el.parentNode.hasAttribute('multiple')) {\n",
    "        e.preventDefault();\n",
    "\n",
    "        // toggle selection\n",
    "        if (el.hasAttribute('selected')) el.removeAttribute('selected');\n",
    "        else el.setAttribute('selected', '');\n",
    "\n",
    "        // hack to correct buggy behavior\n",
    "        var select = el.parentNode.cloneNode(true);\n",
    "        el.parentNode.parentNode.replaceChild(select, el.parentNode);\n",
    "    }\n",
    "}\n",
    "\"\"\""
   ]
  },
  {
   "cell_type": "markdown",
   "metadata": {
    "deletable": true,
    "editable": true,
    "extensions": {
     "jupyter_dashboards": {
      "version": 1,
      "views": {
       "grid_default": {
        "col": 0,
        "height": 4,
        "hidden": true,
        "row": 13,
        "width": 4
       },
       "report_default": {}
      }
     }
    }
   },
   "source": [
    "# Widget definitions"
   ]
  },
  {
   "cell_type": "code",
   "execution_count": null,
   "metadata": {
    "collapsed": false,
    "deletable": true,
    "editable": true,
    "extensions": {
     "jupyter_dashboards": {
      "version": 1,
      "views": {
       "grid_default": {
        "col": 0,
        "height": 8,
        "hidden": true,
        "row": 4,
        "width": 8
       },
       "report_default": {
        "hidden": false
       }
      }
     }
    }
   },
   "outputs": [],
   "source": [
    "### Views -- all the individual widgets and UI state\n",
    "\n",
    "## Immutable app state\n",
    "with orm.db_session:\n",
    "    n_submissions = orm.max(sub.id for sub in db.Submission)\n",
    "    n_problems = db.Problem.select().count()\n",
    "    students = tuple(starmap('{} ({} {})'.format, orm.select((s.id, s.first_name, s.last_name) for s in db.Student)))\n",
    "    # Need to get *all* the problems/graders and have them ordered, so that the index in this tuple can be mapped\n",
    "    # to the id in the database.\n",
    "    problems = tuple(orm.select(p.name for p in db.Problem).order_by('p.id'))\n",
    "    graders = tuple(map(' '.join, orm.select((g.first_name, g.last_name) for g in db.Grader).order_by('g.id')))\n",
    "\n",
    "## Mutable app state\n",
    "\n",
    "# the solution that we are pointing to\n",
    "submission_id = 1\n",
    "problem_id = 1\n",
    "grader_id = None\n",
    "loaded_feedback = set()\n",
    "loaded_remarks = \"\"\n",
    "\n",
    "## Solution selection (submission x problem) matrix\n",
    "prev_stud = Button(icon='fa-step-backward', description=' previous')\n",
    "next_stud = Button(icon='fa-step-forward', description=' next')\n",
    "next_ungraded_stud = Button(icon='fa-forward', description=' next ungraded')\n",
    "jump_to_stud = Text(description='Jump to', placeholder='student # or name')\n",
    "\n",
    "\n",
    "jump_to_problem = Dropdown(description='Jump to', placeholder='problem #', options=problems)\n",
    "\n",
    "## Add feedback option\n",
    "new_option = Text(placeholder='New feedback option')\n",
    "\n",
    "## Solution and FeedbackOption\n",
    "options_feedback = SelectMultiple(name='feedback')\n",
    "remarks = Textarea(placeholder='Student-specific feedback')\n",
    "answer = Image(format='png', width='100%')\n",
    "\n",
    "## info\n",
    "graded_label = HTML()\n",
    "graded_label.template = '<h5>Graded by: {} @ {:%d/%m %H:%M}</h5>'.format\n",
    "\n",
    "problem_progress = IntProgress(\n",
    "    value=0,\n",
    "    min=0,\n",
    "    max=n_submissions,\n",
    "    step=1,\n",
    "    description='Progress:',\n",
    "    bar_style='success',\n",
    "    orientation='horizontal',\n",
    ")\n",
    "\n",
    "## grader selection\n",
    "grader = Dropdown(description='Grader', placeholder='Grader name', options=(None,) + graders)\n",
    "grader.value = None\n",
    "widgets_to_disable = (new_option, options_feedback, remarks)\n",
    "for w in widgets_to_disable:\n",
    "    w.disabled = True"
   ]
  },
  {
   "cell_type": "markdown",
   "metadata": {
    "deletable": true,
    "editable": true,
    "extensions": {
     "jupyter_dashboards": {
      "version": 1,
      "views": {
       "grid_default": {
        "col": 4,
        "height": 4,
        "hidden": true,
        "row": 13,
        "width": 4
       },
       "report_default": {}
      }
     }
    }
   },
   "source": [
    "# Widget behaviour"
   ]
  },
  {
   "cell_type": "code",
   "execution_count": null,
   "metadata": {
    "collapsed": false,
    "deletable": true,
    "editable": true,
    "extensions": {
     "jupyter_dashboards": {
      "version": 1,
      "views": {
       "grid_default": {
        "hidden": true
       },
       "report_default": {
        "hidden": true
       }
      }
     }
    }
   },
   "outputs": [],
   "source": [
    "### Controllers  -- hooking views (widgets) up to models\n",
    "\n",
    "## Utilities\n",
    "\n",
    "def increment(val, max_val):\n",
    "    return val + 1 if val < max_val else 1\n",
    "\n",
    "def decrement(val, max_val):\n",
    "    return val - 1 if val > 1 else max_val\n",
    "\n",
    "def observe(widget, **kwargs):\n",
    "    return partial(widget.observe, **kwargs)\n",
    "\n",
    "def add_option(target, value):\n",
    "    with target.hold_trait_notifications():\n",
    "        target.options = target.options + [value]\n",
    "    \n",
    "def load_image(path):\n",
    "    with open(path, 'rb') as f:\n",
    "        return f.read()\n",
    "\n",
    "# render the solution widgets\n",
    "def render_solution():\n",
    "    with orm.db_session:\n",
    "        # this works because Solution has '(submission, problem)' as its PrimaryKey\n",
    "        solution = db.Solution.get(submission=submission_id, problem=problem_id)\n",
    "        student = solution.submission.student\n",
    "        possible_feedback = list(orm.select(f.text for f in db.FeedbackOption\n",
    "                                            if solution.problem in f.problems).order_by('f.id'))\n",
    "        # get actual data back before we finish the database transaction\n",
    "        selected_feedback = [f.text for f in solution.feedback]\n",
    "        if solution.graded_by:\n",
    "            graded_by = ' '.join((solution.graded_by.first_name, solution.graded_by.last_name))\n",
    "        else:\n",
    "            graded_by = 'some guy'\n",
    "        graded_at = solution.graded_at\n",
    "        num_graded = orm.count(s for s in db.Solution if s.problem.id == problem_id and s.graded_at is not None)\n",
    "\n",
    "    # save app state\n",
    "    global loaded_feedback, loaded_remarks\n",
    "    loaded_feedback = set(selected_feedback)\n",
    "    loaded_remarks = solution.remarks\n",
    "    \n",
    "    # update the UI state\n",
    "    answer.value = load_image(solution.image_path)\n",
    "    options_feedback.options = possible_feedback\n",
    "    options_feedback.value = selected_feedback\n",
    "    remarks.value = solution.remarks\n",
    "    jump_to_stud.value = '{} ({}, {})'.format(student.id, student.first_name, student.last_name)\n",
    "    \n",
    "    problem_progress.value = num_graded\n",
    "    if graded_at is None:\n",
    "        graded_label.visible = False\n",
    "    else: \n",
    "        graded_label.value = graded_label.template(graded_by, graded_at)\n",
    "        graded_label.visible = True\n",
    "    \n",
    "# save the selected feedback\n",
    "def save_feedback():\n",
    "    if grader_id is None:\n",
    "        return  # should not save if the grader is not selected\n",
    "    selected_feedback = set(options_feedback.value)\n",
    "    if selected_feedback == loaded_feedback and remarks.value == loaded_remarks:\n",
    "        return  # nothing was changed -- do not save\n",
    "    with orm.db_session:\n",
    "        solution = db.Solution.get(submission=submission_id, problem=problem_id)\n",
    "        solution.feedback =  list(orm.select(fb for fb in db.FeedbackOption if fb.text in selected_feedback))\n",
    "        solution.remarks = remarks.value\n",
    "        solution.graded_by = db.Grader[grader_id]\n",
    "        solution.graded_at = datetime.datetime.now()\n",
    "\n",
    "def save_then_render(callback):\n",
    "    \n",
    "    def _(sender):\n",
    "        save_feedback()\n",
    "        callback(sender)\n",
    "        render_solution()\n",
    "    \n",
    "    return _\n",
    "\n",
    "## actual controllers - abusing decorator syntax FTW!\n",
    "\n",
    "@prev_stud.on_click\n",
    "@save_then_render\n",
    "def _(sender):\n",
    "    global submission_id\n",
    "    submission_id = decrement(submission_id, n_submissions)\n",
    "\n",
    "@next_stud.on_click\n",
    "@save_then_render\n",
    "def _(sender):\n",
    "    global submission_id\n",
    "    submission_id = increment(submission_id, n_submissions)\n",
    "\n",
    "@next_ungraded_stud.on_click\n",
    "@save_then_render\n",
    "def _(sender):\n",
    "    global submission_id\n",
    "    try:\n",
    "        submission_id = next(iter(orm.select(s.submission.id for s in db.Solution\n",
    "                                             if s.problem.id == problem_id and s.graded_at is None)))\n",
    "    except StopIteration:\n",
    "        pass  # when everything is graded\n",
    "\n",
    "@observe(jump_to_problem, names=\"value\")\n",
    "@save_then_render\n",
    "def _(state):\n",
    "    # 'problems' global var is list of *all* problems ordered by problem ID\n",
    "    global problem_id\n",
    "    problem_id = problems.index(state['new']) + 1  # IDs in database start from 1\n",
    "    \n",
    "@observe(grader, names=\"value\")\n",
    "def _(state):\n",
    "    global grader_id\n",
    "    for w in widgets_to_disable:\n",
    "        w.disabled = not bool(state['new'])\n",
    "    try:\n",
    "        grader_id = graders.index(state['new']) + 1  # IDs in database start from 1\n",
    "    except ValueError:\n",
    "        grader_id = None\n",
    "\n",
    "@new_option.on_submit\n",
    "def _(sender):\n",
    "    # add to database\n",
    "    with orm.db_session:\n",
    "        value = sender.value.strip()\n",
    "        if value:\n",
    "            option = db.FeedbackOption.get(text=sender.value)\n",
    "            problem = db.Problem[problem_id]\n",
    "            if not option:    \n",
    "                db.FeedbackOption(text=sender.value, problems=problem)\n",
    "            else:\n",
    "                option.problems += [problem]\n",
    "            # update UI state manually rather than doing a full re-render\n",
    "            add_option(options_feedback, value)\n",
    "    sender.value = ''\n",
    "\n",
    "@jump_to_stud.on_submit\n",
    "@save_then_render\n",
    "def _(sender):\n",
    "    global submission_id\n",
    "    try:\n",
    "        student_id = int(sender.value.strip()[:7])\n",
    "    except ValueError:\n",
    "        return\n",
    "    try:\n",
    "        with orm.db_session:\n",
    "            submission_id = db.Student.get(id=student_id).submission.id\n",
    "    except AttributeError:\n",
    "        return"
   ]
  },
  {
   "cell_type": "markdown",
   "metadata": {
    "deletable": true,
    "editable": true,
    "extensions": {
     "jupyter_dashboards": {
      "version": 1,
      "views": {
       "grid_default": {
        "col": 8,
        "height": 4,
        "hidden": true,
        "row": 13,
        "width": 4
       },
       "report_default": {}
      }
     }
    }
   },
   "source": [
    "# Layout"
   ]
  },
  {
   "cell_type": "code",
   "execution_count": null,
   "metadata": {
    "collapsed": false,
    "deletable": true,
    "editable": true,
    "extensions": {
     "jupyter_dashboards": {
      "version": 1,
      "views": {
       "grid_default": {
        "col": 0,
        "height": 8,
        "hidden": true,
        "row": 4,
        "width": 12
       },
       "report_default": {
        "hidden": false
       }
      }
     }
    }
   },
   "outputs": [],
   "source": [
    "render_solution()"
   ]
  },
  {
   "cell_type": "code",
   "execution_count": null,
   "metadata": {
    "collapsed": false,
    "deletable": true,
    "editable": true,
    "extensions": {
     "jupyter_dashboards": {
      "version": 1,
      "views": {
       "grid_default": {
        "col": 0,
        "height": 2,
        "hidden": false,
        "row": 0,
        "width": 12
       },
       "report_default": {}
      }
     }
    }
   },
   "outputs": [],
   "source": [
    "HBox([prev_stud, next_stud, next_ungraded_stud, jump_to_stud, jump_to_problem])"
   ]
  },
  {
   "cell_type": "code",
   "execution_count": null,
   "metadata": {
    "collapsed": false,
    "deletable": true,
    "editable": true,
    "extensions": {
     "jupyter_dashboards": {
      "version": 1,
      "views": {
       "grid_default": {
        "col": 0,
        "height": 6,
        "hidden": false,
        "row": 2,
        "width": 12
       },
       "report_default": {}
      }
     }
    }
   },
   "outputs": [],
   "source": [
    "HBox([VBox([options_feedback, new_option]), remarks])"
   ]
  },
  {
   "cell_type": "code",
   "execution_count": null,
   "metadata": {
    "collapsed": false,
    "deletable": true,
    "editable": true,
    "extensions": {
     "jupyter_dashboards": {
      "version": 1,
      "views": {
       "grid_default": {
        "col": 0,
        "height": 2,
        "hidden": false,
        "row": 8,
        "width": 12
       },
       "report_default": {}
      }
     }
    }
   },
   "outputs": [],
   "source": [
    "HBox([problem_progress, grader, graded_label])"
   ]
  },
  {
   "cell_type": "code",
   "execution_count": null,
   "metadata": {
    "collapsed": false,
    "deletable": true,
    "editable": true,
    "extensions": {
     "jupyter_dashboards": {
      "version": 1,
      "views": {
       "grid_default": {
        "col": 0,
        "height": 8,
        "hidden": false,
        "row": 10,
        "width": 12
       },
       "report_default": {}
      }
     }
    }
   },
   "outputs": [],
   "source": [
    "answer"
   ]
  },
  {
   "cell_type": "code",
   "execution_count": null,
   "metadata": {
    "collapsed": false,
    "deletable": true,
    "editable": true,
    "extensions": {
     "jupyter_dashboards": {
      "version": 1,
      "views": {
       "grid_default": {
        "col": 0,
        "height": 2,
        "hidden": false,
        "row": 18,
        "width": 1
       },
       "report_default": {}
      }
     }
    }
   },
   "outputs": [],
   "source": [
    "# apply javascript kludges\n",
    "# must trigger after the widgets were rendered\n",
    "\n",
    "selector = \"placeholder='{}'\".format(jump_to_stud.placeholder)\n",
    "display.display_javascript(display.Javascript(autocomplete.render(selector=selector, options=students)))\n",
    "display.display_javascript(prevent_unselect)"
   ]
  }
 ],
 "metadata": {
  "anaconda-cloud": {},
  "extensions": {
   "jupyter_dashboards": {
    "activeView": "grid_default",
    "version": 1,
    "views": {
     "grid_default": {
      "cellMargin": 10,
      "defaultCellHeight": 20,
      "maxColumns": 12,
      "name": "grid",
      "type": "grid"
     },
     "report_default": {
      "name": "report",
      "type": "report"
     }
    }
   }
  },
  "kernelspec": {
   "display_name": "Python 3",
   "language": "python",
   "name": "python3"
  },
  "language_info": {
   "codemirror_mode": {
    "name": "ipython",
    "version": 3
   },
   "file_extension": ".py",
   "mimetype": "text/x-python",
   "name": "python",
   "nbconvert_exporter": "python",
   "pygments_lexer": "ipython3",
   "version": "3.5.2"
  }
 },
 "nbformat": 4,
 "nbformat_minor": 2
}
