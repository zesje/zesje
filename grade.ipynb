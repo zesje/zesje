{
 "cells": [
  {
   "cell_type": "code",
   "execution_count": null,
   "metadata": {
    "extensions": {
     "jupyter_dashboards": {
      "version": 1,
      "views": {
       "grid_default": {
        "hidden": true
       },
       "report_default": {}
      }
     }
    }
   },
   "outputs": [],
   "source": [
    "from functools import partial\n",
    "from collections import namedtuple, Counter\n",
    "import operator\n",
    "import os\n",
    "import secrets\n",
    "import subprocess\n",
    "import shutil\n",
    "import tempfile\n",
    "\n",
    "import nbconvert\n",
    "import nbformat\n",
    "from IPython import display\n",
    "import ipywidgets\n",
    "from ipywidgets import Button, Text, SelectMultiple, HBox, VBox,\\\n",
    "                       Textarea, Image, Label, HTML, Dropdown,\\\n",
    "                       Tab, IntText, Select, Checkbox\n",
    "\n",
    "import traitlets\n",
    "import pandas\n",
    "import jinja2\n",
    "from pony import orm\n",
    "\n",
    "import db\n",
    "import emailing_feedback\n",
    "from app_model import AppModel\n",
    "from progressbar import ProgressWithTitle"
   ]
  },
  {
   "cell_type": "code",
   "execution_count": null,
   "metadata": {
    "collapsed": true,
    "extensions": {
     "jupyter_dashboards": {
      "version": 1,
      "views": {
       "grid_default": {
        "hidden": true
       },
       "report_default": {}
      }
     }
    }
   },
   "outputs": [],
   "source": [
    "state = AppModel()"
   ]
  },
  {
   "cell_type": "code",
   "execution_count": null,
   "metadata": {
    "collapsed": true,
    "extensions": {
     "jupyter_dashboards": {
      "version": 1,
      "views": {
       "grid_default": {
        "hidden": true
       },
       "report_default": {
        "hidden": true
       }
      }
     }
    }
   },
   "outputs": [],
   "source": [
    "### Javascript kludges to add autocompletion to text boxes and enable multiple selections\n",
    "\n",
    "autocomplete = jinja2.Template(\"\"\"\n",
    "  $( function() {\n",
    "    var availableTags = [\n",
    "    {%- for option in options %}\n",
    "        \"{{ option }}\",\n",
    "    {%- endfor %}\n",
    "    ];\n",
    "    $( \":input[{{ selector }}]\" ).autocomplete({\n",
    "      minLength: 2,\n",
    "      source: availableTags\n",
    "    });\n",
    "  } );\n",
    "\"\"\")\n",
    "\n",
    "prevent_unselect = \"\"\"\n",
    "window.onmousedown = function (e) {\n",
    "    var el = e.target;\n",
    "    if (el.tagName.toLowerCase() == 'option' && el.parentNode.hasAttribute('multiple')) {\n",
    "        e.preventDefault();\n",
    "\n",
    "        // toggle selection\n",
    "        if (el.hasAttribute('selected')) el.removeAttribute('selected');\n",
    "        else el.setAttribute('selected', '');\n",
    "\n",
    "        // hack to correct buggy behavior\n",
    "        var select = el.parentNode.cloneNode(true);\n",
    "        el.parentNode.parentNode.replaceChild(select, el.parentNode);\n",
    "    }\n",
    "}\n",
    "\"\"\"\n",
    "\n",
    "default_email_template = \"\"\"Dear {{student.first_name.split(' ') | first }} {{student.last_name}},\n",
    "\n",
    "Below please find attached the scans of your exam and our feedback.\n",
    "If you have any questions, don't hesitate to contant us.\n",
    "\n",
    "{% for problem in results | sort(attribute='name') if problem.feedback  -%}\n",
    "{{problem.name}} (your score: {{problem.score}} out of {{problem.max_score}}):\n",
    "{% for feedback in problem.feedback %}\n",
    "    * {{ (feedback.description or feedback.short) | wordwrap | indent(width=6) }}\n",
    "{% endfor %}\n",
    "{%- if problem.remarks %}\n",
    "    * {{ problem.remarks | wordwrap | indent(width=6) }}\n",
    "{% endif %}\n",
    "{% endfor %}\n",
    "\n",
    "{%- if student.total < 60 -%}\n",
    "Your grade is below 6\n",
    "{%- elif student.total < 80 -%}\n",
    "Your grade is between 6 and 8.\n",
    "{%- else -%}\n",
    "Your grade is above 8. Very good\n",
    "{%- endif%}\n",
    "\n",
    "Best regards,\n",
    "Solid state course team.\"\"\""
   ]
  },
  {
   "cell_type": "code",
   "execution_count": null,
   "metadata": {
    "extensions": {
     "jupyter_dashboards": {
      "version": 1,
      "views": {
       "grid_default": {
        "col": 2,
        "height": 4,
        "hidden": false,
        "row": 38,
        "width": 4
       },
       "report_default": {}
      }
     }
    }
   },
   "outputs": [],
   "source": [
    "%%HTML\n",
    "<style>\n",
    ".widget-hbox .widget-label {\n",
    "    max-width: unset ;\n",
    "}\n",
    "</style>"
   ]
  },
  {
   "cell_type": "markdown",
   "metadata": {
    "extensions": {
     "jupyter_dashboards": {
      "version": 1,
      "views": {
       "grid_default": {
        "col": 0,
        "height": 4,
        "hidden": true,
        "row": 13,
        "width": 4
       },
       "report_default": {}
      }
     }
    }
   },
   "source": [
    "# Widget definitions and interaction"
   ]
  },
  {
   "cell_type": "code",
   "execution_count": null,
   "metadata": {
    "extensions": {
     "jupyter_dashboards": {
      "version": 1,
      "views": {
       "grid_default": {
        "hidden": true
       },
       "report_default": {}
      }
     }
    }
   },
   "outputs": [],
   "source": [
    "## Solution selection (submission x problem) matrix\n",
    "prev_stud = Button(icon='fa-step-backward', description=' previous')\n",
    "next_stud = Button(icon='fa-step-forward', description=' next')\n",
    "next_ungraded_stud = Button(icon='fa-forward', description=' next ungraded')\n",
    "jump_to_stud = Text(description='Jump to', placeholder='student # or name')\n",
    "traitlets.directional_link((state, 'student'), (jump_to_stud, 'value'))\n",
    "\n",
    "jump_to_exam = Dropdown(description='Exam', placeholder='exam #')\n",
    "\n",
    "traitlets.link((state, 'exams'), (jump_to_exam, 'options'))\n",
    "traitlets.link((state, 'exam_id'), (jump_to_exam, 'value'))\n",
    "\n",
    "jump_to_problem = Dropdown(description='Jump to', placeholder='problem #')\n",
    "\n",
    "traitlets.link((state, 'problems'), (jump_to_problem, 'options'))\n",
    "traitlets.link((state, 'problem_id'), (jump_to_problem, 'value'))\n",
    "\n",
    "## Solution and FeedbackOption\n",
    "options_feedback = SelectMultiple(name='feedback')\n",
    "options_feedback.layout.width = 'flex-stretch'\n",
    "options_feedback.layout.height = 'flex-stretch'\n",
    "\n",
    "traitlets.directional_link((state, 'feedback_options'), (options_feedback, 'options'))\n",
    "\n",
    "remarks = Textarea(placeholder='Student-specific feedback')\n",
    "remarks.layout.width = '40%'\n",
    "remarks.layout.height = '300px'\n",
    "remarks.layout.min_height = '300px'\n",
    "remarks.layout.max_height = '300px'\n",
    "\n",
    "traitlets.link((state, 'remarks'), (remarks, 'value'))\n",
    "\n",
    "full_page = Checkbox(description='Show full page')\n",
    "traitlets.link((state, 'show_full_page'), (full_page, 'value'))\n",
    "\n",
    "answer = Image(format='png', width='100%')\n",
    "\n",
    "## info\n",
    "graded_label = HTML()\n",
    "graded_label.template = '<h5>Graded by: {} @ {:%d/%m %H:%M}</h5>'.format\n",
    "\n",
    "problem_progress = ProgressWithTitle(\n",
    "    value=0,\n",
    "    min=0,\n",
    "    step=1,\n",
    "    title='Progress',\n",
    "    bar_style='success',\n",
    "    orientation='horizontal',\n",
    ")\n",
    "\n",
    "traitlets.directional_link((state, 'exam_id'), (problem_progress, 'max'), state.num_submissions)\n",
    "\n",
    "## grader selection\n",
    "grader = Dropdown(description='Grader', placeholder='Grader name', options=state.graders)\n",
    "widgets_to_disable = (options_feedback, remarks)\n",
    "for w in widgets_to_disable:\n",
    "    traitlets.directional_link((state, 'grader_id'), (w, 'disabled'), transform=lambda x: x == 0)\n",
    "\n",
    "option_names = Select(description='Feedback options', options=[('ADD NEW', 0)])\n",
    "option_names.layout.height = '300px'\n",
    "\n",
    "traitlets.directional_link((state, 'feedback_options'), (option_names, 'options'),\n",
    "                           transform=lambda x: [('ADD NEW', 0)] + x)\n",
    "\n",
    "traitlets.link((option_names, 'value'), (state, 'edited_feedback_option'))\n",
    "\n",
    "traitlets.directional_link((option_names, 'value'), (state, 'edited_feedback_option'))\n",
    "\n",
    "option_name = Text(placeholder='Option name')\n",
    "traitlets.link((state, 'edited_feedback_name'), (option_name, 'value'))\n",
    "\n",
    "option_score = IntText(description='Score')\n",
    "traitlets.link((option_score, 'value'), (state, 'edited_score'))\n",
    "\n",
    "option_description = Textarea(placeholder='Full description')\n",
    "option_description.layout.width = '100%'\n",
    "\n",
    "traitlets.link((option_description, 'value'), (state, 'edited_description'))\n",
    "\n",
    "save_option = Button(description='Update/add', button_style='success')\n",
    "delete_option = Button(description='Delete', button_style='danger')\n",
    "\n",
    "stats = HTML()\n",
    "\n",
    "email_template = Textarea(value=default_email_template)\n",
    "email_template.layout.width = '50%'\n",
    "email_template.layout.height = '400px'\n",
    "email_to = Text(description='Recipients', placeholder='tdee@wondr.ld, tdoo@wondr.ld')\n",
    "include_student = Checkbox(description='send to student', value=False)\n",
    "attach_pdf = Checkbox(description='Attach pdf', value=True)\n",
    "send_email = Button(icon='fa-paper-plane', description='Send email', button_style='warning')\n",
    "\n",
    "render_email = Button(description='Refresh', button_style='success')\n",
    "email_result = HTML()\n",
    "email_result.layout.width = '50%'\n",
    "\n",
    "@render_email.on_click\n",
    "def email_from_template(change=None):\n",
    "    with orm.db_session():\n",
    "        try:\n",
    "            student_id = db.Submission[state.submission_id].student.id\n",
    "        except AttributeError:\n",
    "            email_result.value = ('<pre>Student id missing in submission, '\n",
    "                                  'please provide it via validate_nr dashboard')\n",
    "    email_result.value = ('<pre>' \n",
    "                          + emailing_feedback.form_email(state.exam_id, student_id,\n",
    "                                                         template=email_template.value,\n",
    "                                                         text_only=True)\n",
    "                          + '</pre>')    \n",
    "\n",
    "@send_email.on_click\n",
    "def send_single_email(sender=None):\n",
    "    recipients = list(map((lambda s: s.strip()), email_to.value.split(',')))\n",
    "    with orm.db_session():\n",
    "        try:\n",
    "            student_id = db.Submission[state.submission_id].student.id\n",
    "        except AttributeError:\n",
    "            return  # No student ⇒ cannot form the email ⇒ do nothing.\n",
    "    if include_student.value:\n",
    "        with orm.db_session:\n",
    "            # This may fail, should represent this in UI!\n",
    "            recipients.append(db.Student[student_id].email)\n",
    "    msg = emailing_feedback.form_email(state.exam_id, student_id, template=email_template.value,\n",
    "                                       attach=attach_pdf.value, text_only=False)\n",
    "    emailing_feedback.send([msg], recipients)\n",
    "\n",
    "\n",
    "generate_report = Button(description='Exam statistics report')\n",
    "\n",
    "@generate_report.on_click\n",
    "def prepare_report_notebook(sender=None, target_folder='/node_modules/jupyter-dashboards-server/public'):\n",
    "    if not os.path.exists(target_folder):\n",
    "        target_folder = '.'\n",
    "    with orm.db_session:\n",
    "        target = db.Exam[state.exam_id].name + '_summary.html'\n",
    "\n",
    "    jupyter = os.path.join(os.path.dirname(sys.executable), 'jupyter')\n",
    "    subprocess.run('export EXAM_ID={};{} nbconvert --to html '\n",
    "                   '--execute --HTMLExporter.exclude_input=True '\n",
    "                   '--HTMLExporter.exclude_output_prompt=True --output {} summary_report.ipynb'\n",
    "                   .format(state.exam_id, jupyter, os.path.join(target_folder, target)),\n",
    "                   shell=True)\n",
    "    alerts.value = '<script>window.open(\"/{0}\", \"_self\")</script>'.format(target)\n",
    "\n",
    "export_grades = Button(description='Export exam grades')\n",
    "\n",
    "@export_grades.on_click\n",
    "def export_exam_grade(sender=None, target_folder='/node_modules/jupyter-dashboards-server/public'):\n",
    "    if not os.path.exists(target_folder):\n",
    "        target_folder = '.'\n",
    "    data = db.full_exam_data(state.exam_id)\n",
    "    if export_format.value == 'DataFrame (detailed)':\n",
    "        fname = 'scores_' + secrets.token_urlsafe(8) + '.pd'\n",
    "        full_path = os.path.join(target_folder, fname)\n",
    "        data.to_pickle(full_path)\n",
    "    elif export_format.value == 'Spreadsheet (detailed)':\n",
    "        fname = 'scores_' + secrets.token_urlsafe(8) + '.xlsx'\n",
    "        full_path = os.path.join(target_folder, fname)\n",
    "        data.to_excel(full_path)\n",
    "    elif export_format.value == 'Spreadsheet (summary)':\n",
    "        fname = 'scores_' + secrets.token_urlsafe(8) + '.xlsx'\n",
    "        full_path = os.path.join(target_folder, fname)\n",
    "        data = data.iloc[:, data.columns.get_level_values(1)=='total']\n",
    "        data.columns = data.columns.get_level_values(0)\n",
    "        data.to_excel(full_path)\n",
    "    elif export_format.value == 'Complete database':\n",
    "        fname = 'course_database_' + secrets.token_urlsafe(8) + '.sqlite'\n",
    "        full_path = os.path.join(target_folder, fname)\n",
    "        shutil.copy('course.sqlite', full_path)\n",
    "    else:\n",
    "        raise RuntimeError(\"Unrecognized export format\")\n",
    "\n",
    "    alerts.value = '<script>window.open(\"/{0}\", \"_self\")</script>'.format(fname)\n",
    "    subprocess.Popen('sleep 30; rm ' + full_path, shell=True)\n",
    "    \n",
    "export_format = Dropdown(\n",
    "                    options=['Spreadsheet (detailed)',\n",
    "                             'Spreadsheet (summary)',\n",
    "                             'DataFrame (detailed)',\n",
    "                             'Complete database',\n",
    "                            ]\n",
    "                )\n",
    "\n",
    "confirm_full_feedback = Checkbox(description='Yes, email everyone', value=False)\n",
    "email_full_feedback = Button(description='Email results to everyone', button_style='danger')\n",
    "traitlets.directional_link((confirm_full_feedback, 'value'),\n",
    "                           (email_full_feedback, 'disabled'),\n",
    "                           operator.not_)\n",
    "alerts = HTML()\n",
    "\n",
    "\n",
    "\n",
    "@email_full_feedback.on_click\n",
    "def email_all_feedback(sender=None):\n",
    "    alerts.value = (\"<script>alert('preparing and emailing all results\"\n",
    "                           \" takes a lot of time. Do not leave the page while processing continues!')</script>\")\n",
    "    with orm.db_session:\n",
    "        student_ids = list(db.Exam[state.exam_id].submissions.student.id)\n",
    "\n",
    "    messages = [emailing_feedback.form_email(state.exam_id, sid, template=email_template.value,\n",
    "                                             attach=attach_pdf.value, text_only=False)\n",
    "                for sid in student_ids]\n",
    "    failed = emailing_feedback.send(messages)\n",
    "    if failed:\n",
    "        msg = '<script>alert(\"Could not send emails to {}\")</script>'\n",
    "        alerts.value = msg.format(', '.join(str(student_ids[i]) for i in failed))\n",
    "    else:\n",
    "        alerts.value = '<script>alert(\"All emails sent successfully.\")</script>'\n",
    "\n",
    "\n",
    "def render_stats(change):\n",
    "    if editing.selected_index != 2:\n",
    "        return\n",
    "    # Pandas is an overkill for merely making a table, but typing is hard.\n",
    "\n",
    "    df = pandas.DataFrame({fo.text: (fo.solutions.count(), fo.score) \n",
    "                           for fo in db.Problem[state.problem_id].feedback_options}, \n",
    "                          index=['amount', 'score']).T.fillna(0).astype(int)\n",
    "    df.index.name = \"Feedback\"\n",
    "    stats.value = '<h4>Feedback frequencies and scores</h4>'\n",
    "    stats.value += df._repr_html_()\n",
    "    df = pandas.DataFrame(pandas.Series(Counter(sum(fo.score or 0 for fo in sol.feedback) \n",
    "                          for sol in db.Problem[state.problem_id].solutions)), columns=['Amount'])\n",
    "    df.index.name = 'Score'\n",
    "    stats.value += '<hr><h4>Score distribution</h4>'\n",
    "    stats.value += df.T._repr_html_()\n",
    "    stats.value += '<hr><h4>Feedback → student number</h4>'\n",
    "    for fo in db.Problem[state.problem_id].feedback_options:\n",
    "        students = filter((lambda s: s is not None), fo.solutions.submission.student.id)\n",
    "        stats.value += '<p><h5>' + fo.text + '</h5>' + ', '.join(map(str, students)) + '</p>'\n",
    "\n",
    "state.observe(render_stats, names=['exam_id', 'problem_id'])\n",
    "\n",
    "def render_ui(_=None):\n",
    "    image, grader = state.get_solution()\n",
    "    answer.value = image\n",
    "    render_grader(*grader)\n",
    "\n",
    "def render_grader(graded_by, graded_at):\n",
    "    if (graded_by is None) ^ (graded_at is None):\n",
    "        raise ValueError('Invalid grading state')\n",
    "    if graded_by is None:\n",
    "        graded_label.value = ''\n",
    "    else:\n",
    "        graded_label.value = graded_label.template(graded_by, graded_at)\n",
    "    problem_progress.value = state.num_graded()\n",
    "\n",
    "state.observe(render_ui, names=['exam_id', 'submission_id', 'problem_id', \n",
    "                                'feedback_options', 'show_full_page'])\n",
    "\n",
    "## Utilities\n",
    "\n",
    "def observe(widget, **kwargs):\n",
    "    return partial(widget.observe, **kwargs)\n",
    "\n",
    "def load_image(path):\n",
    "    with open(path, 'rb') as f:\n",
    "        return f.read()    \n",
    "\n",
    "## actual controllers - abusing decorator syntax FTW!\n",
    "prev_stud.on_click(lambda _: state.previous_submission())\n",
    "next_stud.on_click(lambda _: state.next_submission())\n",
    "next_ungraded_stud.on_click(lambda _: state.next_ungraded())\n",
    "\n",
    "@jump_to_stud.on_submit\n",
    "def _(sender):\n",
    "    try:\n",
    "        student_id = int(sender.value.strip()[:7])\n",
    "    except ValueError:\n",
    "        return\n",
    "    state.jump_to_student(student_id)\n",
    "    \n",
    "@observe(grader, names=\"value\")\n",
    "def _(sender):\n",
    "    if sender['new'] == 'None':\n",
    "        state.set_grader(None)\n",
    "    else:   \n",
    "        state.set_grader(sender['new'])\n",
    "\n",
    "traitlets.link((options_feedback, 'value'), (state, 'selected_feedback'))\n",
    "traitlets.link((remarks, 'value'), (state, 'remarks'))\n",
    "\n",
    "## Controllers for the feedback options editing\n",
    "\n",
    "save_option.on_click(state.commit_feedback_edit)\n",
    "delete_option.on_click(state.delete_feedback_option)"
   ]
  },
  {
   "cell_type": "code",
   "execution_count": null,
   "metadata": {
    "collapsed": true,
    "extensions": {
     "jupyter_dashboards": {
      "version": 1,
      "views": {
       "grid_default": {
        "hidden": true
       },
       "report_default": {}
      }
     }
    }
   },
   "outputs": [],
   "source": [
    "render_ui()"
   ]
  },
  {
   "cell_type": "markdown",
   "metadata": {
    "extensions": {
     "jupyter_dashboards": {
      "version": 1,
      "views": {
       "grid_default": {
        "col": 8,
        "height": 4,
        "hidden": true,
        "row": 13,
        "width": 4
       },
       "report_default": {}
      }
     }
    }
   },
   "source": [
    "# Layout"
   ]
  },
  {
   "cell_type": "code",
   "execution_count": null,
   "metadata": {
    "extensions": {
     "jupyter_dashboards": {
      "version": 1,
      "views": {
       "grid_default": {
        "col": 0,
        "height": 2,
        "hidden": false,
        "row": 0,
        "width": 12
       },
       "report_default": {}
      }
     }
    }
   },
   "outputs": [],
   "source": [
    "HBox([grader, jump_to_exam, jump_to_problem])"
   ]
  },
  {
   "cell_type": "code",
   "execution_count": null,
   "metadata": {
    "extensions": {
     "jupyter_dashboards": {
      "version": 1,
      "views": {
       "grid_default": {
        "col": 0,
        "height": 36,
        "hidden": false,
        "row": 2,
        "width": 12
       },
       "report_default": {}
      }
     }
    },
    "scrolled": true
   },
   "outputs": [],
   "source": [
    "# Main layout\n",
    "\n",
    "grade = VBox([HBox([prev_stud, next_stud, next_ungraded_stud, jump_to_stud]),\n",
    "              HBox([options_feedback, remarks]),\n",
    "              HBox([problem_progress,  graded_label, full_page]), \n",
    "              answer])\n",
    "\n",
    "edit_feedback = VBox([option_names, \n",
    "                      HBox([option_name, \n",
    "                            option_score,\n",
    "                            save_option,\n",
    "                            delete_option]),\n",
    "                      \n",
    "                      option_description])\n",
    "\n",
    "individual_email = VBox([HBox([prev_stud, next_stud, jump_to_stud, render_email]),\n",
    "                         HBox([email_template, email_result]),\n",
    "                         HBox([email_to, include_student, attach_pdf, send_email]),\n",
    "                        ])\n",
    "\n",
    "summary = VBox([generate_report,\n",
    "                HBox([export_grades, export_format]), \n",
    "                email_full_feedback, \n",
    "                confirm_full_feedback, \n",
    "                alerts])\n",
    "\n",
    "editing = Tab(children=[grade, edit_feedback, stats, individual_email, summary])\n",
    "editing.set_title(0, 'Grade')\n",
    "editing.set_title(1, 'Edit feedback options')\n",
    "editing.set_title(2, 'Problem statistics')\n",
    "editing.set_title(3, 'individual email')\n",
    "editing.set_title(4, 'summary & email')\n",
    "\n",
    "editing.observe(render_stats, names=['selected_index'])\n",
    "\n",
    "editing"
   ]
  },
  {
   "cell_type": "code",
   "execution_count": null,
   "metadata": {
    "extensions": {
     "jupyter_dashboards": {
      "version": 1,
      "views": {
       "grid_default": {
        "col": 0,
        "height": 2,
        "hidden": false,
        "row": 38,
        "width": 1
       },
       "report_default": {}
      }
     }
    }
   },
   "outputs": [],
   "source": [
    "# apply javascript kludges\n",
    "# must trigger after the widgets were rendered\n",
    "\n",
    "selector = \"placeholder='{}'\".format(jump_to_stud.placeholder)\n",
    "display.display_javascript(display.Javascript(autocomplete.render(selector=selector, options=state.students)))\n",
    "display.display_javascript(prevent_unselect)"
   ]
  },
  {
   "cell_type": "code",
   "execution_count": null,
   "metadata": {
    "collapsed": true
   },
   "outputs": [],
   "source": [
    "import sys"
   ]
  }
 ],
 "metadata": {
  "anaconda-cloud": {},
  "extensions": {
   "jupyter_dashboards": {
    "activeView": "grid_default",
    "version": 1,
    "views": {
     "grid_default": {
      "cellMargin": 10,
      "defaultCellHeight": 20,
      "maxColumns": 12,
      "name": "grid",
      "type": "grid"
     },
     "report_default": {
      "name": "report",
      "type": "report"
     }
    }
   }
  },
  "kernelspec": {
   "display_name": "Python 3",
   "language": "python",
   "name": "python3"
  },
  "language_info": {
   "codemirror_mode": {
    "name": "ipython",
    "version": 3
   },
   "file_extension": ".py",
   "mimetype": "text/x-python",
   "name": "python",
   "nbconvert_exporter": "python",
   "pygments_lexer": "ipython3",
   "version": "3.6.0"
  }
 },
 "nbformat": 4,
 "nbformat_minor": 2
}
