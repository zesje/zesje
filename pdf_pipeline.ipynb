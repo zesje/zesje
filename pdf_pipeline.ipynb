{
 "cells": [
  {
   "cell_type": "code",
   "execution_count": null,
   "metadata": {
    "collapsed": false
   },
   "outputs": [],
   "source": [
    "%matplotlib inline\n",
    "from matplotlib import pyplot"
   ]
  },
  {
   "cell_type": "code",
   "execution_count": null,
   "metadata": {
    "collapsed": false
   },
   "outputs": [],
   "source": [
    "import os\n",
    "from datetime import datetime\n",
    "import subprocess\n",
    "import shutil\n",
    "import argparse\n",
    "import itertools\n",
    "from tempfile import mkdtemp\n",
    "from xml.dom import minidom\n",
    "from functools import lru_cache\n",
    "\n",
    "import cv2\n",
    "import zbarlight\n",
    "import numpy as np\n",
    "import pandas\n",
    "import yaml\n",
    "from PIL import Image\n",
    "\n",
    "from pony.orm import db_session\n",
    "import db\n",
    "\n",
    "YAML_VERSION = 0"
   ]
  },
  {
   "cell_type": "code",
   "execution_count": null,
   "metadata": {
    "collapsed": true
   },
   "outputs": [],
   "source": [
    "import zbar  # From zbar-py, better than zbarlight because it returns coordinates!"
   ]
  },
  {
   "cell_type": "code",
   "execution_count": null,
   "metadata": {
    "collapsed": true
   },
   "outputs": [],
   "source": [
    "os.chdir('/home/ton/Bot/current_work/grader_app/test1_data/')\n",
    "images = os.listdir()"
   ]
  },
  {
   "cell_type": "code",
   "execution_count": null,
   "metadata": {
    "collapsed": true
   },
   "outputs": [],
   "source": [
    "@lru_cache()\n",
    "def studentnr_data(dpi):\n",
    "    \"\"\"Prepare data for extracting the student number.\n",
    "\n",
    "    Returns\n",
    "    =======\n",
    "    template : array\n",
    "        A properly scaled image of the widget with source drawing.\n",
    "    centers : array of int\n",
    "        Sorted coordinates of the centers of all circles from the matrix.\n",
    "    r : int\n",
    "        Radius of the circles.\n",
    "\n",
    "    \"\"\"\n",
    "    doc = minidom.parse('number_widget.svg')\n",
    "    centers = np.array([(float(path.getAttribute('cx')),\n",
    "                         float(path.getAttribute('cy')))\n",
    "                        for path in doc.getElementsByTagName('ellipse')])\n",
    "    centers = centers[np.lexsort(centers.T)]\n",
    "    centers = np.rint((dpi * 100/90 / 90) * centers).astype(int)\n",
    "    r = next(iter(doc.getElementsByTagName('ellipse'))).getAttribute('rx')\n",
    "    r = int(float(r) * (dpi * 100/90 / 90))\n",
    "\n",
    "    subprocess.run(['convert', '-density', str(dpi * 100//90), 'number_widget.svg',\n",
    "                    'number_widget.png'])\n",
    "    template = cv2.imread('number_widget.png')\n",
    "    os.remove('number_widget.png')\n",
    "    return template, centers, r"
   ]
  },
  {
   "cell_type": "code",
   "execution_count": null,
   "metadata": {
    "collapsed": false
   },
   "outputs": [],
   "source": [
    "def pdf_to_images(filename, loc=None):\n",
    "    \"\"\"Extract all images out of a pdf file.\"\"\"\n",
    "    loc = loc or os.getcwd()\n",
    "    # For some reason still writes the images in the same folder as the original file :(\n",
    "    subprocess.run(['pdfimages', '-png', filename, os.path.join(loc, filename[:-len('.pdf')])])\n",
    "    return os.listdir(loc)\n",
    "\n",
    "pdf_to_images('../scans_test1.pdf')"
   ]
  },
  {
   "cell_type": "code",
   "execution_count": null,
   "metadata": {
    "collapsed": false
   },
   "outputs": [],
   "source": [
    "def read_yaml(filename):\n",
    "    with open(filename) as f:\n",
    "        exam_data = yaml.load(f)\n",
    "\n",
    "    if exam_data['protocol_version'] != YAML_VERSION:\n",
    "        raise RuntimeError('Only v{} supported'.format(YAML_VERSION))\n",
    "    db_file = exam_data['name'] + '.sqlite'\n",
    "    widgets = pandas.DataFrame(exam_data['widgets']).T\n",
    "    widgets.index.name = 'name'\n",
    "    qr = widgets[widgets.index.str.contains('qrcode')]\n",
    "    widgets = widgets[~widgets.index.str.contains('qrcode')]\n",
    "    return exam_data['name'], qr, widgets\n",
    "\n",
    "name, qr, widgets = read_yaml('../minitest1.yml')"
   ]
  },
  {
   "cell_type": "code",
   "execution_count": null,
   "metadata": {
    "collapsed": true
   },
   "outputs": [],
   "source": [
    "def guess_dpi(image_array):\n",
    "    h, w, *_ = image_array.shape\n",
    "    dpi = np.round(np.array([h, w]) / (297, 210) * 25.4, -1)\n",
    "    if dpi[0] != dpi[1]:\n",
    "        raise ValueError(\"The image doesn't appear to be A4.\")\n",
    "    return dpi[0]"
   ]
  },
  {
   "cell_type": "code",
   "execution_count": null,
   "metadata": {
    "collapsed": true
   },
   "outputs": [],
   "source": [
    "def get_box(image_array, box, padding):\n",
    "    \"\"\"Extract a subblock from an array corresponding to a scanned A4 page.\n",
    "    \n",
    "    Parameters:\n",
    "    -----------\n",
    "    image_array : 2D or 3D array\n",
    "        The image source.\n",
    "    box : 4 floats (top, bottom, left, right)\n",
    "        Coordinates of the bounding box in inches. By due to differing traditions,\n",
    "        box coordinates are counted from the bottom left of the image, while image\n",
    "        array coordinates are from the top left.\n",
    "    padding : float\n",
    "        Padding around box borders in inches.\n",
    "    \"\"\"\n",
    "    h, w, *_ = image_array.shape\n",
    "    dpi = guess_dpi(image_array)\n",
    "    box = np.array(box)\n",
    "    box += (padding, -padding, -padding, padding)\n",
    "    box = (np.array(box) * dpi).astype(int)\n",
    "    top, bottom = min(h, box[0]), max(0, box[1])\n",
    "    left, right = max(0, box[2]), min(w, box[3])\n",
    "    return image_array[-top:-bottom, left:right]"
   ]
  },
  {
   "cell_type": "code",
   "execution_count": null,
   "metadata": {
    "collapsed": false
   },
   "outputs": [],
   "source": [
    "def extract_qr(image_path, scale_factor=4):\n",
    "    image = cv2.imread(image_path, cv2.IMREAD_GRAYSCALE)[::scale_factor, ::scale_factor]\n",
    "    transpose = image.shape[0] < image.shape[1]\n",
    "    if transpose:\n",
    "        image = image.T\n",
    "    for threshold in (200, 150, 220):  # Because zbar is picky.\n",
    "        thresholded = 255 * (image > threshold)\n",
    "        scanner = zbar.Scanner()\n",
    "        results = scanner.scan(thresholded.astype(np.uint8))\n",
    "        if results:\n",
    "            return results[0]\n",
    "    else:\n",
    "        raise RuntimeError(\"Couldn't extract qr code from \"\n",
    "                           + image_path)\n",
    "\n",
    "extracted_qrs = [extract_qr(image) for image in os.listdir()]"
   ]
  },
  {
   "cell_type": "code",
   "execution_count": null,
   "metadata": {
    "collapsed": false
   },
   "outputs": [],
   "source": []
  },
  {
   "cell_type": "code",
   "execution_count": null,
   "metadata": {
    "collapsed": false
   },
   "outputs": [],
   "source": []
  },
  {
   "cell_type": "code",
   "execution_count": null,
   "metadata": {
    "collapsed": false
   },
   "outputs": [],
   "source": [
    "def rotate_and_get_offest(image_path, extracted_qr, scale_factor=4):\n",
    "    image = cv2.imread(image_path)\n",
    "\n",
    "    if image.shape[0] < image.shape[1]:\n",
    "        image = np.transpose(image, (1, 0, 2))\n",
    "\n",
    "    dpi = guess_dpi(image)\n",
    "    h, w, *_ = image.shape\n",
    "    page = int(extracted_qr.data.decode().split(';')[2])\n",
    "    box = dpi * qr[qr.page == page][['top', 'bottom', 'left', 'right']].values[0]\n",
    "    y0, x0 = h - np.mean(box[:2]), np.mean(box[2:])\n",
    "    x, y = np.mean(scale_factor * np.array(extracted_qr.position), axis=0)\n",
    "    if (x > w / 2) != (x0 > w / 2):\n",
    "        image = image[::-1]\n",
    "        x = w - x\n",
    "    if (y > h / 2) != (y0 > h / 2):\n",
    "        image = image[:, ::-1]\n",
    "        y = h - y\n",
    "\n",
    "    cv2.imwrite(image_path, image)\n",
    "    return x-x0, y-y0\n",
    "\n",
    "rotate_and_get_offest('teeeest.png', qrs[19])"
   ]
  },
  {
   "cell_type": "code",
   "execution_count": null,
   "metadata": {
    "collapsed": true
   },
   "outputs": [],
   "source": [
    "for image_path, extracted_qr in zip(os.listdir(), extracted_qrs):"
   ]
  },
  {
   "cell_type": "markdown",
   "metadata": {},
   "source": [
    "# So far so good"
   ]
  },
  {
   "cell_type": "code",
   "execution_count": null,
   "metadata": {
    "collapsed": false
   },
   "outputs": [],
   "source": [
    "pyplot.imshow(image[179*2:293*2, 1018*2:1133*2])"
   ]
  },
  {
   "cell_type": "code",
   "execution_count": null,
   "metadata": {
    "collapsed": false
   },
   "outputs": [],
   "source": [
    "qrs[0].position"
   ]
  },
  {
   "cell_type": "code",
   "execution_count": null,
   "metadata": {
    "collapsed": false
   },
   "outputs": [],
   "source": [
    "len(qrs)"
   ]
  },
  {
   "cell_type": "code",
   "execution_count": null,
   "metadata": {
    "collapsed": false,
    "deletable": true,
    "editable": true
   },
   "outputs": [],
   "source": [
    "def extract_qr_and_rotate(image_path):\n",
    "    image = cv2.imread(image_path, cv2.IMREAD_GRAYSCALE)\n",
    "    if image.shape[0] < image.shape[1]:\n",
    "        image = np.transpose(image, [1, 0])\n",
    "    for threshold in (200, 150, 220):\n",
    "        thresholded = 255 * (image > threshold)\n",
    "        x, y = image.shape[0] // 2, image.shape[1] // 2\n",
    "        for direction in itertools.product([1, -1], [1, -1]):\n",
    "            rotated = thresholded[::direction[0], ::direction[1]]\n",
    "            candidate = get_box(rotated, qr_box, .7)\n",
    "            pyplot.figure()\n",
    "            pyplot.imsave('test.png', candidate, cmap='gray')\n",
    "            break\n",
    "            code = zbarlight.scan_codes('qrcode', Image.fromarray(candidate))\n",
    "            if code is not None:\n",
    "                return(code)\n",
    "    else:\n",
    "        raise RuntimeError(\"Couldn't extract qr code from \"\n",
    "                           + image_path)\n",
    "\n",
    "extract_qr_and_rotate('.-000.ppm')"
   ]
  },
  {
   "cell_type": "code",
   "execution_count": null,
   "metadata": {
    "collapsed": false
   },
   "outputs": [],
   "source": [
    "qr_box = (max(qr.top), min(qr.bottom), min(qr.left), max(qr.right))\n",
    "\n",
    "pyplot.imshow(get_box(image, qr_box, .5))"
   ]
  },
  {
   "cell_type": "code",
   "execution_count": null,
   "metadata": {
    "collapsed": true
   },
   "outputs": [],
   "source": [
    "def init_db(students='students.csv', graders='graders.csv',\n",
    "         meta_yaml='test_exam/tussentoets2016-6.yml',\n",
    "         scanned_pdf='test_exam/sample_data.pdf', overwrite=False):\n",
    "    with open(meta_yaml) as f:\n",
    "        exam_data = yaml.load(f)\n",
    "\n",
    "    if exam_data['protocol_version'] != YAML_VERSION:\n",
    "        raise RuntimeError('Only v0 supported')\n",
    "    db_file = exam_data['name'] + '.sqlite'\n",
    "    widgets = pandas.DataFrame(exam_data['widgets']).T\n",
    "    widgets.index.name = 'name'\n",
    "    widgets = widgets[~widgets.index.str.contains('qrcode')]\n",
    "\n",
    "    # Measured offset of coordinates between original and scanned for 300 dpi.\n",
    "    # Should eventually avoid, and use e.g. cv2.matchTemplate\n",
    "    delta = np.array([200, 50, -40, 10])\n",
    "    result_version = 'v' + str(YAML_VERSION)\n",
    "    tmp = mkdtemp()\n",
    "    try:\n",
    "        subprocess.run(['pdfimages', scanned_pdf, tmp + '/'])\n",
    "        images = os.listdir(tmp)\n",
    "        for image_path in images:\n",
    "            image_path = os.path.join(tmp, image_path)\n",
    "            image = cv2.imread(image_path)\n",
    "            dpi = int(round(image.shape[0] / 11.6929, -1))\n",
    "            # zbar is picky about contrast, so we threshold the image.\n",
    "            # To go sure we try several values of the threshold.\n",
    "            # Can we do anything better?\n",
    "            # TODO: don't be lazy and only feed the correct corner to zbar\n",
    "            for threshold in (200, 150, 220):\n",
    "                _, thresholded = cv2.threshold(image, threshold, 255,\n",
    "                                               cv2.THRESH_BINARY)\n",
    "                code = zbarlight.scan_codes('qrcode',\n",
    "                                            Image.fromarray(thresholded))\n",
    "                if code is not None:\n",
    "                    break\n",
    "            else:\n",
    "                raise RuntimeError(\"Couldn't extract qr code from \"\n",
    "                                   + image_path)\n",
    "            version, name, page, copy = code[0].decode().split(';')\n",
    "            if version != result_version:\n",
    "                raise RuntimeError('Unknown test version,'\n",
    "                                   ' only {} supported'.format(result_version))\n",
    "            if name != exam_data['name']:\n",
    "                raise RuntimeError('yaml and pdf are from different exams')\n",
    "            target = name + '_data'\n",
    "            os.makedirs(target, exist_ok=True)\n",
    "\n",
    "            coords =  (dpi * widgets[widgets.page == int(page)]).astype(int)\n",
    "            delta_dpi = (delta * dpi / 300).astype(int)\n",
    "            for widget in coords.itertuples():\n",
    "                widget_data = image[-widget.top - delta_dpi[0]\n",
    "                                    : -widget.bottom - delta_dpi[1],\n",
    "                                    widget.left + delta_dpi[2]\n",
    "                                    : widget.right + delta_dpi[3]]\n",
    "                filename = os.path.join(target, widget.Index + copy + '.png')\n",
    "                cv2.imwrite(filename, widget_data)\n",
    "                if widget.Index == 'studentnr':\n",
    "                    # TODO: Hook up the student number to the database.\n",
    "                    possible_student_nr = extract_number(widget_data, dpi)\n",
    "                    print(possible_student_nr)\n",
    "                    with db_session:\n",
    "                        sub = Submission.get(id=copy) or Submission(id=copy)\n",
    "                        sub.student = Student.get(id=possible_student_nr)\n",
    "                        sub.signature_image_path = filename\n",
    "                else:\n",
    "                    with db_session:\n",
    "                        sub = Submission.get(id=copy) or Submission(id=copy)\n",
    "                        Solution(problem=Problem.get(name=widget.Index),\n",
    "                                 image_path=filename, submission=sub)\n",
    "\n",
    "    finally:\n",
    "        shutil.rmtree(tmp, ignore_errors=True)"
   ]
  },
  {
   "cell_type": "code",
   "execution_count": null,
   "metadata": {
    "collapsed": true
   },
   "outputs": [],
   "source": [
    "def extract_number(image, dpi):\n",
    "    template, centers, r = studentnr_data(dpi)\n",
    "    w, h = template.shape[:2][::-1]\n",
    "    res = cv2.matchTemplate(image, template, cv2.TM_CCOEFF)\n",
    "    *_, top_left = cv2.minMaxLoc(res)\n",
    "    bottom_right = (top_left[0] + w, top_left[1] + h)\n",
    "    img = image[top_left[1] : bottom_right[1],\n",
    "              top_left[0] : bottom_right[0]]\n",
    "    results = []\n",
    "    for center in centers:\n",
    "        results.append(np.sum(255 - img[max(center[1] - r, 0)\n",
    "                                        : center[1] + r,\n",
    "                                        max(center[0] - r, 0)\n",
    "                                        : center[0] + r]))\n",
    "    results = np.array(results)\n",
    "    digits = (np.argmax(results.reshape(7, 10), axis=1) + 1) % 10\n",
    "    return int(''.join(map(str, digits)))"
   ]
  }
 ],
 "metadata": {
  "kernelspec": {
   "display_name": "Python 3",
   "language": "python",
   "name": "python3"
  },
  "language_info": {
   "codemirror_mode": {
    "name": "ipython",
    "version": 3
   },
   "file_extension": ".py",
   "mimetype": "text/x-python",
   "name": "python",
   "nbconvert_exporter": "python",
   "pygments_lexer": "ipython3",
   "version": "3.5.2"
  }
 },
 "nbformat": 4,
 "nbformat_minor": 2
}
