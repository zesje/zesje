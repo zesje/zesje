{
 "cells": [
  {
   "cell_type": "code",
   "execution_count": null,
   "metadata": {
    "collapsed": false,
    "deletable": true,
    "editable": true
   },
   "outputs": [],
   "source": [
    "%%html\n",
    "<script type=text/javascript>\n",
    "/* Add a button for showing or hiding input */\n",
    "on = \"Show input\";\n",
    "off = \"Hide input\";\n",
    "function onoff(){\n",
    "  currentvalue = document.getElementById('onoff').value;\n",
    "  if(currentvalue == off){\n",
    "    document.getElementById(\"onoff\").value=on;\n",
    "      $('div.input').hide();\n",
    "  }else{\n",
    "    document.getElementById(\"onoff\").value=off;\n",
    "      $('div.input').show();\n",
    "  }\n",
    "}\n",
    "\n",
    "/* Launch first notebook cell on start */\n",
    "function launch_first_cell (evt) {\n",
    "  if (!launch_first_cell.executed\n",
    "      && Jupyter.notebook.kernel\n",
    "  ) {\n",
    "    Jupyter.notebook.get_cells()[0].execute();\n",
    "    launch_first_cell.executed = true;\n",
    "  }\n",
    "}\n",
    "$(document).ready(function (){onoff();})\n",
    "</script>\n",
    "\n",
    "<p>Press this button to show/hide the code used in the notebook:\n",
    "<input type=\"button\" class=\"ui-button ui-widget ui-state-default \\\n",
    "ui-corner-all ui-button-text-only\" value=\"Hide input\" id=\"onoff\" \\\n",
    "onclick=\"onoff();\"></p>\n"
   ]
  },
  {
   "cell_type": "markdown",
   "metadata": {
    "deletable": true,
    "editable": true
   },
   "source": [
    "# Data processing, skip further for discussion."
   ]
  },
  {
   "cell_type": "code",
   "execution_count": null,
   "metadata": {
    "collapsed": true,
    "deletable": true,
    "editable": true
   },
   "outputs": [],
   "source": [
    "%matplotlib inline\n",
    "from matplotlib import pyplot\n",
    "import pandas"
   ]
  },
  {
   "cell_type": "code",
   "execution_count": null,
   "metadata": {
    "collapsed": false,
    "deletable": true,
    "editable": true
   },
   "outputs": [],
   "source": [
    "problem_names = {  # Conversion to meangingful problem names.\n",
    "}\n",
    "\n",
    "question_scores = {  # Numerical scores for each option\n",
    "}"
   ]
  },
  {
   "cell_type": "code",
   "execution_count": null,
   "metadata": {
    "collapsed": true,
    "deletable": true,
    "editable": true
   },
   "outputs": [],
   "source": [
    "data = pandas.read_pickle('test_results.pickle')\n",
    "data = data.T\n",
    "\n",
    "# Remove individual remarks and unused feedback\n",
    "grades = data.T[~data.columns.str.contains('remarks')].T\n",
    "grades = grades.T[grades.sum() != 0].T.astype(int)\n",
    "\n",
    "scores = grades.columns.map(lambda name: question_scores[name])\n",
    "\n",
    "# Make feedback human-readable\n",
    "grades.columns = grades.columns.str.replace(':', ': ')\n",
    "for name, new_name in problem_names.items():\n",
    "    grades.columns = grades.columns.str.replace(name, new_name)\n",
    "\n",
    "count = grades.sum().astype(int)\n",
    "summary = pandas.DataFrame({'frequency': count, 'points': scores}, index=grades.columns)"
   ]
  },
  {
   "cell_type": "markdown",
   "metadata": {
    "deletable": true,
    "editable": true
   },
   "source": [
    "# How many times each feedback option was received"
   ]
  },
  {
   "cell_type": "code",
   "execution_count": null,
   "metadata": {
    "collapsed": false,
    "deletable": true,
    "editable": true
   },
   "outputs": [],
   "source": [
    "summary"
   ]
  },
  {
   "cell_type": "code",
   "execution_count": null,
   "metadata": {
    "collapsed": false,
    "deletable": true,
    "editable": true
   },
   "outputs": [],
   "source": [
    "points = grades * scores"
   ]
  },
  {
   "cell_type": "markdown",
   "metadata": {
    "deletable": true,
    "editable": true
   },
   "source": [
    "# Score discributions per problem and total"
   ]
  },
  {
   "cell_type": "code",
   "execution_count": null,
   "metadata": {
    "collapsed": false,
    "deletable": true,
    "editable": true
   },
   "outputs": [],
   "source": [
    "for problem in problem_names.values():\n",
    "    grades[problem] = points.T[points.columns.str.startswith(problem)].sum()\n",
    "    grades[problem] = grades[problem].apply(lambda i: max(i, 0))\n",
    "\n",
    "grades['total'] = grades[sorted(problem_names.values())].sum(axis=1)\n",
    "\n",
    "grades[sorted(problem_names.values()) + ['total']].describe().round(1)"
   ]
  },
  {
   "cell_type": "markdown",
   "metadata": {
    "deletable": true,
    "editable": true
   },
   "source": [
    "# Correlations between different problems."
   ]
  },
  {
   "cell_type": "code",
   "execution_count": null,
   "metadata": {
    "collapsed": false,
    "deletable": true,
    "editable": true
   },
   "outputs": [],
   "source": [
    "grades[sorted(problem_names.values()) + ['total']].corr().round(1)"
   ]
  },
  {
   "cell_type": "markdown",
   "metadata": {
    "deletable": true,
    "editable": true
   },
   "source": [
    "We see that the questions are mostly independent, except for 2a being related to 2b, which is reasonable."
   ]
  },
  {
   "cell_type": "markdown",
   "metadata": {
    "deletable": true,
    "editable": true
   },
   "source": [
    "# Finally: the score distribution"
   ]
  },
  {
   "cell_type": "code",
   "execution_count": null,
   "metadata": {
    "collapsed": false,
    "deletable": true,
    "editable": true
   },
   "outputs": [],
   "source": [
    "(grades['total'] / 10).hist(bins=40, grid=False)\n",
    "pyplot.xlim((0, 10))\n",
    "pyplot.xlabel('Score');"
   ]
  },
  {
   "cell_type": "markdown",
   "metadata": {
    "deletable": true,
    "editable": true
   },
   "source": [
    "The test was quite straightforward: the median is around 8, and a lot of people managed to score a full 10."
   ]
  },
  {
   "cell_type": "code",
   "execution_count": null,
   "metadata": {
    "collapsed": true,
    "deletable": true,
    "editable": true
   },
   "outputs": [],
   "source": [
    "grades.to_pickle('grades.pickle')\n",
    "\n",
    "grades.to_excel('test.xlsx')"
   ]
  }
 ],
 "metadata": {
  "kernelspec": {
   "display_name": "Python 3",
   "language": "python",
   "name": "python3"
  },
  "language_info": {
   "codemirror_mode": {
    "name": "ipython",
    "version": 3
   },
   "file_extension": ".py",
   "mimetype": "text/x-python",
   "name": "python",
   "nbconvert_exporter": "python",
   "pygments_lexer": "ipython3",
   "version": "3.5.2"
  }
 },
 "nbformat": 4,
 "nbformat_minor": 2
}
