{
 "cells": [
  {
   "cell_type": "code",
   "execution_count": null,
   "metadata": {
    "collapsed": false,
    "deletable": true,
    "editable": true
   },
   "outputs": [],
   "source": [
    "%%html\n",
    "<script type=text/javascript>\n",
    "/* Add a button for showing or hiding input */\n",
    "on = \"Show input\";\n",
    "off = \"Hide input\";\n",
    "function onoff(){\n",
    "  currentvalue = document.getElementById('onoff').value;\n",
    "  if(currentvalue == off){\n",
    "    document.getElementById(\"onoff\").value=on;\n",
    "      $('div.input').hide();\n",
    "  }else{\n",
    "    document.getElementById(\"onoff\").value=off;\n",
    "      $('div.input').show();\n",
    "  }\n",
    "}\n",
    "\n",
    "/* Launch first notebook cell on start */\n",
    "function launch_first_cell (evt) {\n",
    "  if (!launch_first_cell.executed\n",
    "      && Jupyter.notebook.kernel\n",
    "  ) {\n",
    "    Jupyter.notebook.get_cells()[0].execute();\n",
    "    launch_first_cell.executed = true;\n",
    "  }\n",
    "}\n",
    "$(document).ready(function (){onoff();})\n",
    "</script>\n",
    "\n",
    "<p>Press this button to show/hide the code used in the notebook:\n",
    "<input type=\"button\" class=\"ui-button ui-widget ui-state-default \\\n",
    "ui-corner-all ui-button-text-only\" value=\"Hide input\" id=\"onoff\" \\\n",
    "onclick=\"onoff();\"></p>\n"
   ]
  },
  {
   "cell_type": "markdown",
   "metadata": {
    "deletable": true,
    "editable": true
   },
   "source": [
    "# Data processing, skip further for discussion."
   ]
  },
  {
   "cell_type": "code",
   "execution_count": null,
   "metadata": {
    "collapsed": true,
    "deletable": true,
    "editable": true
   },
   "outputs": [],
   "source": [
    "%matplotlib inline\n",
    "\n",
    "import os\n",
    "from collections import OrderedDict, Counter\n",
    "\n",
    "from matplotlib import pyplot\n",
    "import pandas\n",
    "from pony import orm\n",
    "from IPython import display\n",
    "import jinja2\n",
    "import db\n",
    "exam_id = "
   ]
  },
  {
   "cell_type": "code",
   "execution_count": null,
   "metadata": {
    "collapsed": false,
    "deletable": true,
    "editable": true
   },
   "outputs": [],
   "source": [
    "db.use_db('course.sqlite')"
   ]
  },
  {
   "cell_type": "code",
   "execution_count": null,
   "metadata": {
    "collapsed": false,
    "deletable": true,
    "editable": true
   },
   "outputs": [],
   "source": [
    "data = {}\n",
    "\n",
    "with orm.db_session:\n",
    "    exam = db.Exam[exam_id]\n",
    "    problem_names = [p.name for p in exam.problems.order_by(db.Problem.id)\n",
    "                     if orm.count(p.solutions.feedback)]\n",
    "    possible_feedback = OrderedDict()\n",
    "    for problem in exam.problems.order_by(db.Problem.id):\n",
    "        if not orm.count(problem.solutions.feedback):\n",
    "            continue\n",
    "        for fb in problem.feedback_options:\n",
    "            possible_feedback[problem.name + ': ' + fb.text] = (problem.id, fb.score, fb.description)\n",
    "\n",
    "    for sub in exam.submissions:\n",
    "        a = []\n",
    "        for sol in sub.solutions:\n",
    "            a.extend([sol.problem.name + ': ' + fb.text for fb in sol.feedback])\n",
    "\n",
    "        data[sub.student.id] = [\n",
    "            option in a for option in possible_feedback\n",
    "        ]\n",
    "        \n",
    "data = pandas.DataFrame(data, index=possible_feedback).T\n",
    "grading_scheme = pandas.DataFrame(possible_feedback, index=['Problem number', 'Score', 'Desciption'])\n",
    "grading_scheme.T['Score'][grading_scheme.T['Score'].isnull()] = 0\n",
    "\n",
    "points = (data * grading_scheme.T['Score'])\n",
    "points = points.astype(int)\n",
    "problem_scores = points.T.groupby(grading_scheme.T['Problem number']).sum()\n",
    "problem_scores = problem_scores.applymap(lambda x: max(0, x))\n",
    "problem_scores.index = problem_names\n",
    "problem_scores.ix['Total'] = problem_scores.sum(axis=0)"
   ]
  },
  {
   "cell_type": "markdown",
   "metadata": {
    "deletable": true,
    "editable": true
   },
   "source": [
    "# Points per problem and the total score"
   ]
  },
  {
   "cell_type": "code",
   "execution_count": null,
   "metadata": {
    "collapsed": false,
    "deletable": true,
    "editable": true,
    "scrolled": false
   },
   "outputs": [],
   "source": [
    "for index, name in zip(problem_scores.T, problem_scores.index):\n",
    "    pyplot.figure()\n",
    "    problem_scores.T[index].hist(bins=20)\n",
    "    pyplot.title(name)\n",
    "    pyplot.xlabel = 'Score'\n",
    "    pyplot.ylabel = 'Number'"
   ]
  },
  {
   "cell_type": "markdown",
   "metadata": {
    "deletable": true,
    "editable": true
   },
   "source": [
    "# More summary statistics"
   ]
  },
  {
   "cell_type": "code",
   "execution_count": null,
   "metadata": {
    "collapsed": false,
    "deletable": true,
    "editable": true
   },
   "outputs": [],
   "source": [
    "problem_scores.T.describe()"
   ]
  },
  {
   "cell_type": "markdown",
   "metadata": {
    "deletable": true,
    "editable": true
   },
   "source": [
    "# Correlations between different problems."
   ]
  },
  {
   "cell_type": "code",
   "execution_count": null,
   "metadata": {
    "collapsed": false,
    "deletable": true,
    "editable": true
   },
   "outputs": [],
   "source": [
    "problem_scores.T.corr().round(2)"
   ]
  },
  {
   "cell_type": "markdown",
   "metadata": {
    "deletable": true,
    "editable": true
   },
   "source": [
    "# Lenghty description of all possible feedback options and how often they were received"
   ]
  },
  {
   "cell_type": "code",
   "execution_count": null,
   "metadata": {
    "collapsed": false,
    "deletable": true,
    "editable": true,
    "scrolled": false
   },
   "outputs": [],
   "source": [
    "feedback_template = jinja2.Template(\"\"\"<ul>\n",
    "{% for fo in feedback_options %}\n",
    "<li> {{ fo.text }}: {{ fo.description }} </li>\n",
    "{% endfor %}\n",
    "</ul>\n",
    "\"\"\")\n",
    "\n",
    "stats = ''\n",
    "\n",
    "for problem in db.Exam[exam_id].problems.order_by(lambda p: p.name):\n",
    "    if not orm.max(problem.feedback_options.score, default=0):\n",
    "        continue\n",
    "    df = pandas.DataFrame({fo.text: (fo.solutions.count(), fo.score) \n",
    "                           for fo in problem.feedback_options if fo.solutions.count()}, \n",
    "                          index=['amount', 'score']).T.fillna(0).astype(int)\n",
    "    df.index.name = \"Feedback\"\n",
    "    stats += '<h2>' + problem.name + '</h2>'\n",
    "    stats += '<h4>Feedback frequencies and scores</h4>'\n",
    "    stats += df._repr_html_()\n",
    "    df = pandas.DataFrame(pandas.Series(Counter(sum(fo.score or 0 for fo in sol.feedback) \n",
    "                          for sol in problem.solutions)), columns=['Amount'])\n",
    "    df.index.name = 'Score'\n",
    "    stats += '<hr><h4>Score distribution</h4>'\n",
    "    stats += df.T._repr_html_()\n",
    "    stats += '<hr><h4>Descriptions</h4>'\n",
    "    stats += feedback_template.render(feedback_options=(fo for fo in problem.feedback_options\n",
    "                                                        if fo.solutions.count()))\n",
    "\n",
    "\n",
    "stats = display.HTML(stats)\n",
    "stats"
   ]
  }
 ],
 "metadata": {
  "kernelspec": {
   "display_name": "Python 3",
   "language": "python",
   "name": "python3"
  },
  "language_info": {
   "codemirror_mode": {
    "name": "ipython",
    "version": 3
   },
   "file_extension": ".py",
   "mimetype": "text/x-python",
   "name": "python",
   "nbconvert_exporter": "python",
   "pygments_lexer": "ipython3",
   "version": "3.5.2"
  }
 },
 "nbformat": 4,
 "nbformat_minor": 2
}
