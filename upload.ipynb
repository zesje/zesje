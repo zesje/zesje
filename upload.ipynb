{
 "cells": [
  {
   "cell_type": "code",
   "execution_count": null,
   "metadata": {
    "collapsed": false,
    "deletable": true,
    "editable": true,
    "extensions": {
     "jupyter_dashboards": {
      "version": 1,
      "views": {
       "grid_default": {
        "col": 0,
        "height": 4,
        "hidden": true,
        "row": 0,
        "width": 12
       },
       "report_default": {
        "hidden": true
       }
      }
     }
    }
   },
   "outputs": [],
   "source": [
    "import os\n",
    "from functools import partial\n",
    "import yaml\n",
    "import hashlib\n",
    "from io import BytesIO\n",
    "from zipfile import ZipFile\n",
    "\n",
    "from IPython import display\n",
    "import ipywidgets\n",
    "from ipywidgets import Label, Dropdown, HBox, VBox, Text, Button, Valid\n",
    "import traitlets\n",
    "from traitlets import Unicode\n",
    "from tornado.httpclient import AsyncHTTPClient\n",
    "\n",
    "import db\n",
    "db.use_db()"
   ]
  },
  {
   "cell_type": "markdown",
   "metadata": {
    "extensions": {
     "jupyter_dashboards": {
      "version": 1,
      "views": {
       "grid_default": {
        "col": 0,
        "height": 4,
        "hidden": true,
        "row": 0,
        "width": 4
       },
       "report_default": {}
      }
     }
    }
   },
   "source": [
    "## File Upload Widget"
   ]
  },
  {
   "cell_type": "code",
   "execution_count": null,
   "metadata": {
    "collapsed": false,
    "deletable": true,
    "editable": true,
    "extensions": {
     "jupyter_dashboards": {
      "version": 1,
      "views": {
       "grid_default": {
        "hidden": true
       },
       "report_default": {}
      }
     }
    }
   },
   "outputs": [],
   "source": [
    "class FileWidget(ipywidgets.DOMWidget):\n",
    "    _view_name = Unicode('FilePickerView').tag(sync=True)\n",
    "    _view_module = Unicode('filepicker').tag(sync=True)\n",
    "\n",
    "    value = Unicode().tag(sync=True)\n",
    "    filename = Unicode().tag(sync=True)\n",
    "\n",
    "    def __init__(self, **kwargs):\n",
    "        \"\"\"Constructor\"\"\"\n",
    "        ipywidgets.DOMWidget.__init__(self, **kwargs) # Call the base.\n",
    "\n",
    "        # Allow the user to register error callbacks with the following signatures:\n",
    "        #    callback()\n",
    "        #    callback(sender)\n",
    "        self.errors = ipywidgets.CallbackDispatcher(accepted_nargs=[0, 1])\n",
    "\n",
    "        # Listen for custom msgs\n",
    "        self.on_msg(self._handle_custom_msg)\n",
    "\n",
    "    def _handle_custom_msg(self, content):\n",
    "        \"\"\"Handle a msg from the front-end.\n",
    "\n",
    "        Parameters\n",
    "        ----------\n",
    "        content: dict\n",
    "            Content of the msg.\"\"\"\n",
    "        if 'event' in content and content['event'] == 'error':\n",
    "            self.errors()\n",
    "            self.errors(self)"
   ]
  },
  {
   "cell_type": "code",
   "execution_count": null,
   "metadata": {
    "collapsed": false,
    "extensions": {
     "jupyter_dashboards": {
      "version": 1,
      "views": {
       "grid_default": {
        "hidden": true
       },
       "report_default": {}
      }
     }
    }
   },
   "outputs": [],
   "source": [
    "%%javascript\n",
    "\n",
    "requirejs.undef('filepicker');\n",
    "\n",
    "define('filepicker', [\"jupyter-js-widgets\"], function(widgets) {\n",
    "\n",
    "    var FilePickerView = widgets.DOMWidgetView.extend({\n",
    "\n",
    "        render: function() {\n",
    "            // Render the view.\n",
    "            this.setElement($('<input />')\n",
    "                .attr('type', 'file'));\n",
    "        },\n",
    "\n",
    "        events: {\n",
    "            // List of events and their handlers.\n",
    "            'change': 'handle_file_change',\n",
    "        },\n",
    "\n",
    "        handle_file_change: function(evt) {\n",
    "            // Handle when the user has changed the file.\n",
    "\n",
    "            // Retrieve the first (and only!) File from the FileList object\n",
    "            var file = evt.target.files[0];\n",
    "            if (! file) { \n",
    "                // The file couldn't be opened.  Send an error msg to the\n",
    "                // back-end.\n",
    "                this.send({ 'event': 'error' });\n",
    "                return ;\n",
    "            }\n",
    "            \n",
    "            // check if has 'yml' extension\n",
    "\n",
    "            // Read the file's textual content and set value to those contents.\n",
    "            var that = this;\n",
    "            var file_reader = new FileReader();\n",
    "            file_reader.onload = function(e) {\n",
    "                that.model.set('value', e.target.result);\n",
    "                that.touch();\n",
    "                console.log('sent from client side')\n",
    "            }\n",
    "            file_reader.readAsText(file);\n",
    "\n",
    "            // Set the filename of the file.\n",
    "            this.model.set('filename', file.name);\n",
    "            this.touch();\n",
    "        },\n",
    "    });\n",
    "\n",
    "    return {\n",
    "        FilePickerView: FilePickerView\n",
    "    };\n",
    "});"
   ]
  },
  {
   "cell_type": "markdown",
   "metadata": {
    "extensions": {
     "jupyter_dashboards": {
      "version": 1,
      "views": {
       "grid_default": {
        "col": 4,
        "height": 4,
        "hidden": true,
        "row": 0,
        "width": 4
       },
       "report_default": {}
      }
     }
    }
   },
   "source": [
    "---\n",
    "## Utilities"
   ]
  },
  {
   "cell_type": "code",
   "execution_count": null,
   "metadata": {
    "collapsed": true,
    "extensions": {
     "jupyter_dashboards": {
      "version": 1,
      "views": {
       "grid_default": {
        "hidden": true
       },
       "report_default": {}
      }
     }
    }
   },
   "outputs": [],
   "source": [
    "def get_exam_names():\n",
    "    with db.db_session:\n",
    "        return list(db.orm.select(ex.name for ex in db.Exam))\n",
    "    \n",
    "def get_exam_data(exam_name):\n",
    "    if not exam_name:\n",
    "        return None\n",
    "    with db.db_session:\n",
    "        exam = db.Exam.get(name=exam_name)\n",
    "        if not exam:\n",
    "            return None\n",
    "        yaml_path = exam.yaml_path\n",
    "    try:\n",
    "        return db.read_yaml(yaml_path)\n",
    "    except Exception:\n",
    "        return None\n",
    "\n",
    "def observe(widget, **kwargs):\n",
    "    return partial(widget.observe, **kwargs)"
   ]
  },
  {
   "cell_type": "markdown",
   "metadata": {
    "extensions": {
     "jupyter_dashboards": {
      "version": 1,
      "views": {
       "grid_default": {
        "col": 8,
        "height": 4,
        "hidden": true,
        "row": 0,
        "width": 4
       },
       "report_default": {}
      }
     }
    }
   },
   "source": [
    "---\n",
    "## Widget Init"
   ]
  },
  {
   "cell_type": "code",
   "execution_count": null,
   "metadata": {
    "collapsed": false,
    "extensions": {
     "jupyter_dashboards": {
      "version": 1,
      "views": {
       "grid_default": {
        "hidden": true
       },
       "report_default": {}
      }
     }
    }
   },
   "outputs": [],
   "source": [
    "yaml_upload_label = Label(\"Upload YAML\", margin=\"0 10px 0 0\")\n",
    "yaml_upload = FileWidget()\n",
    "yaml_upload_valid = Valid()\n",
    "yaml_upload_status = Label()\n",
    "yaml_upload_box = VBox([HBox([yaml_upload_label, yaml_upload, ]),\n",
    "                        HBox([yaml_upload_status, yaml_upload_valid])])\n",
    "\n",
    "yaml_upload_valid.layout.display = 'none'\n",
    "yaml_upload_valid.layout.margin = \"0 10px\"\n",
    "\n",
    "# Register an event to echo the filename when it has been changed.\n",
    "@observe(yaml_upload, names=\"filename\")\n",
    "def file_loading(change):\n",
    "    yaml_upload.value = ''\n",
    "    yaml_upload_valid.layout.display = 'none'\n",
    "    yaml_upload_status.value = \"Loading \" + yaml_upload.filename\n",
    "\n",
    "# Register an event to echo the filename and contents when a file\n",
    "# has been uploaded.\n",
    "@observe(yaml_upload, names=\"value\")\n",
    "def file_loaded(change):\n",
    "    if not yaml_upload.value:\n",
    "        return\n",
    "    # validate yaml\n",
    "    yaml_upload_status.value = \"Validating \" + yaml_upload.filename\n",
    "    try:\n",
    "        yml = yaml.load(yaml_upload.value)\n",
    "        \n",
    "        try:\n",
    "            yml = db.clean_yaml(yml)  # attempt to clean\n",
    "        except Exception:\n",
    "            pass  # if the YAML is not valid parsing will raise anyway\n",
    "        exam_name, qr, widgets = db.parse_yaml(yml)\n",
    "        if select_exam.value and select_exam.value != exam_name:\n",
    "            raise ValueError('Exam in YAML file does not match selected exam')\n",
    "        # If there is already yaml for this exam, load it now so we can\n",
    "        # compute a diff later\n",
    "        existing_exam_data = get_exam_data(exam_name)\n",
    "        if existing_exam_data:\n",
    "            raise ValueError('Exam data for {} already exists'.format(exam_name))\n",
    "    except ValueError as exc:\n",
    "        yaml_upload_valid.value = False\n",
    "        yaml_upload_valid.layout.display = 'inline'\n",
    "        yaml_upload_status.value = str(exc)\n",
    "        return\n",
    "    except Exception as exc:\n",
    "        yaml_upload_valid.value = False\n",
    "        yaml_upload_valid.layout.display = 'inline'\n",
    "        yaml_upload_status.value = \"Invalid YAML in \" + yaml_upload.filename\n",
    "        return\n",
    "\n",
    "    # save yaml\n",
    "    yaml_upload_status.value = \"Saving \" + yaml_upload.filename\n",
    "    try:\n",
    "        with open(yaml_upload.filename, 'w') as f:\n",
    "            f.write(yaml.dump(yml))\n",
    "    except Exception:\n",
    "        yaml_upload_valid.value = False\n",
    "        yaml_upload_valid.layout.display = 'inline'\n",
    "        yaml_upload_status.value = \"Failed to save \" + yaml_upload.filename\n",
    "        return\n",
    "    \n",
    "\n",
    "    yaml_upload_status.value = \"Adding exam to database\"\n",
    "    \n",
    "    try:\n",
    "        db.add_exam(yaml_upload.filename)\n",
    "        os.makedirs(exam_name + '_data', exist_ok=True)\n",
    "        yaml_upload_status.value = \"Added exam to database\"\n",
    "    except Exception as exc:\n",
    "        yaml_upload_valid.value = False\n",
    "        yaml_upload_valid.layout.display = 'inline'\n",
    "        yaml_upload_status.value = \"Failed to add exam to database\"\n",
    "        return\n",
    "    finally:\n",
    "        # XXX: use of global variables\n",
    "        # update list of exams\n",
    "        select_exam.options = [None] + get_exam_names()\n",
    "    \n",
    "\n",
    "    if existing_exam_data:\n",
    "        yaml_upload_status.value = \"Updating question names\"\n",
    "        # always do this, as is quick\n",
    "        # calculate diff between YAMLs\n",
    "        if True:  # widget coordinates changed\n",
    "            yaml_upload_status.value = \"Modifying widget coordinates\"\n",
    "            # grab page images from database and re-run widget extraction\n",
    "\n",
    "\n",
    "    yaml_upload_status.value = \"YAML imported successfully\"\n",
    "    yaml_upload_valid.value = True\n",
    "    yaml_upload_valid.layout.display = 'inline'\n",
    "\n",
    "# Register an event to print an error message when a file could not\n",
    "# be opened.  Since the error messages are not handled through\n",
    "# traitlets but instead handled through custom msgs, the registration\n",
    "# of the handler is different than the two examples above.  Instead\n",
    "# the API provided by the CallbackDispatcher must be used.\n",
    "def file_failed():\n",
    "    yaml_upload_valid.value = False\n",
    "    yaml_upload_valid.layout.display = 'inline'\n",
    "    yaml_upload_status.value = 'Could not load file contents of ' + yaml_upload.filename\n",
    "yaml_upload.errors.register_callback(file_failed)"
   ]
  },
  {
   "cell_type": "code",
   "execution_count": null,
   "metadata": {
    "collapsed": false,
    "extensions": {
     "jupyter_dashboards": {
      "version": 1,
      "views": {
       "grid_default": {
        "hidden": true
       },
       "report_default": {}
      }
     }
    }
   },
   "outputs": [],
   "source": [
    "pdf_label = Label(\"Exam PDF URL\", margin=\"7px 10px\")\n",
    "pdf_url = Text()\n",
    "pdf_import = Button(description=\"Import exam data\")\n",
    "\n",
    "pdf_import_status = Label()\n",
    "pdf_import_valid = Valid()\n",
    "pdf_import_valid.layout.display = 'none'\n",
    "pdf_import_valid.layout.margin = \"0 10px\"\n",
    "\n",
    "pdf_import_box = VBox([HBox([pdf_label ,pdf_url, pdf_import]),\n",
    "                       HBox([pdf_import_status, pdf_import_valid])])\n",
    "pdf_import_box.layout.display = 'none'  # initially no exam is selected, so we hide this\n",
    "\n",
    "# this is global state to prevent the UI triggering another download\n",
    "# while there is one in progress\n",
    "pdf_download_client = None\n",
    "\n",
    "\n",
    "def get_new_client():\n",
    "    # We should probably use a streaming client, but for simplicity we just set the max buffer size to 500MB\n",
    "    return AsyncHTTPClient(max_buffer_size=int(500E8))\n",
    "\n",
    "\n",
    "def pdf_name(pdf_content):\n",
    "    return hashlib.sha256(pdf_content).hexdigest()[:15] + '.pdf'\n",
    "\n",
    "\n",
    "def handle_pdf(pdf, name='PDF'):\n",
    "    exam_dir = select_exam.value + '_data'\n",
    "    filename = os.path.join(exam_dir, pdf_name(pdf))\n",
    "    pdf_import_status.value = 'Saving {}'.format(name)\n",
    "    try:\n",
    "        with open(filename, 'wb') as f:\n",
    "            f.write(pdf)\n",
    "    except Exception as e:\n",
    "        raise RuntimeError('Failed to save {}'.format(name))\n",
    "\n",
    "    pdf_import_status.value = 'Importing {}'.format(name)\n",
    "    try:\n",
    "        db.process_pdf(filename, select_exam.value + '.yml')\n",
    "    except Exception:\n",
    "        raise RuntimeError('Failed to import {}'.format(name))\n",
    "\n",
    "    pdf_import_valid.value = True\n",
    "    pdf_import_valid.layout.display = 'inline'\n",
    "    pdf_import_status.value = 'Imported {}'.format(name)\n",
    "\n",
    "def handle_zip(zipcontents):\n",
    "    exam_dir = select_exam.value + '_data'\n",
    "    pdf_import_status.value = 'Extracting PDFs from ZIP archive'\n",
    "    with ZipFile(BytesIO(zipcontents)) as zf:\n",
    "        pdf_files = list(filter(lambda n: n.endswith('.pdf'), zf.namelist()))\n",
    "        for pdf in pdf_files:\n",
    "            pdf_import_status.value = 'Extracting {}'.format(pdf)\n",
    "            handle_pdf(zf.open(pdf).read(), name=pdf)\n",
    "            pdf_import_valid.layout.display = 'none'  # set at the end of handle_pdf\n",
    "    \n",
    "    pdf_import_valid.value = True\n",
    "    pdf_import_valid.layout.display = 'inline'\n",
    "    pdf_import_status.value = 'Imported: {}'.format(', '.join(pdf_files))        \n",
    "\n",
    "\n",
    "content_type_router = {\n",
    "    'application/pdf': handle_pdf,\n",
    "    'application/zip': handle_zip,\n",
    "}\n",
    "\n",
    "def handle_response(response):    \n",
    "    global rsp, pdf_download_client\n",
    "    rsp = response\n",
    "    try:\n",
    "        if response.error:\n",
    "            raise RuntimeError('Failed to fetch file(s)', response.error)\n",
    "        try:\n",
    "            handler = content_type_router[response.headers['Content-Type']]\n",
    "            handler(response.body)\n",
    "        except KeyError:\n",
    "            raise RuntimeError('Link does not point to a PDF/ZIP file')\n",
    "    except Exception as exc:\n",
    "        pdf_import_valid.value = False\n",
    "        pdf_import_valid.layout.display = 'inline'\n",
    "        pdf_import_status.value = str(exc)\n",
    "    finally:\n",
    "        pdf_download_client = None  # allow next upload\n",
    "\n",
    "\n",
    "\n",
    "@pdf_import.on_click\n",
    "def _(sender):\n",
    "    global pdf_download_client\n",
    "    if pdf_download_client:\n",
    "        return  # download already underway\n",
    "    pdf_download_client = get_new_client()\n",
    "    # 30 second timeout\n",
    "    pdf_download_client.fetch(pdf_url.value.strip(), handle_response, request_timeout=30)\n",
    "    pdf_import_valid.layout.display = 'none'\n",
    "    pdf_import_status.value = 'Fetching file'\n"
   ]
  },
  {
   "cell_type": "code",
   "execution_count": null,
   "metadata": {
    "collapsed": false
   },
   "outputs": [],
   "source": [
    "select_exam = Dropdown(description='Exam', options= [None] + get_exam_names())\n",
    "\n",
    "@observe(select_exam, names=\"value\")\n",
    "def _(state):\n",
    "    display = {False: 'none', True: 'inline'}\n",
    "    value = state['new']\n",
    "    pdf_import_box.layout.display = display[value is not None]"
   ]
  },
  {
   "cell_type": "markdown",
   "metadata": {
    "extensions": {
     "jupyter_dashboards": {
      "version": 1,
      "views": {
       "grid_default": {
        "col": 0,
        "height": 4,
        "hidden": true,
        "row": 0,
        "width": 4
       },
       "report_default": {}
      }
     }
    }
   },
   "source": [
    "---\n",
    "## UI Layout"
   ]
  },
  {
   "cell_type": "code",
   "execution_count": null,
   "metadata": {
    "collapsed": false,
    "extensions": {
     "jupyter_dashboards": {
      "version": 1,
      "views": {
       "grid_default": {
        "col": 0,
        "height": 4,
        "hidden": false,
        "row": 0,
        "width": 6
       },
       "report_default": {}
      }
     }
    }
   },
   "outputs": [],
   "source": [
    "select_exam"
   ]
  },
  {
   "cell_type": "code",
   "execution_count": null,
   "metadata": {
    "collapsed": false,
    "extensions": {
     "jupyter_dashboards": {
      "version": 1,
      "views": {
       "grid_default": {
        "col": 0,
        "height": 4,
        "hidden": false,
        "row": 4,
        "width": 6
       },
       "report_default": {}
      }
     }
    },
    "scrolled": true
   },
   "outputs": [],
   "source": [
    "VBox([yaml_upload_box, pdf_import_box])"
   ]
  }
 ],
 "metadata": {
  "anaconda-cloud": {},
  "extensions": {
   "jupyter_dashboards": {
    "activeView": "grid_default",
    "version": 1,
    "views": {
     "grid_default": {
      "cellMargin": 10,
      "defaultCellHeight": 20,
      "maxColumns": 12,
      "name": "grid",
      "type": "grid"
     },
     "report_default": {
      "name": "report",
      "type": "report"
     }
    }
   }
  },
  "kernelspec": {
   "display_name": "Python 3",
   "language": "python",
   "name": "python3"
  },
  "language_info": {
   "codemirror_mode": {
    "name": "ipython",
    "version": 3
   },
   "file_extension": ".py",
   "mimetype": "text/x-python",
   "name": "python",
   "nbconvert_exporter": "python",
   "pygments_lexer": "ipython3",
   "version": "3.5.2"
  }
 },
 "nbformat": 4,
 "nbformat_minor": 2
}
