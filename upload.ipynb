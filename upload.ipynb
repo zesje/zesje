{
 "cells": [
  {
   "cell_type": "code",
   "execution_count": null,
   "metadata": {
    "collapsed": false,
    "deletable": true,
    "editable": true,
    "extensions": {
     "jupyter_dashboards": {
      "version": 1,
      "views": {
       "grid_default": {
        "col": 0,
        "height": 4,
        "hidden": true,
        "row": 0,
        "width": 12
       },
       "report_default": {
        "hidden": true
       }
      }
     }
    }
   },
   "outputs": [],
   "source": [
    "import os\n",
    "from functools import partial\n",
    "\n",
    "import yaml\n",
    "from IPython import display\n",
    "import ipywidgets\n",
    "from ipywidgets import Label, Dropdown, HBox, VBox, Text, Button, Valid\n",
    "import traitlets\n",
    "from traitlets import Unicode\n",
    "import db"
   ]
  },
  {
   "cell_type": "markdown",
   "metadata": {
    "extensions": {
     "jupyter_dashboards": {
      "version": 1,
      "views": {
       "grid_default": {
        "col": 0,
        "height": 4,
        "hidden": true,
        "row": 0,
        "width": 4
       },
       "report_default": {}
      }
     }
    }
   },
   "source": [
    "## File Upload Widget"
   ]
  },
  {
   "cell_type": "code",
   "execution_count": null,
   "metadata": {
    "collapsed": false,
    "deletable": true,
    "editable": true,
    "extensions": {
     "jupyter_dashboards": {
      "version": 1,
      "views": {
       "grid_default": {
        "hidden": true
       },
       "report_default": {}
      }
     }
    }
   },
   "outputs": [],
   "source": [
    "class FileWidget(ipywidgets.DOMWidget):\n",
    "    _view_name = Unicode('FilePickerView').tag(sync=True)\n",
    "    _view_module = Unicode('filepicker').tag(sync=True)\n",
    "\n",
    "    value = Unicode().tag(sync=True)\n",
    "    filename = Unicode().tag(sync=True)\n",
    "\n",
    "    def __init__(self, **kwargs):\n",
    "        \"\"\"Constructor\"\"\"\n",
    "        ipywidgets.DOMWidget.__init__(self, **kwargs) # Call the base.\n",
    "\n",
    "        # Allow the user to register error callbacks with the following signatures:\n",
    "        #    callback()\n",
    "        #    callback(sender)\n",
    "        self.errors = ipywidgets.CallbackDispatcher(accepted_nargs=[0, 1])\n",
    "\n",
    "        # Listen for custom msgs\n",
    "        self.on_msg(self._handle_custom_msg)\n",
    "\n",
    "    def _handle_custom_msg(self, content):\n",
    "        \"\"\"Handle a msg from the front-end.\n",
    "\n",
    "        Parameters\n",
    "        ----------\n",
    "        content: dict\n",
    "            Content of the msg.\"\"\"\n",
    "        if 'event' in content and content['event'] == 'error':\n",
    "            self.errors()\n",
    "            self.errors(self)"
   ]
  },
  {
   "cell_type": "code",
   "execution_count": null,
   "metadata": {
    "collapsed": false,
    "extensions": {
     "jupyter_dashboards": {
      "version": 1,
      "views": {
       "grid_default": {
        "hidden": true
       },
       "report_default": {}
      }
     }
    }
   },
   "outputs": [],
   "source": [
    "%%javascript\n",
    "\n",
    "requirejs.undef('filepicker');\n",
    "\n",
    "define('filepicker', [\"jupyter-js-widgets\"], function(widgets) {\n",
    "\n",
    "    var FilePickerView = widgets.DOMWidgetView.extend({\n",
    "\n",
    "        render: function() {\n",
    "            // Render the view.\n",
    "            this.setElement($('<input />')\n",
    "                .attr('type', 'file'));\n",
    "        },\n",
    "\n",
    "        events: {\n",
    "            // List of events and their handlers.\n",
    "            'change': 'handle_file_change',\n",
    "        },\n",
    "\n",
    "        handle_file_change: function(evt) {\n",
    "            // Handle when the user has changed the file.\n",
    "\n",
    "            // Retrieve the first (and only!) File from the FileList object\n",
    "            var file = evt.target.files[0];\n",
    "            if (! file) { \n",
    "                // The file couldn't be opened.  Send an error msg to the\n",
    "                // back-end.\n",
    "                this.send({ 'event': 'error' });\n",
    "                return ;\n",
    "            }\n",
    "            \n",
    "            // check if has 'yml' extension\n",
    "\n",
    "            // Read the file's textual content and set value to those contents.\n",
    "            var that = this;\n",
    "            var file_reader = new FileReader();\n",
    "            file_reader.onload = function(e) {\n",
    "                that.model.set('value', e.target.result);\n",
    "                that.touch();\n",
    "                console.log('sent from client side')\n",
    "            }\n",
    "            file_reader.readAsText(file);\n",
    "\n",
    "            // Set the filename of the file.\n",
    "            this.model.set('filename', file.name);\n",
    "            this.touch();\n",
    "        },\n",
    "    });\n",
    "\n",
    "    return {\n",
    "        FilePickerView: FilePickerView\n",
    "    };\n",
    "});"
   ]
  },
  {
   "cell_type": "markdown",
   "metadata": {
    "extensions": {
     "jupyter_dashboards": {
      "version": 1,
      "views": {
       "grid_default": {
        "col": 4,
        "height": 4,
        "hidden": true,
        "row": 0,
        "width": 4
       },
       "report_default": {}
      }
     }
    }
   },
   "source": [
    "---\n",
    "## Utilities"
   ]
  },
  {
   "cell_type": "code",
   "execution_count": null,
   "metadata": {
    "collapsed": true,
    "extensions": {
     "jupyter_dashboards": {
      "version": 1,
      "views": {
       "grid_default": {
        "hidden": true
       },
       "report_default": {}
      }
     }
    }
   },
   "outputs": [],
   "source": [
    "def get_exam_names():\n",
    "    os.listdir()\n",
    "    _, subdirs, _ = next(os.walk('.'))\n",
    "    return [s[:-5] for s in subdirs if s.endswith('_data')]\n",
    "\n",
    "def observe(widget, **kwargs):\n",
    "    return partial(widget.observe, **kwargs)"
   ]
  },
  {
   "cell_type": "markdown",
   "metadata": {
    "extensions": {
     "jupyter_dashboards": {
      "version": 1,
      "views": {
       "grid_default": {
        "col": 8,
        "height": 4,
        "hidden": true,
        "row": 0,
        "width": 4
       },
       "report_default": {}
      }
     }
    }
   },
   "source": [
    "---\n",
    "## Widget Init"
   ]
  },
  {
   "cell_type": "code",
   "execution_count": null,
   "metadata": {
    "collapsed": false,
    "extensions": {
     "jupyter_dashboards": {
      "version": 1,
      "views": {
       "grid_default": {
        "hidden": true
       },
       "report_default": {}
      }
     }
    }
   },
   "outputs": [],
   "source": [
    "yaml_upload_label = Label(\"Upload YAML\", margin=\"0 10px 0 0\")\n",
    "yaml_upload = FileWidget()\n",
    "yaml_upload_valid = Valid()\n",
    "yaml_upload_status = Label()\n",
    "yaml_upload_box = VBox([HBox([yaml_upload_label, yaml_upload, ]),\n",
    "                        HBox([yaml_upload_status, yaml_upload_valid])])\n",
    "\n",
    "yaml_upload_valid.layout.display = 'none'\n",
    "yaml_upload_valid.layout.margin = \"0 10px\"\n",
    "\n",
    "# Register an event to echo the filename when it has been changed.\n",
    "@observe(yaml_upload, names=\"filename\")\n",
    "def file_loading(change):\n",
    "    yaml_upload.value = ''\n",
    "    yaml_upload_valid.layout.display = 'none'\n",
    "    yaml_upload_status.value = \"Loading \" + yaml_upload.filename\n",
    "\n",
    "# Register an event to echo the filename and contents when a file\n",
    "# has been uploaded.\n",
    "@observe(yaml_upload, names=\"value\")\n",
    "def file_loaded(change):\n",
    "    if yaml_upload.value is None:\n",
    "        return\n",
    "    # validate yaml\n",
    "    yaml_upload_status.value = \"Validating \" + yaml_upload.filename\n",
    "    try:\n",
    "        content = yaml.load(yaml_upload.value)\n",
    "        if not isinstance(content, dict):\n",
    "            raise yaml.error.YAMLError()\n",
    "        test_name, _ = os.path.splitext(yaml_upload.filename)\n",
    "        if content['name'] != test_name:\n",
    "            raise ValueError('Test name does not match YAML filename')\n",
    "    except ValueError as exc:\n",
    "        yaml_upload_valid.value = False\n",
    "        yaml_upload_valid.layout.display = 'inline'\n",
    "        yaml_upload_status.value = str(exc)\n",
    "        return\n",
    "    except Exception:\n",
    "        yaml_upload_valid.value = False\n",
    "        yaml_upload_valid.layout.display = 'inline'\n",
    "        yaml_upload_status.value = \"Invalid YAML in \" + yaml_upload.filename\n",
    "        return\n",
    "\n",
    "\n",
    "    # save yaml\n",
    "    yaml_upload_status.value = \"Saving \" + yaml_upload.filename\n",
    "    try:\n",
    "        with open(yaml_upload.filename, 'w') as f:\n",
    "            f.write(yaml_upload.value)\n",
    "        os.makedirs(test_name + '_data', exist_ok=True)\n",
    "    except Exception:\n",
    "        yaml_upload_valid.value = False\n",
    "        yaml_upload_status.value = \"Failed to save \" + yaml_upload.filename\n",
    "    else:\n",
    "        yaml_upload_valid.value = True\n",
    "        yaml_upload_status.value = \"Saved \" + yaml_upload.filename\n",
    "    finally:\n",
    "        yaml_upload_valid.layout.display = 'inline'\n",
    "        # XXX: use of global variables\n",
    "        # update list of exams\n",
    "        select_exam.options = [None] + get_exam_names()\n",
    "\n",
    "# Register an event to print an error message when a file could not\n",
    "# be opened.  Since the error messages are not handled through\n",
    "# traitlets but instead handled through custom msgs, the registration\n",
    "# of the handler is different than the two examples above.  Instead\n",
    "# the API provided by the CallbackDispatcher must be used.\n",
    "def file_failed():\n",
    "    yaml_upload_valid.value = False\n",
    "    yaml_upload_valid.layout.display = 'inline'\n",
    "    yaml_upload_status.value = 'Could not load file contents of ' + yaml_upload.filename\n",
    "yaml_upload.errors.register_callback(file_failed)"
   ]
  },
  {
   "cell_type": "code",
   "execution_count": null,
   "metadata": {
    "collapsed": false,
    "extensions": {
     "jupyter_dashboards": {
      "version": 1,
      "views": {
       "grid_default": {
        "hidden": true
       },
       "report_default": {}
      }
     }
    }
   },
   "outputs": [],
   "source": [
    "pdf_label = Label(\"Exam PDF URL\", margin=\"7px 10px\")\n",
    "pdf_url = Text()\n",
    "pdf_import = Button(description=\"Import exam data\")\n",
    "pdf_import_box = HBox([pdf_label ,pdf_url, pdf_import])\n",
    "pdf_import_box.layout.display = 'none'"
   ]
  },
  {
   "cell_type": "code",
   "execution_count": null,
   "metadata": {
    "collapsed": false
   },
   "outputs": [],
   "source": [
    "select_exam = Dropdown(description='', options= [None] + get_exam_names())\n",
    "\n",
    "@observe(select_exam, names=\"value\")\n",
    "def _(state):\n",
    "    display = {False: 'none', True: 'inline'}\n",
    "    value = state['new']\n",
    "    yaml_upload_box.layout.display = display[value is None]\n",
    "    pdf_import_box.layout.display = display[value is not None]"
   ]
  },
  {
   "cell_type": "markdown",
   "metadata": {
    "extensions": {
     "jupyter_dashboards": {
      "version": 1,
      "views": {
       "grid_default": {
        "col": 0,
        "height": 4,
        "hidden": true,
        "row": 0,
        "width": 4
       },
       "report_default": {}
      }
     }
    }
   },
   "source": [
    "---\n",
    "## UI Layout"
   ]
  },
  {
   "cell_type": "code",
   "execution_count": null,
   "metadata": {
    "collapsed": false,
    "extensions": {
     "jupyter_dashboards": {
      "version": 1,
      "views": {
       "grid_default": {
        "col": 0,
        "height": 4,
        "hidden": false,
        "row": 0,
        "width": 6
       },
       "report_default": {}
      }
     }
    }
   },
   "outputs": [],
   "source": [
    "select_exam"
   ]
  },
  {
   "cell_type": "code",
   "execution_count": null,
   "metadata": {
    "collapsed": false,
    "extensions": {
     "jupyter_dashboards": {
      "version": 1,
      "views": {
       "grid_default": {
        "col": 0,
        "height": 4,
        "hidden": false,
        "row": 4,
        "width": 6
       },
       "report_default": {}
      }
     }
    }
   },
   "outputs": [],
   "source": [
    "VBox([yaml_upload_box, pdf_import_box])"
   ]
  }
 ],
 "metadata": {
  "anaconda-cloud": {},
  "extensions": {
   "jupyter_dashboards": {
    "activeView": "grid_default",
    "version": 1,
    "views": {
     "grid_default": {
      "cellMargin": 10,
      "defaultCellHeight": 20,
      "maxColumns": 12,
      "name": "grid",
      "type": "grid"
     },
     "report_default": {
      "name": "report",
      "type": "report"
     }
    }
   }
  },
  "kernelspec": {
   "display_name": "Python 3",
   "language": "python",
   "name": "python3"
  },
  "language_info": {
   "codemirror_mode": {
    "name": "ipython",
    "version": 3
   },
   "file_extension": ".py",
   "mimetype": "text/x-python",
   "name": "python",
   "nbconvert_exporter": "python",
   "pygments_lexer": "ipython3",
   "version": "3.5.2"
  }
 },
 "nbformat": 4,
 "nbformat_minor": 2
}
