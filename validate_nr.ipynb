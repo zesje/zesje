{
 "cells": [
  {
   "cell_type": "code",
   "execution_count": null,
   "metadata": {
    "collapsed": true
   },
   "outputs": [],
   "source": [
    "from itertools import starmap\n",
    "from functools import partial\n",
    "from collections import namedtuple\n",
    "import re\n",
    "import datetime\n",
    "\n",
    "from IPython import display\n",
    "import traitlets\n",
    "from ipywidgets import Button, Text, SelectMultiple, HBox, VBox, Textarea, Image, Label, HTML, Dropdown, IntProgress\n",
    "import pandas\n",
    "import jinja2\n",
    "from pony import orm"
   ]
  },
  {
   "cell_type": "code",
   "execution_count": null,
   "metadata": {
    "extensions": {
     "jupyter_dashboards": {
      "version": 1,
      "views": {
       "grid_default": {
        "col": 0,
        "height": 4,
        "hidden": true,
        "row": 0,
        "width": 12
       },
       "report_default": {
        "hidden": true
       }
      }
     }
    }
   },
   "outputs": [],
   "source": [
    "import db\n",
    "db.use_db('course.sqlite')"
   ]
  },
  {
   "cell_type": "code",
   "execution_count": null,
   "metadata": {
    "extensions": {
     "jupyter_dashboards": {
      "version": 1,
      "views": {
       "grid_default": {
        "hidden": true
       },
       "report_default": {
        "hidden": true
       }
      }
     }
    }
   },
   "outputs": [],
   "source": [
    "### Javascript kludges to add autocompletion to text boxes and enable multiple selections\n",
    "\n",
    "autocomplete = jinja2.Template(\"\"\"\n",
    "  $( function() {\n",
    "    var availableTags = [\n",
    "    {%- for option in options %}\n",
    "        \"{{ option }}\",\n",
    "    {%- endfor %}\n",
    "    ];\n",
    "    $( \":input[{{ selector }}]\" ).autocomplete({\n",
    "      minLength: 3,\n",
    "      source: availableTags\n",
    "    });\n",
    "  } );\n",
    "\"\"\")"
   ]
  },
  {
   "cell_type": "markdown",
   "metadata": {
    "extensions": {
     "jupyter_dashboards": {
      "version": 1,
      "views": {
       "grid_default": {
        "col": 0,
        "height": 4,
        "hidden": true,
        "row": 13,
        "width": 4
       },
       "report_default": {}
      }
     }
    }
   },
   "source": [
    "# Widget definitions"
   ]
  },
  {
   "cell_type": "code",
   "execution_count": null,
   "metadata": {},
   "outputs": [],
   "source": [
    "### Views -- all the individual widgets and UI state\n",
    "\n",
    "class AppState(traitlets.HasTraits):\n",
    "    # Immutable\n",
    "    students = traitlets.List(traitlets.Unicode(), read_only=True)\n",
    "    exams = traitlets.List(traitlets.Unicode(), read_only=True)\n",
    "\n",
    "    exam_id = traitlets.Integer()\n",
    "\n",
    "    submission_id = traitlets.Integer()\n",
    "    student = traitlets.Unicode()\n",
    "    email = traitlets.Unicode()\n",
    "\n",
    "    # --- Defaults and validation ---\n",
    "    ## students\n",
    "    @traitlets.default('students')\n",
    "    def _default_students(self):\n",
    "        with orm.db_session:\n",
    "            return tuple(starmap('{}, {}, {}'.format,\n",
    "                                 orm.select((s.id, s.first_name, s.last_name)\n",
    "                                            for s in db.Student)))\n",
    "    \n",
    "    ## exams\n",
    "    @traitlets.default('exams')\n",
    "    def _default_exams(self):\n",
    "        with orm.db_session:\n",
    "            exams = orm.select(e for e in db.Exam).order_by(lambda e: e.id)\n",
    "            return list(e.name for e in exams)\n",
    "\n",
    "    ## exam_id\n",
    "    @traitlets.default('exam_id')\n",
    "    def _default_exam_id(self):\n",
    "        with orm.db_session:\n",
    "            return db.Exam.select().first().id\n",
    "\n",
    "    @traitlets.validate('exam_id')\n",
    "    def _valid_exam(self, proposal):\n",
    "        with orm.db_session():\n",
    "            if db.Exam.get(id=proposal['value']) is None:\n",
    "                raise traitlets.TraitError('Unknown exam id.')\n",
    "        return proposal['value']\n",
    "\n",
    "    ## submission_id\n",
    "    @traitlets.default('submission_id')\n",
    "    def _default_submission_id(self):\n",
    "        with orm.db_session:\n",
    "            sid = (orm.select(s.id for s in db.Submission\n",
    "                             if s.exam.id == self.exam_id)\n",
    "                      .order_by(lambda x:x)\n",
    "                      .first())\n",
    "            return sid\n",
    "\n",
    "    @traitlets.validate('submission_id')\n",
    "    def _valid_submission_id(self, proposal):\n",
    "        with orm.db_session():\n",
    "            sub = db.Submission.get(id=proposal['value'])\n",
    "            if sub is None:\n",
    "                raise traitlets.TraitError('Unknown submission id.')\n",
    "            if sub.exam.id != self.exam_id:\n",
    "                raise traitlets.TraitError('Submission from a different exam.')\n",
    "        return proposal['value']\n",
    "    \n",
    "    @traitlets.default('student')\n",
    "    def _default_student(self, sid=None):\n",
    "        sid = sid or self.submission_id\n",
    "        with orm.db_session:\n",
    "            stud = db.Submission[sid].student\n",
    "            if stud is None:\n",
    "                return ''\n",
    "\n",
    "            return '{}, {}, {}'.format(stud.id, stud.first_name, stud.last_name)\n",
    "    \n",
    "    @traitlets.default('email')\n",
    "    def _default_email(self):\n",
    "        match = re.match(r'(\\d{7}), (.+), (.+)', self.student)\n",
    "        if match is None:\n",
    "            return ''\n",
    "        else:\n",
    "            number, *_ = match.groups()\n",
    "\n",
    "        with orm.db_session:\n",
    "            stud = db.Student.get(id=int(number))\n",
    "            if stud is not None:\n",
    "                return stud.email or ''\n",
    "            return ''\n",
    "\n",
    "    ## --- Trait relations ---\n",
    "    @traitlets.observe('exam_id')\n",
    "    def _change_exam(self, change):\n",
    "        self.commit_student()\n",
    "        self.submission_id = self._default_submission_id()\n",
    "\n",
    "    @traitlets.observe('submission_id')\n",
    "    def commit_student(self, change=None):\n",
    "        if not self.student:\n",
    "            return\n",
    "        if change is None:\n",
    "            sid = self.submission_id\n",
    "        else:\n",
    "            sid = change['old']\n",
    "        # Parse the student entry\n",
    "        student_nr, first_name, last_name = re.match(r'(\\d{7}), (.+), (.+)',\n",
    "                                                     self.student).groups()\n",
    "        first_name = first_name.strip()\n",
    "        last_name = last_name.strip()\n",
    "        email = self.email.strip()\n",
    "        with orm.db_session:\n",
    "            stud = db.Student.get(id=int(student_nr)) or\\\n",
    "                   db.Student(id=student_nr, first_name=first_name, last_name=last_name)\n",
    "            if stud.email is None:\n",
    "                stud.email = email\n",
    "\n",
    "            db.Submission[sid].student = stud\n",
    "\n",
    "        self.student = self._default_student(change and change['new'])\n",
    "        \n",
    "    @traitlets.observe('student')\n",
    "    def _update_email(self, change):\n",
    "        self.email = self._default_email()\n",
    "\n",
    "    ## --- Navigation ---\n",
    "    def exam_to_id(self, exam_name):\n",
    "        with orm.db_session:\n",
    "            exam = db.Exam.get(name=exam_name)\n",
    "            if not exam:\n",
    "                raise ValueError('No exam {}'.format(exam_name))\n",
    "            return exam.id\n",
    "    \n",
    "    def next_submission(self, *_):\n",
    "        with orm.db_session:\n",
    "            subs = orm.select(s.id for s in db.Submission\n",
    "                              if s.exam.id == self.exam_id\n",
    "                                 and s.id > self.submission_id)\n",
    "            result = subs.order_by(lambda x: x).first()\n",
    "            if result is None:\n",
    "                self.submission_id = self._default_submission_id()\n",
    "            else:\n",
    "                self.submission_id = result\n",
    "\n",
    "    def previous_submission(self, *_):\n",
    "        with orm.db_session:\n",
    "            subs = orm.select(s.id for s in db.Submission\n",
    "                              if s.exam.id == self.exam_id\n",
    "                                 and s.id < self.submission_id)\n",
    "\n",
    "            result = subs.order_by(lambda x: -x).first()\n",
    "            if result is None:\n",
    "                subs = orm.select(s.id for s in db.Submission\n",
    "                                  if s.exam.id == self.exam_id)\n",
    "                result = subs.order_by(lambda x: -x).first()\n",
    "\n",
    "            self.submission_id = result\n",
    "\n",
    "    def signature_image(self, sub_id):\n",
    "        with orm.db_session:\n",
    "            path = db.Submission[sub_id].signature_image_path\n",
    "        with open(path, 'rb') as f:\n",
    "            image = f.read()\n",
    "        \n",
    "        return image\n",
    "    \n",
    "    def submissions_number(self, exam_id=None):\n",
    "        with orm.db_session:\n",
    "            return orm.count(db.Submission.select(lambda s: s.exam.id == (exam_id and self.exam_id)))\n",
    "\n",
    "    def progress(self, sid=None):\n",
    "        with orm.db_session:\n",
    "            return orm.count(db.Submission.select(lambda s: s.exam.id == self.exam_id\n",
    "                                                            and s.id < (sid and self.submission_id)))\n",
    "\n",
    "\n",
    "state = AppState()\n",
    "\n",
    "def is_not_student(student):\n",
    "    try:\n",
    "        student_nr, first_name, last_name = re.match(r'(\\d{7}), (.+), (.+)',\n",
    "                                                     student).groups()\n",
    "        return False\n",
    "    except AttributeError:\n",
    "        return True\n",
    "\n",
    "\n",
    "exam = Dropdown(options=state.exams, value=db.Exam[state.exam_id].name)\n",
    "traitlets.directional_link((exam, 'value'), (state, 'exam_id'), state.exam_to_id)\n",
    "traitlets.directional_link((state, 'student'), (exam, 'disabled'), is_not_student)\n",
    "\n",
    "\n",
    "prev_nr = Button(icon='fa-step-backward', description=' previous')\n",
    "prev_nr.on_click(state.previous_submission)\n",
    "traitlets.directional_link((state, 'student'), (prev_nr, 'disabled'), is_not_student)\n",
    "\n",
    "next_nr = Button(icon='fa-step-forward', description=' next')\n",
    "next_nr.on_click(state.next_submission)\n",
    "traitlets.directional_link((state, 'student'), (next_nr, 'disabled'), is_not_student)\n",
    "\n",
    "student_info = Text(placeholder='number, first, last')\n",
    "traitlets.link((state, 'student'), (student_info, 'value'))\n",
    "\n",
    "email_info = Text(placeholder='email')\n",
    "traitlets.link((state, 'email'), (email_info, 'value'))\n",
    "\n",
    "signature = Image(format='png', width='100%')\n",
    "traitlets.directional_link((state, 'submission_id'), (signature, 'value'), state.signature_image)\n",
    "\n",
    "number_progress = IntProgress(\n",
    "    min=0,\n",
    "    step=1,\n",
    "    description='Progress:',\n",
    "    bar_style='success',\n",
    "    orientation='horizontal',\n",
    ")\n",
    "traitlets.directional_link((state, 'exam_id'), (number_progress, 'max'), state.submissions_number)\n",
    "traitlets.directional_link((state, 'submission_id'), (number_progress, 'value'), state.progress);"
   ]
  },
  {
   "cell_type": "markdown",
   "metadata": {
    "extensions": {
     "jupyter_dashboards": {
      "version": 1,
      "views": {
       "grid_default": {
        "col": 8,
        "height": 4,
        "hidden": true,
        "row": 13,
        "width": 4
       },
       "report_default": {}
      }
     }
    }
   },
   "source": [
    "# Layout"
   ]
  },
  {
   "cell_type": "code",
   "execution_count": null,
   "metadata": {
    "extensions": {
     "jupyter_dashboards": {
      "version": 1,
      "views": {
       "grid_default": {
        "col": 0,
        "height": 2,
        "hidden": false,
        "row": 2,
        "width": 12
       },
       "report_default": {}
      }
     }
    }
   },
   "outputs": [],
   "source": [
    "HBox([exam, prev_nr, student_info, email_info, next_nr])"
   ]
  },
  {
   "cell_type": "code",
   "execution_count": null,
   "metadata": {
    "extensions": {
     "jupyter_dashboards": {
      "version": 1,
      "views": {
       "grid_default": {
        "col": 0,
        "height": 16,
        "hidden": false,
        "row": 4,
        "width": 12
       },
       "report_default": {}
      }
     }
    }
   },
   "outputs": [],
   "source": [
    "signature"
   ]
  },
  {
   "cell_type": "code",
   "execution_count": null,
   "metadata": {
    "extensions": {
     "jupyter_dashboards": {
      "version": 1,
      "views": {
       "grid_default": {
        "col": 0,
        "height": 2,
        "hidden": false,
        "row": 0,
        "width": 4
       },
       "report_default": {}
      }
     }
    }
   },
   "outputs": [],
   "source": [
    "number_progress"
   ]
  },
  {
   "cell_type": "code",
   "execution_count": null,
   "metadata": {
    "extensions": {
     "jupyter_dashboards": {
      "version": 1,
      "views": {
       "grid_default": {
        "col": 0,
        "height": 2,
        "hidden": false,
        "row": 20,
        "width": 1
       },
       "report_default": {}
      }
     }
    }
   },
   "outputs": [],
   "source": [
    "# apply javascript kludges\n",
    "# must trigger after the widgets were rendered\n",
    "\n",
    "selector = \"placeholder='{}'\".format(student_info.placeholder)\n",
    "display.display_javascript(display.Javascript(autocomplete.render(selector=selector, options=state.students)))"
   ]
  }
 ],
 "metadata": {
  "anaconda-cloud": {},
  "extensions": {
   "jupyter_dashboards": {
    "activeView": "grid_default",
    "version": 1,
    "views": {
     "grid_default": {
      "cellMargin": 10,
      "defaultCellHeight": 20,
      "maxColumns": 12,
      "name": "grid",
      "type": "grid"
     },
     "report_default": {
      "name": "report",
      "type": "report"
     }
    }
   }
  },
  "kernelspec": {
   "display_name": "Python 3",
   "language": "python",
   "name": "python3"
  },
  "language_info": {
   "codemirror_mode": {
    "name": "ipython",
    "version": 3
   },
   "file_extension": ".py",
   "mimetype": "text/x-python",
   "name": "python",
   "nbconvert_exporter": "python",
   "pygments_lexer": "ipython3",
   "version": "3.5.2"
  }
 },
 "nbformat": 4,
 "nbformat_minor": 2
}
