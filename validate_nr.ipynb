{
 "cells": [
  {
   "cell_type": "code",
   "execution_count": null,
   "metadata": {
    "collapsed": false,
    "deletable": true,
    "editable": true,
    "extensions": {
     "jupyter_dashboards": {
      "version": 1,
      "views": {
       "grid_default": {
        "col": 0,
        "height": 4,
        "hidden": true,
        "row": 0,
        "width": 12
       },
       "report_default": {
        "hidden": true
       }
      }
     }
    }
   },
   "outputs": [],
   "source": [
    "from itertools import starmap\n",
    "from functools import partial\n",
    "from collections import namedtuple\n",
    "import re\n",
    "import datetime\n",
    "\n",
    "from IPython import display\n",
    "from ipywidgets import Button, Text, SelectMultiple, HBox, VBox, Textarea, Image, Label, HTML, Dropdown, IntProgress\n",
    "import pandas\n",
    "import jinja2\n",
    "from pony import orm\n",
    "\n",
    "import db\n",
    "db.use_db('minitest1_data/minitest1.sqlite')"
   ]
  },
  {
   "cell_type": "code",
   "execution_count": null,
   "metadata": {
    "collapsed": false,
    "deletable": true,
    "editable": true,
    "extensions": {
     "jupyter_dashboards": {
      "version": 1,
      "views": {
       "grid_default": {
        "hidden": true
       },
       "report_default": {
        "hidden": true
       }
      }
     }
    }
   },
   "outputs": [],
   "source": [
    "### Javascript kludges to add autocompletion to text boxes and enable multiple selections\n",
    "\n",
    "autocomplete = jinja2.Template(\"\"\"\n",
    "  $( function() {\n",
    "    var availableTags = [\n",
    "    {%- for option in options %}\n",
    "        \"{{ option }}\",\n",
    "    {%- endfor %}\n",
    "    ];\n",
    "    $( \":input[{{ selector }}]\" ).autocomplete({\n",
    "      minLength: 3,\n",
    "      source: availableTags\n",
    "    });\n",
    "  } );\n",
    "\"\"\")"
   ]
  },
  {
   "cell_type": "markdown",
   "metadata": {
    "deletable": true,
    "editable": true,
    "extensions": {
     "jupyter_dashboards": {
      "version": 1,
      "views": {
       "grid_default": {
        "col": 0,
        "height": 4,
        "hidden": true,
        "row": 13,
        "width": 4
       },
       "report_default": {}
      }
     }
    }
   },
   "source": [
    "# Widget definitions"
   ]
  },
  {
   "cell_type": "code",
   "execution_count": null,
   "metadata": {
    "collapsed": false,
    "deletable": true,
    "editable": true,
    "extensions": {
     "jupyter_dashboards": {
      "version": 1,
      "views": {
       "grid_default": {
        "col": 0,
        "height": 8,
        "hidden": true,
        "row": 4,
        "width": 8
       },
       "report_default": {
        "hidden": false
       }
      }
     }
    }
   },
   "outputs": [],
   "source": [
    "### Views -- all the individual widgets and UI state\n",
    "\n",
    "## Immutable app state\n",
    "with orm.db_session:\n",
    "    n_submissions = db.Submission.select().count()\n",
    "    submissions = list(db.Submission.select())\n",
    "    students = tuple(starmap('{}, {}, {}'.format, orm.select((s.id, s.first_name, s.last_name)\n",
    "                                                             for s in db.Student)))\n",
    "\n",
    "## Mutable app state\n",
    "\n",
    "# the solution that we are pointing to\n",
    "submission_index = 0\n",
    "\n",
    "prev_nr = Button(icon='fa-step-backward', description=' previous')\n",
    "next_nr = Button(icon='fa-step-forward', description=' next')\n",
    "student_info = Text(placeholder='number, first, last')\n",
    "email_info = Text(placeholder='email')\n",
    "signature = Image(format='png', width='100%')\n",
    "\n",
    "number_progress = IntProgress(\n",
    "    value=0,\n",
    "    min=0,\n",
    "    max=n_submissions,\n",
    "    step=1,\n",
    "    description='Progress:',\n",
    "    bar_style='success',\n",
    "    orientation='horizontal',\n",
    ")"
   ]
  },
  {
   "cell_type": "markdown",
   "metadata": {
    "deletable": true,
    "editable": true,
    "extensions": {
     "jupyter_dashboards": {
      "version": 1,
      "views": {
       "grid_default": {
        "col": 4,
        "height": 4,
        "hidden": true,
        "row": 13,
        "width": 4
       },
       "report_default": {}
      }
     }
    }
   },
   "source": [
    "# Widget behaviour"
   ]
  },
  {
   "cell_type": "code",
   "execution_count": null,
   "metadata": {
    "collapsed": false,
    "deletable": true,
    "editable": true,
    "extensions": {
     "jupyter_dashboards": {
      "version": 1,
      "views": {
       "grid_default": {
        "hidden": true
       },
       "report_default": {
        "hidden": true
       }
      }
     }
    }
   },
   "outputs": [],
   "source": [
    "### Controllers  -- hooking views (widgets) up to models\n",
    "\n",
    "## Utilities\n",
    "\n",
    "def observe(widget, **kwargs):\n",
    "    return partial(widget.observe, **kwargs)\n",
    "\n",
    "def add_option(target, value):\n",
    "    with target.hold_trait_notifications():\n",
    "        target.options = target.options + [value]\n",
    "\n",
    "def load_image(path):\n",
    "    with open(path, 'rb') as f:\n",
    "        return f.read()\n",
    "\n",
    "# rendering\n",
    "def render_signature():\n",
    "    global submission_index\n",
    "    submission = submissions[submission_index]\n",
    "    with orm.db_session:\n",
    "        student = db.Submission.get(id=submission.id).student\n",
    "\n",
    "    # update the UI state\n",
    "    if student:\n",
    "        student_info.value = ', '.join([str(student.id), \n",
    "                                        student.first_name, \n",
    "                                        student.last_name])\n",
    "        email_info.value = student.email or ''\n",
    "    else:\n",
    "        student_info.value = email_info.value = ''\n",
    "\n",
    "    number_progress.value = submission_index\n",
    "    \n",
    "    # Handle submissions without signature images\n",
    "    try:\n",
    "        signature.value = load_image(submission.signature_image_path)\n",
    "    except FileNotFoundError:\n",
    "        submission_index += 1\n",
    "        submission_index %= n_submissions\n",
    "        render_signature()\n",
    "        \n",
    "\n",
    "\n",
    "# save the updated data\n",
    "def update_data():\n",
    "    # Parse the student entry\n",
    "    student_nr, first_name, last_name = re.match(r'(\\d{7}), (.+), (.+)',\n",
    "                                                 student_info.value).groups()\n",
    "    first_name = first_name.strip()\n",
    "    last_name = last_name.strip()\n",
    "    email = email_info.value.strip()\n",
    "\n",
    "    with orm.db_session:\n",
    "        # Update students if a new student\n",
    "        stud = db.Student.get(id=int(student_nr)) or\\\n",
    "               db.Student(id=student_nr, first_name=first_name, last_name=last_name)\n",
    "               \n",
    "        if email:\n",
    "            stud.email = email\n",
    "        # Update submission\n",
    "        submission = db.Submission.get(id=submissions[submission_index].id)\n",
    "        submission.student = stud\n",
    "\n",
    "\n",
    "def save_then_render(callback):\n",
    "    def _(sender):\n",
    "        update_data()\n",
    "        callback(sender)\n",
    "        render_signature()\n",
    "    \n",
    "    return _\n",
    "\n",
    "## actual controllers - abusing decorator syntax FTW!\n",
    "\n",
    "@prev_nr.on_click\n",
    "@save_then_render\n",
    "def _(sender):\n",
    "    global submission_index\n",
    "    submission_index -= 1\n",
    "    submission_index %= n_submissions\n",
    "\n",
    "\n",
    "@next_nr.on_click\n",
    "@save_then_render\n",
    "def _(sender):\n",
    "    global submission_index\n",
    "    submission_index += 1\n",
    "    submission_index %= n_submissions\n",
    "\n",
    "\n",
    "@observe(student_info, names=\"value\")\n",
    "def ensure_format(state):\n",
    "    info = state['new']\n",
    "    match = re.match(r'(\\d{7}), (.+), (.+)', info)\n",
    "    if match is None:\n",
    "        prev_nr.disabled = next_nr.disabled = email_info.disabled = True\n",
    "    else:\n",
    "        prev_nr.disabled = next_nr.disabled = email_info.disabled = False\n",
    "\n",
    "        # also update the email\n",
    "        with orm.db_session:\n",
    "            student = db.Student.get(id=int(match.group(1)))\n",
    "\n",
    "        if student:\n",
    "            email_info.value = student.email or ''"
   ]
  },
  {
   "cell_type": "markdown",
   "metadata": {
    "deletable": true,
    "editable": true,
    "extensions": {
     "jupyter_dashboards": {
      "version": 1,
      "views": {
       "grid_default": {
        "col": 8,
        "height": 4,
        "hidden": true,
        "row": 13,
        "width": 4
       },
       "report_default": {}
      }
     }
    }
   },
   "source": [
    "# Layout"
   ]
  },
  {
   "cell_type": "code",
   "execution_count": null,
   "metadata": {
    "collapsed": false,
    "deletable": true,
    "editable": true,
    "extensions": {
     "jupyter_dashboards": {
      "version": 1,
      "views": {
       "grid_default": {
        "col": 0,
        "height": 8,
        "hidden": true,
        "row": 4,
        "width": 12
       },
       "report_default": {
        "hidden": false
       }
      }
     }
    }
   },
   "outputs": [],
   "source": [
    "render_signature()"
   ]
  },
  {
   "cell_type": "code",
   "execution_count": null,
   "metadata": {
    "collapsed": true,
    "deletable": true,
    "editable": true,
    "extensions": {
     "jupyter_dashboards": {
      "version": 1,
      "views": {
       "grid_default": {
        "col": 0,
        "height": 2,
        "hidden": false,
        "row": 2,
        "width": 12
       },
       "report_default": {}
      }
     }
    }
   },
   "outputs": [],
   "source": [
    "HBox([prev_nr, student_info, email_info, next_nr])"
   ]
  },
  {
   "cell_type": "code",
   "execution_count": null,
   "metadata": {
    "collapsed": false,
    "deletable": true,
    "editable": true,
    "extensions": {
     "jupyter_dashboards": {
      "version": 1,
      "views": {
       "grid_default": {
        "col": 0,
        "height": 16,
        "hidden": false,
        "row": 4,
        "width": 12
       },
       "report_default": {}
      }
     }
    }
   },
   "outputs": [],
   "source": [
    "signature"
   ]
  },
  {
   "cell_type": "code",
   "execution_count": null,
   "metadata": {
    "collapsed": true,
    "deletable": true,
    "editable": true,
    "extensions": {
     "jupyter_dashboards": {
      "version": 1,
      "views": {
       "grid_default": {
        "col": 0,
        "height": 2,
        "hidden": false,
        "row": 0,
        "width": 4
       },
       "report_default": {}
      }
     }
    }
   },
   "outputs": [],
   "source": [
    "number_progress"
   ]
  },
  {
   "cell_type": "code",
   "execution_count": null,
   "metadata": {
    "collapsed": false,
    "deletable": true,
    "editable": true,
    "extensions": {
     "jupyter_dashboards": {
      "version": 1,
      "views": {
       "grid_default": {
        "col": 0,
        "height": 2,
        "hidden": false,
        "row": 20,
        "width": 1
       },
       "report_default": {}
      }
     }
    }
   },
   "outputs": [],
   "source": [
    "# apply javascript kludges\n",
    "# must trigger after the widgets were rendered\n",
    "\n",
    "selector = \"placeholder='{}'\".format(student_info.placeholder)\n",
    "display.display_javascript(display.Javascript(autocomplete.render(selector=selector, options=students)))"
   ]
  },
  {
   "cell_type": "code",
   "execution_count": null,
   "metadata": {
    "collapsed": true
   },
   "outputs": [],
   "source": [
    "with orm.db_session:\n",
    "    sub = db.Submission.get(id=44)"
   ]
  },
  {
   "cell_type": "code",
   "execution_count": null,
   "metadata": {
    "collapsed": true
   },
   "outputs": [],
   "source": [
    "sub"
   ]
  },
  {
   "cell_type": "code",
   "execution_count": null,
   "metadata": {
    "collapsed": false
   },
   "outputs": [],
   "source": [
    "db.Submission.get(id=1).student"
   ]
  }
 ],
 "metadata": {
  "anaconda-cloud": {},
  "extensions": {
   "jupyter_dashboards": {
    "activeView": "grid_default",
    "version": 1,
    "views": {
     "grid_default": {
      "cellMargin": 10,
      "defaultCellHeight": 20,
      "maxColumns": 12,
      "name": "grid",
      "type": "grid"
     },
     "report_default": {
      "name": "report",
      "type": "report"
     }
    }
   }
  },
  "kernelspec": {
   "display_name": "Python 3",
   "language": "python",
   "name": "python3"
  },
  "language_info": {
   "codemirror_mode": {
    "name": "ipython",
    "version": 3
   },
   "file_extension": ".py",
   "mimetype": "text/x-python",
   "name": "python",
   "nbconvert_exporter": "python",
   "pygments_lexer": "ipython3",
   "version": "3.5.2"
  },
  "widgets": {
   "state": {
    "9b7ec689fac4484b8359499dcd5cb01d": {
     "views": [
      {
       "cell_index": 8
      }
     ]
    }
   },
   "version": "1.2.0"
  }
 },
 "nbformat": 4,
 "nbformat_minor": 2
}
